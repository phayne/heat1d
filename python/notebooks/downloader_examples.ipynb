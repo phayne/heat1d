{
 "cells": [
  {
   "cell_type": "code",
   "execution_count": 1,
   "metadata": {},
   "outputs": [],
   "source": [
    "from heat1d.data import L3DivData"
   ]
  },
  {
   "cell_type": "markdown",
   "metadata": {},
   "source": [
    "Use without cycle but with a year to get the folder URL:"
   ]
  },
  {
   "cell_type": "code",
   "execution_count": 2,
   "metadata": {},
   "outputs": [
    {
     "name": "stderr",
     "output_type": "stream",
     "text": [
      "/u/paige/maye/src/heat1d/python/heat1d/data.py:34: UserWarning: Set `year` for getting a correct folder URL.\n",
      "  warnings.warn(\"Set `year` for getting a correct folder URL.\")\n"
     ]
    }
   ],
   "source": [
    "l3 = L3DivData()  # get a warning when no year is set"
   ]
  },
  {
   "cell_type": "code",
   "execution_count": 3,
   "metadata": {},
   "outputs": [],
   "source": [
    "l3 = L3DivData(year=2011)"
   ]
  },
  {
   "cell_type": "markdown",
   "metadata": {},
   "source": [
    "Get a clickable URL to the year folder:"
   ]
  },
  {
   "cell_type": "code",
   "execution_count": 4,
   "metadata": {},
   "outputs": [
    {
     "data": {
      "text/plain": [
       "URL('https://pds-geosciences.wustl.edu/lro/lro-l-dlre-4-rdr-v1/lrodlr_1001/data/gdr_l3/2011/cylindrical/jp2')"
      ]
     },
     "execution_count": 4,
     "metadata": {},
     "output_type": "execute_result"
    }
   ],
   "source": [
    "l3.folder_url"
   ]
  },
  {
   "cell_type": "markdown",
   "metadata": {},
   "source": [
    "If you know the cycle, get the URLs to the file and label:"
   ]
  },
  {
   "cell_type": "code",
   "execution_count": 14,
   "metadata": {},
   "outputs": [],
   "source": [
    "l3 = L3DivData(cycle=20100523)"
   ]
  },
  {
   "cell_type": "code",
   "execution_count": 15,
   "metadata": {},
   "outputs": [
    {
     "data": {
      "text/plain": [
       "URL('https://pds-geosciences.wustl.edu/lro/lro-l-dlre-4-rdr-v1/lrodlr_1001/data/gdr_l3/2010/cylindrical/jp2/dgdr_st_clc_cyl_20100523n_128_jp2.lbl')"
      ]
     },
     "execution_count": 15,
     "metadata": {},
     "output_type": "execute_result"
    }
   ],
   "source": [
    "l3.label_url"
   ]
  },
  {
   "cell_type": "code",
   "execution_count": 16,
   "metadata": {},
   "outputs": [
    {
     "data": {
      "text/plain": [
       "URL('https://pds-geosciences.wustl.edu/lro/lro-l-dlre-4-rdr-v1/lrodlr_1001/data/gdr_l3/2010/cylindrical/jp2/dgdr_st_clc_cyl_20100523n_128_jp2.jp2')"
      ]
     },
     "execution_count": 16,
     "metadata": {},
     "output_type": "execute_result"
    }
   ],
   "source": [
    "l3.data_url"
   ]
  },
  {
   "cell_type": "code",
   "execution_count": 17,
   "metadata": {},
   "outputs": [
    {
     "data": {
      "application/vnd.jupyter.widget-view+json": {
       "model_id": "be0d4c0568124229af66ad4f843ab10b",
       "version_major": 2,
       "version_minor": 0
      },
      "text/plain": [
       "HBox(children=(HTML(value='dgdr_st_clc_cyl_20100523n_128_jp2.lbl'), FloatProgress(value=0.0, max=2410.0), HTML…"
      ]
     },
     "metadata": {},
     "output_type": "display_data"
    },
    {
     "name": "stdout",
     "output_type": "stream",
     "text": [
      "\n"
     ]
    }
   ],
   "source": [
    "l3.download_label(\"/luna4/maye/l3_data\")"
   ]
  },
  {
   "cell_type": "code",
   "execution_count": 19,
   "metadata": {},
   "outputs": [
    {
     "data": {
      "application/vnd.jupyter.widget-view+json": {
       "model_id": "79ae62e3e0c4439ab71241dc62a7a03b",
       "version_major": 2,
       "version_minor": 0
      },
      "text/plain": [
       "HBox(children=(HTML(value='dgdr_st_clc_cyl_20100523n_128_jp2.jp2'), FloatProgress(value=0.0, max=108634292.0),…"
      ]
     },
     "metadata": {},
     "output_type": "display_data"
    },
    {
     "name": "stdout",
     "output_type": "stream",
     "text": [
      "\n"
     ]
    }
   ],
   "source": [
    "l3.download_data(overwrite=True)"
   ]
  },
  {
   "cell_type": "code",
   "execution_count": 20,
   "metadata": {},
   "outputs": [],
   "source": [
    "fname = \"/u/paige/maye/src/heat1d/python/heat1d/data/div_mapcycles_RA.txt\"\n",
    "\n",
    "cycles = pd.read_table(fname, header=None, squeeze=True)"
   ]
  },
  {
   "cell_type": "code",
   "execution_count": 9,
   "metadata": {},
   "outputs": [],
   "source": [
    "from tqdm.auto import tqdm"
   ]
  },
  {
   "cell_type": "code",
   "execution_count": 10,
   "metadata": {},
   "outputs": [],
   "source": [
    "def download_cycle(c):\n",
    "    l3 = L3DivData(cycle=c)\n",
    "    d = {}\n",
    "    d['c'] = c\n",
    "    try:\n",
    "        l3.download_data()\n",
    "    except:\n",
    "        d['success'] = False\n",
    "    else:\n",
    "        d['success'] = True\n",
    "    return d"
   ]
  },
  {
   "cell_type": "code",
   "execution_count": 19,
   "metadata": {},
   "outputs": [
    {
     "name": "stdout",
     "output_type": "stream",
     "text": [
      "File exists, use `overwrite=True` to force download.\n",
      "File exists, use `overwrite=True` to force download.\n",
      "File exists, use `overwrite=True` to force download.\n",
      "File exists, use `overwrite=True` to force download.\n",
      "File exists, use `overwrite=True` to force download.\n",
      "File exists, use `overwrite=True` to force download.\n",
      "File exists, use `overwrite=True` to force download.\n",
      "File exists, use `overwrite=True` to force download.\n",
      "File exists, use `overwrite=True` to force download.\n",
      "File exists, use `overwrite=True` to force download.\n",
      "File exists, use `overwrite=True` to force download.\n",
      "File exists, use `overwrite=True` to force download.\n",
      "File exists, use `overwrite=True` to force download.\n",
      "File exists, use `overwrite=True` to force download.\n",
      "File exists, use `overwrite=True` to force download.\n",
      "File exists, use `overwrite=True` to force download.\n",
      "File exists, use `overwrite=True` to force download.\n",
      "File exists, use `overwrite=True` to force download.\n",
      "File exists, use `overwrite=True` to force download.\n",
      "File exists, use `overwrite=True` to force download.\n",
      "File exists, use `overwrite=True` to force download.\n",
      "File exists, use `overwrite=True` to force download.\n",
      "File exists, use `overwrite=True` to force download.\n",
      "File exists, use `overwrite=True` to force download.\n",
      "File exists, use `overwrite=True` to force download.\n",
      "File exists, use `overwrite=True` to force download.\n",
      "File exists, use `overwrite=True` to force download.\n",
      "File exists, use `overwrite=True` to force download.\n",
      "File exists, use `overwrite=True` to force download.\n",
      "File exists, use `overwrite=True` to force download.\n",
      "File exists, use `overwrite=True` to force download.\n",
      "File exists, use `overwrite=True` to force download.\n",
      "File exists, use `overwrite=True` to force download.\n",
      "File exists, use `overwrite=True` to force download.\n",
      "File exists, use `overwrite=True` to force download.\n",
      "File exists, use `overwrite=True` to force download.\n",
      "File exists, use `overwrite=True` to force download.\n",
      "File exists, use `overwrite=True` to force download.\n",
      "File exists, use `overwrite=True` to force download.\n",
      "File exists, use `overwrite=True` to force download.\n",
      "File exists, use `overwrite=True` to force download.\n",
      "File exists, use `overwrite=True` to force download.\n",
      "File exists, use `overwrite=True` to force download.\n",
      "File exists, use `overwrite=True` to force download.\n",
      "File exists, use `overwrite=True` to force download.\n",
      "File exists, use `overwrite=True` to force download.\n",
      "File exists, use `overwrite=True` to force download.\n",
      "File exists, use `overwrite=True` to force download.\n",
      "File exists, use `overwrite=True` to force download.\n",
      "File exists, use `overwrite=True` to force download.\n",
      "File exists, use `overwrite=True` to force download.\n",
      "File exists, use `overwrite=True` to force download.\n",
      "File exists, use `overwrite=True` to force download.\n",
      "File exists, use `overwrite=True` to force download.\n",
      "File exists, use `overwrite=True` to force download.\n",
      "File exists, use `overwrite=True` to force download.\n",
      "File exists, use `overwrite=True` to force download.\n",
      "File exists, use `overwrite=True` to force download.\n",
      "File exists, use `overwrite=True` to force download.\n",
      "File exists, use `overwrite=True` to force download.\n",
      "File exists, use `overwrite=True` to force download.\n",
      "File exists, use `overwrite=True` to force download.\n",
      "File exists, use `overwrite=True` to force download.\n",
      "File exists, use `overwrite=True` to force download.\n",
      "File exists, use `overwrite=True` to force download.\n",
      "File exists, use `overwrite=True` to force download.\n",
      "File exists, use `overwrite=True` to force download.\n",
      "File exists, use `overwrite=True` to force download.\n",
      "File exists, use `overwrite=True` to force download.\n",
      "File exists, use `overwrite=True` to force download.\n",
      "File exists, use `overwrite=True` to force download.\n",
      "File exists, use `overwrite=True` to force download.\n",
      "File exists, use `overwrite=True` to force download.\n",
      "File exists, use `overwrite=True` to force download.\n",
      "File exists, use `overwrite=True` to force download.\n",
      "File exists, use `overwrite=True` to force download.\n",
      "File exists, use `overwrite=True` to force download.\n",
      "File exists, use `overwrite=True` to force download.\n",
      "File exists, use `overwrite=True` to force download.\n",
      "File exists, use `overwrite=True` to force download.\n",
      "File exists, use `overwrite=True` to force download.\n",
      "File exists, use `overwrite=True` to force download.\n",
      "File exists, use `overwrite=True` to force download.\n",
      "File exists, use `overwrite=True` to force download.\n",
      "File exists, use `overwrite=True` to force download.\n",
      "File exists, use `overwrite=True` to force download.\n",
      "File exists, use `overwrite=True` to force download.\n",
      "File exists, use `overwrite=True` to force download.\n",
      "File exists, use `overwrite=True` to force download.\n",
      "File exists, use `overwrite=True` to force download.\n",
      "File exists, use `overwrite=True` to force download.\n",
      "File exists, use `overwrite=True` to force download.\n",
      "File exists, use `overwrite=True` to force download.\n",
      "File exists, use `overwrite=True` to force download.\n",
      "File exists, use `overwrite=True` to force download.\n",
      "File exists, use `overwrite=True` to force download.\n",
      "File exists, use `overwrite=True` to force download.\n",
      "File exists, use `overwrite=True` to force download.\n",
      "File exists, use `overwrite=True` to force download.\n",
      "File exists, use `overwrite=True` to force download.\n",
      "File exists, use `overwrite=True` to force download.\n",
      "File exists, use `overwrite=True` to force download.\n",
      "File exists, use `overwrite=True` to force download.\n",
      "File exists, use `overwrite=True` to force download.\n"
     ]
    }
   ],
   "source": [
    "results = []\n",
    "\n",
    "for c in cycles:\n",
    "    results.append(download_cycle(c))"
   ]
  },
  {
   "cell_type": "code",
   "execution_count": 43,
   "metadata": {},
   "outputs": [
    {
     "name": "stdout",
     "output_type": "stream",
     "text": [
      "File exists, use `overwrite=True` to force download.\n"
     ]
    }
   ],
   "source": [
    "l3.download_data(\"data\")"
   ]
  },
  {
   "cell_type": "code",
   "execution_count": 44,
   "metadata": {},
   "outputs": [],
   "source": [
    "l3.format = \"jp2\""
   ]
  },
  {
   "cell_type": "code",
   "execution_count": 48,
   "metadata": {},
   "outputs": [
    {
     "data": {
      "application/vnd.jupyter.widget-view+json": {
       "model_id": "79f296f3c41149c9aacd92fb4754882e",
       "version_major": 2,
       "version_minor": 0
      },
      "text/plain": [
       "HBox(children=(FloatProgress(value=0.0, description='dgdr_st_clc_cyl_20090705n_128_jp2.jp2', max=32973880.0, s…"
      ]
     },
     "metadata": {},
     "output_type": "display_data"
    },
    {
     "name": "stdout",
     "output_type": "stream",
     "text": [
      "\n"
     ]
    }
   ],
   "source": [
    "l3.download_data(\"data\")"
   ]
  },
  {
   "cell_type": "code",
   "execution_count": 15,
   "metadata": {},
   "outputs": [],
   "source": [
    "import dask"
   ]
  },
  {
   "cell_type": "code",
   "execution_count": 16,
   "metadata": {},
   "outputs": [
    {
     "data": {
      "text/plain": [
       "'2.28.0'"
      ]
     },
     "execution_count": 16,
     "metadata": {},
     "output_type": "execute_result"
    }
   ],
   "source": [
    "dask.__version__"
   ]
  },
  {
   "cell_type": "code",
   "execution_count": 17,
   "metadata": {},
   "outputs": [],
   "source": [
    "import distributed"
   ]
  },
  {
   "cell_type": "code",
   "execution_count": 18,
   "metadata": {},
   "outputs": [
    {
     "data": {
      "text/plain": [
       "'2.28.0'"
      ]
     },
     "execution_count": 18,
     "metadata": {},
     "output_type": "execute_result"
    }
   ],
   "source": [
    "distributed.__version__"
   ]
  },
  {
   "cell_type": "code",
   "execution_count": null,
   "metadata": {},
   "outputs": [],
   "source": []
  }
 ],
 "metadata": {
  "kernelspec": {
   "display_name": "Python [conda env:py37] *",
   "language": "python",
   "name": "conda-env-py37-py"
  },
  "language_info": {
   "codemirror_mode": {
    "name": "ipython",
    "version": 3
   },
   "file_extension": ".py",
   "mimetype": "text/x-python",
   "name": "python",
   "nbconvert_exporter": "python",
   "pygments_lexer": "ipython3",
   "version": "3.7.8"
  },
  "widgets": {
   "application/vnd.jupyter.widget-state+json": {
    "state": {
     "0027b32cda434a5bb8b35b7080d50942": {
      "model_module": "@jupyter-widgets/base",
      "model_module_version": "1.2.0",
      "model_name": "LayoutModel",
      "state": {}
     },
     "008d08dd85e449ff92bbbf4e8aa14e81": {
      "model_module": "@jupyter-widgets/controls",
      "model_module_version": "1.5.0",
      "model_name": "HBoxModel",
      "state": {
       "children": [
        "IPY_MODEL_070c4205d6834cb08df2b3380ed7aaaa",
        "IPY_MODEL_83e1a751e9f5450984d9e0aac2525748"
       ],
       "layout": "IPY_MODEL_a254814e0f3f4b4392230713e943b41d"
      }
     },
     "0272556bd04e4a85a33f0db424ef3e77": {
      "model_module": "@jupyter-widgets/controls",
      "model_module_version": "1.5.0",
      "model_name": "FloatProgressModel",
      "state": {
       "bar_style": "success",
       "description": "dgdr_st_clc_cyl_20090705n_128_img.lbl: ",
       "layout": "IPY_MODEL_8447d7bceccb47c99bdd089f86e5683e",
       "max": 2400,
       "style": "IPY_MODEL_bbef118dc0fe492c97a47474c0f162aa",
       "value": 2400
      }
     },
     "041efba0d166444c90d001a1dd9fb949": {
      "model_module": "@jupyter-widgets/controls",
      "model_module_version": "1.5.0",
      "model_name": "ProgressStyleModel",
      "state": {
       "description_width": "initial"
      }
     },
     "070c4205d6834cb08df2b3380ed7aaaa": {
      "model_module": "@jupyter-widgets/controls",
      "model_module_version": "1.5.0",
      "model_name": "FloatProgressModel",
      "state": {
       "bar_style": "success",
       "description": "dgdr_st_clc_cyl_20090705n_128_img.lbl: ",
       "layout": "IPY_MODEL_f22ac8a31a7c447d8c1ceaf3307dd9a6",
       "max": 2400,
       "style": "IPY_MODEL_c023f17dcf61426cae4cc12a32604c1d",
       "value": 2400
      }
     },
     "0f63160c278544e186d5f77383f9ec63": {
      "model_module": "@jupyter-widgets/base",
      "model_module_version": "1.2.0",
      "model_name": "LayoutModel",
      "state": {}
     },
     "197d12830bc94d3b86b7fcac7830e2ee": {
      "model_module": "@jupyter-widgets/base",
      "model_module_version": "1.2.0",
      "model_name": "LayoutModel",
      "state": {}
     },
     "1fa50be908dd43f8be1da18d6ec1d38a": {
      "model_module": "@jupyter-widgets/base",
      "model_module_version": "1.2.0",
      "model_name": "LayoutModel",
      "state": {}
     },
     "2144cf737e944cc6a8c09a63e6184508": {
      "model_module": "@jupyter-widgets/controls",
      "model_module_version": "1.5.0",
      "model_name": "HTMLModel",
      "state": {
       "layout": "IPY_MODEL_8fa3cf9a524640098477097078df88d8",
       "style": "IPY_MODEL_d4c92e9f7da64d0492aab705b352c6de",
       "value": " 4.61k/? [01:39&lt;00:00, 47.5B/s]"
      }
     },
     "23bc594919994594bb2811652f0407e9": {
      "model_module": "@jupyter-widgets/controls",
      "model_module_version": "1.5.0",
      "model_name": "HTMLModel",
      "state": {
       "layout": "IPY_MODEL_654454c092ad494daab966daff7de4ec",
       "style": "IPY_MODEL_4daa926d769b4dababad6a27bdb09e06",
       "value": " 4.61k/? [00:12&lt;00:00, 366B/s]"
      }
     },
     "27362f262ff24e7baf6b270e7abf9358": {
      "model_module": "@jupyter-widgets/controls",
      "model_module_version": "1.5.0",
      "model_name": "HTMLModel",
      "state": {
       "layout": "IPY_MODEL_0027b32cda434a5bb8b35b7080d50942",
       "style": "IPY_MODEL_9ebd08be235146a7ab3796f9d0c18c9f",
       "value": " 1.76G/1.76G [15:33&lt;00:00, 2.02MB/s]"
      }
     },
     "2b8985b4c7af480ab353e1426f0368df": {
      "model_module": "@jupyter-widgets/controls",
      "model_module_version": "1.5.0",
      "model_name": "FloatProgressModel",
      "state": {
       "bar_style": "success",
       "description": "dgdr_st_clc_cyl_20090705n_128_img.lbl: ",
       "layout": "IPY_MODEL_0f63160c278544e186d5f77383f9ec63",
       "max": 2400,
       "style": "IPY_MODEL_923d75bb6f7147c58e3e4848d08dee9c",
       "value": 2400
      }
     },
     "441714108979442ba7561d4d2083365b": {
      "model_module": "@jupyter-widgets/controls",
      "model_module_version": "1.5.0",
      "model_name": "ProgressStyleModel",
      "state": {
       "description_width": "initial"
      }
     },
     "4daa926d769b4dababad6a27bdb09e06": {
      "model_module": "@jupyter-widgets/controls",
      "model_module_version": "1.5.0",
      "model_name": "DescriptionStyleModel",
      "state": {
       "description_width": ""
      }
     },
     "537c32856cfd40a4895021e13643c0cc": {
      "model_module": "@jupyter-widgets/controls",
      "model_module_version": "1.5.0",
      "model_name": "FloatProgressModel",
      "state": {
       "bar_style": "success",
       "description": "dgdr_st_clc_cyl_20090705n_128_img.lbl: ",
       "layout": "IPY_MODEL_7e24b450ef0c4554a2a65735f3a2c1cc",
       "max": 2400,
       "style": "IPY_MODEL_5d13e7a851da4a708edae9199b4364e1",
       "value": 2400
      }
     },
     "58284e80e5fb464bb8adb79bb16971f3": {
      "model_module": "@jupyter-widgets/controls",
      "model_module_version": "1.5.0",
      "model_name": "HTMLModel",
      "state": {
       "layout": "IPY_MODEL_1fa50be908dd43f8be1da18d6ec1d38a",
       "style": "IPY_MODEL_e831858ae97c431eb00ed00be7b44c6e",
       "value": " 31.4M/31.4M [00:20&lt;00:00, 1.62MB/s]"
      }
     },
     "5d13e7a851da4a708edae9199b4364e1": {
      "model_module": "@jupyter-widgets/controls",
      "model_module_version": "1.5.0",
      "model_name": "ProgressStyleModel",
      "state": {
       "description_width": "initial"
      }
     },
     "5da098b650ca40d2b522e07d56192eb1": {
      "model_module": "@jupyter-widgets/base",
      "model_module_version": "1.2.0",
      "model_name": "LayoutModel",
      "state": {}
     },
     "61f9c0df32ad4de0a5f29724462ab8ba": {
      "model_module": "@jupyter-widgets/controls",
      "model_module_version": "1.5.0",
      "model_name": "HTMLModel",
      "state": {
       "layout": "IPY_MODEL_ec8fd568fa884dea82d334721a0b435f",
       "style": "IPY_MODEL_873a64edb3da4947aeb309d098dc20b8",
       "value": " 4.61k/? [00:03&lt;00:00, 1.54kB/s]"
      }
     },
     "642fd29aa8304e33815f258fb6b0949f": {
      "model_module": "@jupyter-widgets/base",
      "model_module_version": "1.2.0",
      "model_name": "LayoutModel",
      "state": {}
     },
     "654454c092ad494daab966daff7de4ec": {
      "model_module": "@jupyter-widgets/base",
      "model_module_version": "1.2.0",
      "model_name": "LayoutModel",
      "state": {}
     },
     "763f344a2cfc4bba9913e2c3392986fe": {
      "model_module": "@jupyter-widgets/controls",
      "model_module_version": "1.5.0",
      "model_name": "HBoxModel",
      "state": {
       "children": [
        "IPY_MODEL_537c32856cfd40a4895021e13643c0cc",
        "IPY_MODEL_61f9c0df32ad4de0a5f29724462ab8ba"
       ],
       "layout": "IPY_MODEL_197d12830bc94d3b86b7fcac7830e2ee"
      }
     },
     "76ad071e941e43438241a3157a8d1708": {
      "model_module": "@jupyter-widgets/base",
      "model_module_version": "1.2.0",
      "model_name": "LayoutModel",
      "state": {}
     },
     "79f296f3c41149c9aacd92fb4754882e": {
      "model_module": "@jupyter-widgets/controls",
      "model_module_version": "1.5.0",
      "model_name": "HBoxModel",
      "state": {
       "children": [
        "IPY_MODEL_9326a99c9e034e61b508ff5da16014a0",
        "IPY_MODEL_58284e80e5fb464bb8adb79bb16971f3"
       ],
       "layout": "IPY_MODEL_883c096caf7541e1a24af3d902cbea49"
      }
     },
     "7e24b450ef0c4554a2a65735f3a2c1cc": {
      "model_module": "@jupyter-widgets/base",
      "model_module_version": "1.2.0",
      "model_name": "LayoutModel",
      "state": {}
     },
     "825dcf0c85634285a6711db153ec36d1": {
      "model_module": "@jupyter-widgets/controls",
      "model_module_version": "1.5.0",
      "model_name": "HBoxModel",
      "state": {
       "children": [
        "IPY_MODEL_2b8985b4c7af480ab353e1426f0368df",
        "IPY_MODEL_c7aba56437bd48e0b6d896b1182402eb"
       ],
       "layout": "IPY_MODEL_5da098b650ca40d2b522e07d56192eb1"
      }
     },
     "83e1a751e9f5450984d9e0aac2525748": {
      "model_module": "@jupyter-widgets/controls",
      "model_module_version": "1.5.0",
      "model_name": "HTMLModel",
      "state": {
       "layout": "IPY_MODEL_e6bac6800bda4b439894d8dfcbf4dcee",
       "style": "IPY_MODEL_d57ea7a15e5f4f81b5ef96ad90325f42",
       "value": " 4.61k/? [00:14&lt;00:00, 323B/s]"
      }
     },
     "8447d7bceccb47c99bdd089f86e5683e": {
      "model_module": "@jupyter-widgets/base",
      "model_module_version": "1.2.0",
      "model_name": "LayoutModel",
      "state": {}
     },
     "873a64edb3da4947aeb309d098dc20b8": {
      "model_module": "@jupyter-widgets/controls",
      "model_module_version": "1.5.0",
      "model_name": "DescriptionStyleModel",
      "state": {
       "description_width": ""
      }
     },
     "883c096caf7541e1a24af3d902cbea49": {
      "model_module": "@jupyter-widgets/base",
      "model_module_version": "1.2.0",
      "model_name": "LayoutModel",
      "state": {}
     },
     "8c36dad9919f4f77b81d5381944a0d88": {
      "model_module": "@jupyter-widgets/controls",
      "model_module_version": "1.5.0",
      "model_name": "FloatProgressModel",
      "state": {
       "bar_style": "success",
       "description": "dgdr_st_clc_cyl_20090705n_128_img.img: 100%",
       "layout": "IPY_MODEL_642fd29aa8304e33815f258fb6b0949f",
       "max": 1887436800,
       "style": "IPY_MODEL_041efba0d166444c90d001a1dd9fb949",
       "value": 1887436800
      }
     },
     "8fa3cf9a524640098477097078df88d8": {
      "model_module": "@jupyter-widgets/base",
      "model_module_version": "1.2.0",
      "model_name": "LayoutModel",
      "state": {}
     },
     "923d75bb6f7147c58e3e4848d08dee9c": {
      "model_module": "@jupyter-widgets/controls",
      "model_module_version": "1.5.0",
      "model_name": "ProgressStyleModel",
      "state": {
       "description_width": "initial"
      }
     },
     "9326a99c9e034e61b508ff5da16014a0": {
      "model_module": "@jupyter-widgets/controls",
      "model_module_version": "1.5.0",
      "model_name": "FloatProgressModel",
      "state": {
       "bar_style": "success",
       "description": "dgdr_st_clc_cyl_20090705n_128_jp2.jp2: 100%",
       "layout": "IPY_MODEL_76ad071e941e43438241a3157a8d1708",
       "max": 32973880,
       "style": "IPY_MODEL_97edf57ae4234c7f9c1d5fbab68513d0",
       "value": 32973880
      }
     },
     "97edf57ae4234c7f9c1d5fbab68513d0": {
      "model_module": "@jupyter-widgets/controls",
      "model_module_version": "1.5.0",
      "model_name": "ProgressStyleModel",
      "state": {
       "description_width": "initial"
      }
     },
     "9a768ff906674d72a7be0ea9ada240aa": {
      "model_module": "@jupyter-widgets/controls",
      "model_module_version": "1.5.0",
      "model_name": "FloatProgressModel",
      "state": {
       "bar_style": "success",
       "description": "dgdr_st_clc_cyl_20090705n_128_img.lbl: ",
       "layout": "IPY_MODEL_a70971168d0f4eb0b470cfc41a776ad3",
       "max": 2400,
       "style": "IPY_MODEL_441714108979442ba7561d4d2083365b",
       "value": 2400
      }
     },
     "9bcc0f43de4b49e1b9f65310705b6ed2": {
      "model_module": "@jupyter-widgets/controls",
      "model_module_version": "1.5.0",
      "model_name": "HBoxModel",
      "state": {
       "children": [
        "IPY_MODEL_8c36dad9919f4f77b81d5381944a0d88",
        "IPY_MODEL_27362f262ff24e7baf6b270e7abf9358"
       ],
       "layout": "IPY_MODEL_d390b33c5f8d421cb1b25b8c5466ec19"
      }
     },
     "9ebd08be235146a7ab3796f9d0c18c9f": {
      "model_module": "@jupyter-widgets/controls",
      "model_module_version": "1.5.0",
      "model_name": "DescriptionStyleModel",
      "state": {
       "description_width": ""
      }
     },
     "a254814e0f3f4b4392230713e943b41d": {
      "model_module": "@jupyter-widgets/base",
      "model_module_version": "1.2.0",
      "model_name": "LayoutModel",
      "state": {}
     },
     "a70971168d0f4eb0b470cfc41a776ad3": {
      "model_module": "@jupyter-widgets/base",
      "model_module_version": "1.2.0",
      "model_name": "LayoutModel",
      "state": {}
     },
     "bbef118dc0fe492c97a47474c0f162aa": {
      "model_module": "@jupyter-widgets/controls",
      "model_module_version": "1.5.0",
      "model_name": "ProgressStyleModel",
      "state": {
       "description_width": "initial"
      }
     },
     "c023f17dcf61426cae4cc12a32604c1d": {
      "model_module": "@jupyter-widgets/controls",
      "model_module_version": "1.5.0",
      "model_name": "ProgressStyleModel",
      "state": {
       "description_width": "initial"
      }
     },
     "c7aba56437bd48e0b6d896b1182402eb": {
      "model_module": "@jupyter-widgets/controls",
      "model_module_version": "1.5.0",
      "model_name": "HTMLModel",
      "state": {
       "layout": "IPY_MODEL_fc50524db19b4c5d9f45c8e016444223",
       "style": "IPY_MODEL_eba27082571c40c4a8cdb4f4f0f5e4a5",
       "value": " 4.61k/? [00:00&lt;00:00, 190kB/s]"
      }
     },
     "d0f6b34fce5b4fdaa902cda92fe50c87": {
      "model_module": "@jupyter-widgets/base",
      "model_module_version": "1.2.0",
      "model_name": "LayoutModel",
      "state": {}
     },
     "d390b33c5f8d421cb1b25b8c5466ec19": {
      "model_module": "@jupyter-widgets/base",
      "model_module_version": "1.2.0",
      "model_name": "LayoutModel",
      "state": {}
     },
     "d4c92e9f7da64d0492aab705b352c6de": {
      "model_module": "@jupyter-widgets/controls",
      "model_module_version": "1.5.0",
      "model_name": "DescriptionStyleModel",
      "state": {
       "description_width": ""
      }
     },
     "d57ea7a15e5f4f81b5ef96ad90325f42": {
      "model_module": "@jupyter-widgets/controls",
      "model_module_version": "1.5.0",
      "model_name": "DescriptionStyleModel",
      "state": {
       "description_width": ""
      }
     },
     "da44e5c26a154eed9288b34240703209": {
      "model_module": "@jupyter-widgets/controls",
      "model_module_version": "1.5.0",
      "model_name": "HBoxModel",
      "state": {
       "children": [
        "IPY_MODEL_0272556bd04e4a85a33f0db424ef3e77",
        "IPY_MODEL_23bc594919994594bb2811652f0407e9"
       ],
       "layout": "IPY_MODEL_f97b1e06977e47dcbf1a5fac4564557c"
      }
     },
     "e6bac6800bda4b439894d8dfcbf4dcee": {
      "model_module": "@jupyter-widgets/base",
      "model_module_version": "1.2.0",
      "model_name": "LayoutModel",
      "state": {}
     },
     "e831858ae97c431eb00ed00be7b44c6e": {
      "model_module": "@jupyter-widgets/controls",
      "model_module_version": "1.5.0",
      "model_name": "DescriptionStyleModel",
      "state": {
       "description_width": ""
      }
     },
     "eba27082571c40c4a8cdb4f4f0f5e4a5": {
      "model_module": "@jupyter-widgets/controls",
      "model_module_version": "1.5.0",
      "model_name": "DescriptionStyleModel",
      "state": {
       "description_width": ""
      }
     },
     "ec8fd568fa884dea82d334721a0b435f": {
      "model_module": "@jupyter-widgets/base",
      "model_module_version": "1.2.0",
      "model_name": "LayoutModel",
      "state": {}
     },
     "f22ac8a31a7c447d8c1ceaf3307dd9a6": {
      "model_module": "@jupyter-widgets/base",
      "model_module_version": "1.2.0",
      "model_name": "LayoutModel",
      "state": {}
     },
     "f97b1e06977e47dcbf1a5fac4564557c": {
      "model_module": "@jupyter-widgets/base",
      "model_module_version": "1.2.0",
      "model_name": "LayoutModel",
      "state": {}
     },
     "fc50524db19b4c5d9f45c8e016444223": {
      "model_module": "@jupyter-widgets/base",
      "model_module_version": "1.2.0",
      "model_name": "LayoutModel",
      "state": {}
     },
     "fdee4fc9170d4233904f29e87eacfb4d": {
      "model_module": "@jupyter-widgets/controls",
      "model_module_version": "1.5.0",
      "model_name": "HBoxModel",
      "state": {
       "children": [
        "IPY_MODEL_9a768ff906674d72a7be0ea9ada240aa",
        "IPY_MODEL_2144cf737e944cc6a8c09a63e6184508"
       ],
       "layout": "IPY_MODEL_d0f6b34fce5b4fdaa902cda92fe50c87"
      }
     }
    },
    "version_major": 2,
    "version_minor": 0
   }
  }
 },
 "nbformat": 4,
 "nbformat_minor": 4
}
