{
 "cells": [
  {
   "cell_type": "code",
   "execution_count": 2,
   "metadata": {},
   "outputs": [],
   "source": [
    "# Standard libraries\n",
    "import matplotlib as mpl\n",
    "import matplotlib.pyplot as plt\n",
    "import numpy as np\n",
    "\n",
    "import heat1d\n",
    "import planets\n",
    "\n",
    "# Planetary libraries\n",
    "from heat1d import plotting, main"
   ]
  },
  {
   "cell_type": "code",
   "execution_count": 2,
   "metadata": {},
   "outputs": [],
   "source": [
    "from heat1d.grids import NonUniformGrid"
   ]
  },
  {
   "cell_type": "code",
   "execution_count": 3,
   "metadata": {},
   "outputs": [],
   "source": [
    "grid = NonUniformGrid(10)"
   ]
  },
  {
   "cell_type": "code",
   "execution_count": 4,
   "metadata": {},
   "outputs": [],
   "source": [
    "from heat1d import Configurator"
   ]
  },
  {
   "cell_type": "code",
   "execution_count": 5,
   "metadata": {},
   "outputs": [
    {
     "data": {
      "text/plain": [
       "Configurator(sigma=5.6703744191844314e-08, S0=1361.0, chi=2.7, F=0.5, m=10, n=5, b=20, DTSURF=0.1, NYEARSEQ=1, NPERDAY=24, DTBOT=0.1)"
      ]
     },
     "execution_count": 5,
     "metadata": {},
     "output_type": "execute_result"
    }
   ],
   "source": [
    "config = Configurator()\n",
    "config"
   ]
  },
  {
   "cell_type": "code",
   "execution_count": 6,
   "metadata": {},
   "outputs": [],
   "source": [
    "# Latitude\n",
    "lat = 0.0\n",
    "# Planet\n",
    "p = planets.Moon\n",
    "\n",
    "# Create model\n",
    "m = heat1d.Model(p, lat=lat * np.pi / 180.0, ndays=5, config=config)"
   ]
  },
  {
   "cell_type": "code",
   "execution_count": 7,
   "metadata": {},
   "outputs": [
    {
     "data": {
      "text/plain": [
       "0.07"
      ]
     },
     "execution_count": 7,
     "metadata": {},
     "output_type": "execute_result"
    }
   ],
   "source": [
    "p.H"
   ]
  },
  {
   "cell_type": "code",
   "execution_count": 8,
   "metadata": {},
   "outputs": [],
   "source": [
    "m.run()"
   ]
  },
  {
   "cell_type": "code",
   "execution_count": 9,
   "metadata": {},
   "outputs": [
    {
     "data": {
      "image/png": "[encoded data removed]",
      "text/plain": [
       "<Figure size 576x396 with 1 Axes>"
      ]
     },
     "metadata": {},
     "output_type": "display_data"
    }
   ],
   "source": [
    "plotting.plot_last_surface_cooling(m)"
   ]
  },
  {
   "cell_type": "code",
   "execution_count": 9,
   "metadata": {},
   "outputs": [
    {
     "data": {
      "text/plain": [
       "array([383.00969802, 371.63831213, 359.34124228, 346.03894944,\n",
       "       331.70453253, 316.43504851, 300.55779417, 284.77410536,\n",
       "       270.28229462, 258.71064469, 251.61949215, 249.59300808,\n",
       "       251.61105086, 255.52750754, 259.30980954, 261.87912996,\n",
       "       263.16844078, 263.73420839, 264.15946212, 264.59384401,\n",
       "       264.87695541])"
      ]
     },
     "execution_count": 9,
     "metadata": {},
     "output_type": "execute_result"
    }
   ],
   "source": [
    "m.T[-1]"
   ]
  },
  {
   "cell_type": "code",
   "execution_count": 10,
   "metadata": {},
   "outputs": [
    {
     "data": {
      "text/plain": [
       "array([891.84926779, 878.55484808, 863.01021079, 844.81992827,\n",
       "       823.61537964, 799.20408166, 771.8443165 , 742.67983993,\n",
       "       714.21482755, 690.35600022, 675.25203064, 670.86942106,\n",
       "       675.2338356 , 683.62084919, 691.61553786, 696.98693734,\n",
       "       699.6641351 , 700.83506824, 701.71363649, 702.60968646,\n",
       "       703.19294352])"
      ]
     },
     "execution_count": 10,
     "metadata": {},
     "output_type": "execute_result"
    }
   ],
   "source": [
    "m.profile.cp"
   ]
  },
  {
   "cell_type": "code",
   "execution_count": 12,
   "metadata": {},
   "outputs": [
    {
     "data": {
      "text/plain": [
       "array([0.00335831, 0.00369953, 0.00402451, 0.00431876, 0.00456807,\n",
       "       0.00476233, 0.00490078, 0.0049978 , 0.00508591, 0.00521146,\n",
       "       0.00541963, 0.00573132, 0.00612293, 0.00652847, 0.00687223,\n",
       "       0.0071089 , 0.00724048, 0.00730379, 0.00733912, 0.0073643 ,\n",
       "       0.0073786 ])"
      ]
     },
     "execution_count": 12,
     "metadata": {},
     "output_type": "execute_result"
    }
   ],
   "source": [
    "m.profile.k"
   ]
  },
  {
   "cell_type": "code",
   "execution_count": 8,
   "metadata": {},
   "outputs": [],
   "source": [
    "%matplotlib widget"
   ]
  },
  {
   "cell_type": "code",
   "execution_count": 9,
   "metadata": {},
   "outputs": [
    {
     "data": {
      "application/vnd.jupyter.widget-view+json": {
       "model_id": "ba620735ba3242eb867a1eb81b108fd5",
       "version_major": 2,
       "version_minor": 0
      },
      "text/plain": [
       "Canvas(toolbar=Toolbar(toolitems=[('Home', 'Reset original view', 'home', 'home'), ('Back', 'Back to previous …"
      ]
     },
     "metadata": {},
     "output_type": "display_data"
    },
    {
     "data": {
      "text/plain": [
       "[<matplotlib.lines.Line2D at 0x7f37ed065690>]"
      ]
     },
     "execution_count": 9,
     "metadata": {},
     "output_type": "execute_result"
    }
   ],
   "source": [
    "plt.figure()\n",
    "plt.plot(m.Qs_values, ls='-')"
   ]
  },
  {
   "cell_type": "code",
   "execution_count": 16,
   "metadata": {},
   "outputs": [
    {
     "data": {
      "text/plain": [
       "1238.707362821832"
      ]
     },
     "execution_count": 16,
     "metadata": {},
     "output_type": "execute_result"
    }
   ],
   "source": [
    "max(m.Qs_values)"
   ]
  },
  {
   "cell_type": "code",
   "execution_count": 17,
   "metadata": {},
   "outputs": [
    {
     "data": {
      "text/plain": [
       "1232.2142223884432"
      ]
     },
     "execution_count": 17,
     "metadata": {},
     "output_type": "execute_result"
    }
   ],
   "source": [
    "max(ms.Qs_series)"
   ]
  },
  {
   "cell_type": "code",
   "execution_count": 10,
   "metadata": {},
   "outputs": [],
   "source": [
    "from spicer import MoonSpicer"
   ]
  },
  {
   "cell_type": "code",
   "execution_count": 11,
   "metadata": {},
   "outputs": [],
   "source": [
    "ms = MoonSpicer()"
   ]
  },
  {
   "cell_type": "code",
   "execution_count": 12,
   "metadata": {},
   "outputs": [],
   "source": [
    "ms.set_spoint_by(lat=0, lon=0)"
   ]
  },
  {
   "cell_type": "code",
   "execution_count": 13,
   "metadata": {},
   "outputs": [
    {
     "data": {
      "text/plain": [
       "14111"
      ]
     },
     "execution_count": 13,
     "metadata": {},
     "output_type": "execute_result"
    }
   ],
   "source": [
    "len(m.r_values)"
   ]
  },
  {
   "cell_type": "code",
   "execution_count": 14,
   "metadata": {},
   "outputs": [],
   "source": [
    "fluxes, _ = ms.time_series('F_flat', 3074, 14111)"
   ]
  },
  {
   "cell_type": "code",
   "execution_count": 15,
   "metadata": {},
   "outputs": [
    {
     "data": {
      "text/plain": [
       "[<matplotlib.lines.Line2D at 0x7f376bb14110>]"
      ]
     },
     "execution_count": 15,
     "metadata": {},
     "output_type": "execute_result"
    }
   ],
   "source": [
    "plt.plot(ms.Qs_series)"
   ]
  },
  {
   "cell_type": "code",
   "execution_count": 16,
   "metadata": {},
   "outputs": [
    {
     "data": {
      "text/plain": [
       "<astropy.visualization.units.quantity_support.<locals>.MplQuantityConverter at 0x7fb19b84ffd0>"
      ]
     },
     "execution_count": 16,
     "metadata": {},
     "output_type": "execute_result"
    }
   ],
   "source": [
    "from astropy.visualization import quantity_support\n",
    "quantity_support()"
   ]
  },
  {
   "cell_type": "code",
   "execution_count": 25,
   "metadata": {},
   "outputs": [
    {
     "data": {
      "text/latex": [
       "$0.81605235 \\; \\mathrm{rad}$"
      ],
      "text/plain": [
       "<Quantity 0.81605235 rad>"
      ]
     },
     "execution_count": 25,
     "metadata": {},
     "output_type": "execute_result"
    }
   ],
   "source": [
    "ms.illum_angles.solar"
   ]
  },
  {
   "cell_type": "code",
   "execution_count": null,
   "metadata": {},
   "outputs": [],
   "source": []
  },
  {
   "cell_type": "code",
   "execution_count": null,
   "metadata": {},
   "outputs": [],
   "source": []
  },
  {
   "cell_type": "code",
   "execution_count": 21,
   "metadata": {},
   "outputs": [
    {
     "data": {
      "text/plain": [
       "[<matplotlib.lines.Line2D at 0x7efbd77faf10>]"
      ]
     },
     "execution_count": 21,
     "metadata": {},
     "output_type": "execute_result"
    }
   ],
   "source": [
    "plt.plot(fluxes)"
   ]
  },
  {
   "cell_type": "code",
   "execution_count": 29,
   "metadata": {},
   "outputs": [
    {
     "data": {
      "application/vnd.jupyter.widget-view+json": {
       "model_id": "2d3ffe5930694d4fb4e60d0338e8c79f",
       "version_major": 2,
       "version_minor": 0
      },
      "text/plain": [
       "Canvas(toolbar=Toolbar(toolitems=[('Home', 'Reset original view', 'home', 'home'), ('Back', 'Back to previous …"
      ]
     },
     "metadata": {},
     "output_type": "display_data"
    }
   ],
   "source": [
    "plotting.diurnal_curves(m)"
   ]
  },
  {
   "cell_type": "code",
   "execution_count": 32,
   "metadata": {},
   "outputs": [
    {
     "data": {
      "text/plain": [
       "4.921724115562111"
      ]
     },
     "execution_count": 32,
     "metadata": {},
     "output_type": "execute_result"
    }
   ],
   "source": [
    "m.t / 3600 / 24 / 30"
   ]
  },
  {
   "cell_type": "code",
   "execution_count": 5,
   "metadata": {},
   "outputs": [],
   "source": [
    "from astropy.constants import au"
   ]
  },
  {
   "cell_type": "code",
   "execution_count": 6,
   "metadata": {},
   "outputs": [
    {
     "data": {
      "text/plain": [
       "149.5978707"
      ]
     },
     "execution_count": 6,
     "metadata": {},
     "output_type": "execute_result"
    }
   ],
   "source": [
    "au.value / 1e9"
   ]
  },
  {
   "cell_type": "code",
   "execution_count": 7,
   "metadata": {},
   "outputs": [
    {
     "data": {
      "text/plain": [
       "149597870700.0"
      ]
     },
     "execution_count": 7,
     "metadata": {},
     "output_type": "execute_result"
    }
   ],
   "source": [
    "au.value"
   ]
  },
  {
   "cell_type": "code",
   "execution_count": 8,
   "metadata": {},
   "outputs": [
    {
     "data": {
      "text/latex": [
       "$1.4959787 \\times 10^{11} \\; \\mathrm{m}$"
      ],
      "text/plain": [
       "<<class 'astropy.constants.iau2015.IAU2015'> name='Astronomical Unit' value=149597870700.0 uncertainty=0.0 unit='m' reference='IAU 2012 Resolution B2'>"
      ]
     },
     "execution_count": 8,
     "metadata": {},
     "output_type": "execute_result"
    }
   ],
   "source": [
    "au"
   ]
  },
  {
   "cell_type": "code",
   "execution_count": 11,
   "metadata": {},
   "outputs": [
    {
     "data": {
      "text/html": [
       "<div>\n",
       "<style scoped>\n",
       "    .dataframe tbody tr th:only-of-type {\n",
       "        vertical-align: middle;\n",
       "    }\n",
       "\n",
       "    .dataframe tbody tr th {\n",
       "        vertical-align: top;\n",
       "    }\n",
       "\n",
       "    .dataframe thead th {\n",
       "        text-align: right;\n",
       "    }\n",
       "</style>\n",
       "<table border=\"1\" class=\"dataframe\">\n",
       "  <thead>\n",
       "    <tr style=\"text-align: right;\">\n",
       "      <th></th>\n",
       "      <th>0</th>\n",
       "      <th>1</th>\n",
       "      <th>2</th>\n",
       "      <th>3</th>\n",
       "      <th>4</th>\n",
       "      <th>5</th>\n",
       "      <th>6</th>\n",
       "    </tr>\n",
       "  </thead>\n",
       "  <tbody>\n",
       "    <tr>\n",
       "      <th>0</th>\n",
       "      <td>2016-Aug-25</td>\n",
       "      <td>00:00</td>\n",
       "      <td>0.000400</td>\n",
       "      <td>2.618153</td>\n",
       "      <td>89.0984</td>\n",
       "      <td>/L</td>\n",
       "      <td>90.8703</td>\n",
       "    </tr>\n",
       "    <tr>\n",
       "      <th>1</th>\n",
       "      <td>2016-Aug-25</td>\n",
       "      <td>00:10</td>\n",
       "      <td>0.000411</td>\n",
       "      <td>2.587498</td>\n",
       "      <td>88.2379</td>\n",
       "      <td>/L</td>\n",
       "      <td>91.7300</td>\n",
       "    </tr>\n",
       "    <tr>\n",
       "      <th>2</th>\n",
       "      <td>2016-Aug-25</td>\n",
       "      <td>00:20</td>\n",
       "      <td>0.000421</td>\n",
       "      <td>2.557823</td>\n",
       "      <td>87.4193</td>\n",
       "      <td>/L</td>\n",
       "      <td>92.5478</td>\n",
       "    </tr>\n",
       "    <tr>\n",
       "      <th>3</th>\n",
       "      <td>2016-Aug-25</td>\n",
       "      <td>00:30</td>\n",
       "      <td>0.000431</td>\n",
       "      <td>2.529084</td>\n",
       "      <td>86.6391</td>\n",
       "      <td>/L</td>\n",
       "      <td>93.3272</td>\n",
       "    </tr>\n",
       "    <tr>\n",
       "      <th>4</th>\n",
       "      <td>2016-Aug-25</td>\n",
       "      <td>00:40</td>\n",
       "      <td>0.000441</td>\n",
       "      <td>2.501239</td>\n",
       "      <td>85.8942</td>\n",
       "      <td>/L</td>\n",
       "      <td>94.0713</td>\n",
       "    </tr>\n",
       "    <tr>\n",
       "      <th>5</th>\n",
       "      <td>2016-Aug-25</td>\n",
       "      <td>00:50</td>\n",
       "      <td>0.000451</td>\n",
       "      <td>2.474247</td>\n",
       "      <td>85.1820</td>\n",
       "      <td>/L</td>\n",
       "      <td>94.7828</td>\n",
       "    </tr>\n",
       "    <tr>\n",
       "      <th>6</th>\n",
       "      <td>2016-Aug-25</td>\n",
       "      <td>01:00</td>\n",
       "      <td>0.000461</td>\n",
       "      <td>2.448067</td>\n",
       "      <td>84.5000</td>\n",
       "      <td>/L</td>\n",
       "      <td>95.4641</td>\n",
       "    </tr>\n",
       "    <tr>\n",
       "      <th>7</th>\n",
       "      <td>2016-Aug-25</td>\n",
       "      <td>01:10</td>\n",
       "      <td>0.000471</td>\n",
       "      <td>2.422661</td>\n",
       "      <td>83.8459</td>\n",
       "      <td>/L</td>\n",
       "      <td>96.1174</td>\n",
       "    </tr>\n",
       "    <tr>\n",
       "      <th>8</th>\n",
       "      <td>2016-Aug-25</td>\n",
       "      <td>01:20</td>\n",
       "      <td>0.000480</td>\n",
       "      <td>2.397995</td>\n",
       "      <td>83.2178</td>\n",
       "      <td>/L</td>\n",
       "      <td>96.7447</td>\n",
       "    </tr>\n",
       "    <tr>\n",
       "      <th>9</th>\n",
       "      <td>2016-Aug-25</td>\n",
       "      <td>01:30</td>\n",
       "      <td>0.000490</td>\n",
       "      <td>2.374032</td>\n",
       "      <td>82.6139</td>\n",
       "      <td>/L</td>\n",
       "      <td>97.3479</td>\n",
       "    </tr>\n",
       "    <tr>\n",
       "      <th>10</th>\n",
       "      <td>2016-Aug-25</td>\n",
       "      <td>01:40</td>\n",
       "      <td>0.000500</td>\n",
       "      <td>2.350742</td>\n",
       "      <td>82.0327</td>\n",
       "      <td>/L</td>\n",
       "      <td>97.9285</td>\n",
       "    </tr>\n",
       "    <tr>\n",
       "      <th>11</th>\n",
       "      <td>2016-Aug-25</td>\n",
       "      <td>01:50</td>\n",
       "      <td>0.000509</td>\n",
       "      <td>2.328093</td>\n",
       "      <td>81.4725</td>\n",
       "      <td>/L</td>\n",
       "      <td>98.4879</td>\n",
       "    </tr>\n",
       "    <tr>\n",
       "      <th>12</th>\n",
       "      <td>2016-Aug-25</td>\n",
       "      <td>02:00</td>\n",
       "      <td>0.000518</td>\n",
       "      <td>2.306057</td>\n",
       "      <td>80.9322</td>\n",
       "      <td>/L</td>\n",
       "      <td>99.0276</td>\n",
       "    </tr>\n",
       "    <tr>\n",
       "      <th>13</th>\n",
       "      <td>2016-Aug-25</td>\n",
       "      <td>02:10</td>\n",
       "      <td>0.000527</td>\n",
       "      <td>2.284605</td>\n",
       "      <td>80.4104</td>\n",
       "      <td>/L</td>\n",
       "      <td>99.5488</td>\n",
       "    </tr>\n",
       "    <tr>\n",
       "      <th>14</th>\n",
       "      <td>2016-Aug-25</td>\n",
       "      <td>02:20</td>\n",
       "      <td>0.000537</td>\n",
       "      <td>2.263713</td>\n",
       "      <td>79.9060</td>\n",
       "      <td>/L</td>\n",
       "      <td>100.0525</td>\n",
       "    </tr>\n",
       "    <tr>\n",
       "      <th>15</th>\n",
       "      <td>2016-Aug-25</td>\n",
       "      <td>02:30</td>\n",
       "      <td>0.000546</td>\n",
       "      <td>2.243355</td>\n",
       "      <td>79.4180</td>\n",
       "      <td>/L</td>\n",
       "      <td>100.5398</td>\n",
       "    </tr>\n",
       "    <tr>\n",
       "      <th>16</th>\n",
       "      <td>2016-Aug-25</td>\n",
       "      <td>02:40</td>\n",
       "      <td>0.000555</td>\n",
       "      <td>2.223510</td>\n",
       "      <td>78.9456</td>\n",
       "      <td>/L</td>\n",
       "      <td>101.0116</td>\n",
       "    </tr>\n",
       "    <tr>\n",
       "      <th>17</th>\n",
       "      <td>2016-Aug-25</td>\n",
       "      <td>02:50</td>\n",
       "      <td>0.000563</td>\n",
       "      <td>2.204154</td>\n",
       "      <td>78.4877</td>\n",
       "      <td>/L</td>\n",
       "      <td>101.4689</td>\n",
       "    </tr>\n",
       "    <tr>\n",
       "      <th>18</th>\n",
       "      <td>2016-Aug-25</td>\n",
       "      <td>03:00</td>\n",
       "      <td>0.000572</td>\n",
       "      <td>2.185267</td>\n",
       "      <td>78.0436</td>\n",
       "      <td>/L</td>\n",
       "      <td>101.9123</td>\n",
       "    </tr>\n",
       "    <tr>\n",
       "      <th>19</th>\n",
       "      <td>2016-Aug-25</td>\n",
       "      <td>03:10</td>\n",
       "      <td>0.000581</td>\n",
       "      <td>2.166830</td>\n",
       "      <td>77.6126</td>\n",
       "      <td>/L</td>\n",
       "      <td>102.3427</td>\n",
       "    </tr>\n",
       "    <tr>\n",
       "      <th>20</th>\n",
       "      <td>2016-Aug-25</td>\n",
       "      <td>03:20</td>\n",
       "      <td>0.000590</td>\n",
       "      <td>2.148824</td>\n",
       "      <td>77.1940</td>\n",
       "      <td>/L</td>\n",
       "      <td>102.7608</td>\n",
       "    </tr>\n",
       "    <tr>\n",
       "      <th>21</th>\n",
       "      <td>2016-Aug-25</td>\n",
       "      <td>03:30</td>\n",
       "      <td>0.000598</td>\n",
       "      <td>2.131233</td>\n",
       "      <td>76.7871</td>\n",
       "      <td>/L</td>\n",
       "      <td>103.1671</td>\n",
       "    </tr>\n",
       "    <tr>\n",
       "      <th>22</th>\n",
       "      <td>2016-Aug-25</td>\n",
       "      <td>03:40</td>\n",
       "      <td>0.000607</td>\n",
       "      <td>2.114039</td>\n",
       "      <td>76.3913</td>\n",
       "      <td>/L</td>\n",
       "      <td>103.5622</td>\n",
       "    </tr>\n",
       "    <tr>\n",
       "      <th>23</th>\n",
       "      <td>2016-Aug-25</td>\n",
       "      <td>03:50</td>\n",
       "      <td>0.000615</td>\n",
       "      <td>2.097228</td>\n",
       "      <td>76.0062</td>\n",
       "      <td>/L</td>\n",
       "      <td>103.9468</td>\n",
       "    </tr>\n",
       "    <tr>\n",
       "      <th>24</th>\n",
       "      <td>2016-Aug-25</td>\n",
       "      <td>04:00</td>\n",
       "      <td>0.000624</td>\n",
       "      <td>2.080783</td>\n",
       "      <td>75.6311</td>\n",
       "      <td>/L</td>\n",
       "      <td>104.3213</td>\n",
       "    </tr>\n",
       "    <tr>\n",
       "      <th>25</th>\n",
       "      <td>2016-Aug-25</td>\n",
       "      <td>04:10</td>\n",
       "      <td>0.000632</td>\n",
       "      <td>2.064691</td>\n",
       "      <td>75.2657</td>\n",
       "      <td>/L</td>\n",
       "      <td>104.6862</td>\n",
       "    </tr>\n",
       "  </tbody>\n",
       "</table>\n",
       "</div>"
      ],
      "text/plain": [
       "              0      1         2         3        4   5         6\n",
       "0   2016-Aug-25  00:00  0.000400  2.618153  89.0984  /L   90.8703\n",
       "1   2016-Aug-25  00:10  0.000411  2.587498  88.2379  /L   91.7300\n",
       "2   2016-Aug-25  00:20  0.000421  2.557823  87.4193  /L   92.5478\n",
       "3   2016-Aug-25  00:30  0.000431  2.529084  86.6391  /L   93.3272\n",
       "4   2016-Aug-25  00:40  0.000441  2.501239  85.8942  /L   94.0713\n",
       "5   2016-Aug-25  00:50  0.000451  2.474247  85.1820  /L   94.7828\n",
       "6   2016-Aug-25  01:00  0.000461  2.448067  84.5000  /L   95.4641\n",
       "7   2016-Aug-25  01:10  0.000471  2.422661  83.8459  /L   96.1174\n",
       "8   2016-Aug-25  01:20  0.000480  2.397995  83.2178  /L   96.7447\n",
       "9   2016-Aug-25  01:30  0.000490  2.374032  82.6139  /L   97.3479\n",
       "10  2016-Aug-25  01:40  0.000500  2.350742  82.0327  /L   97.9285\n",
       "11  2016-Aug-25  01:50  0.000509  2.328093  81.4725  /L   98.4879\n",
       "12  2016-Aug-25  02:00  0.000518  2.306057  80.9322  /L   99.0276\n",
       "13  2016-Aug-25  02:10  0.000527  2.284605  80.4104  /L   99.5488\n",
       "14  2016-Aug-25  02:20  0.000537  2.263713  79.9060  /L  100.0525\n",
       "15  2016-Aug-25  02:30  0.000546  2.243355  79.4180  /L  100.5398\n",
       "16  2016-Aug-25  02:40  0.000555  2.223510  78.9456  /L  101.0116\n",
       "17  2016-Aug-25  02:50  0.000563  2.204154  78.4877  /L  101.4689\n",
       "18  2016-Aug-25  03:00  0.000572  2.185267  78.0436  /L  101.9123\n",
       "19  2016-Aug-25  03:10  0.000581  2.166830  77.6126  /L  102.3427\n",
       "20  2016-Aug-25  03:20  0.000590  2.148824  77.1940  /L  102.7608\n",
       "21  2016-Aug-25  03:30  0.000598  2.131233  76.7871  /L  103.1671\n",
       "22  2016-Aug-25  03:40  0.000607  2.114039  76.3913  /L  103.5622\n",
       "23  2016-Aug-25  03:50  0.000615  2.097228  76.0062  /L  103.9468\n",
       "24  2016-Aug-25  04:00  0.000624  2.080783  75.6311  /L  104.3213\n",
       "25  2016-Aug-25  04:10  0.000632  2.064691  75.2657  /L  104.6862"
      ]
     },
     "execution_count": 11,
     "metadata": {},
     "output_type": "execute_result"
    }
   ],
   "source": [
    "pd.read_clipboard(header=None)"
   ]
  },
  {
   "cell_type": "code",
   "execution_count": 16,
   "metadata": {},
   "outputs": [],
   "source": [
    "z = np.array([1, 4, 9, 17, 29])"
   ]
  },
  {
   "cell_type": "code",
   "execution_count": 17,
   "metadata": {},
   "outputs": [
    {
     "data": {
      "text/plain": [
       "array([ 1,  4,  9, 17, 29])"
      ]
     },
     "execution_count": 17,
     "metadata": {},
     "output_type": "execute_result"
    }
   ],
   "source": [
    "z"
   ]
  },
  {
   "cell_type": "code",
   "execution_count": 19,
   "metadata": {},
   "outputs": [],
   "source": [
    "dz = np.diff(z)"
   ]
  },
  {
   "cell_type": "code",
   "execution_count": 20,
   "metadata": {},
   "outputs": [],
   "source": [
    "d3z = dz[1:] * dz[0:-1] * (dz[1:] + dz[0:-1])"
   ]
  },
  {
   "cell_type": "code",
   "execution_count": 21,
   "metadata": {},
   "outputs": [
    {
     "data": {
      "text/plain": [
       "(3,)"
      ]
     },
     "execution_count": 21,
     "metadata": {},
     "output_type": "execute_result"
    }
   ],
   "source": [
    "d3z.shape"
   ]
  },
  {
   "cell_type": "code",
   "execution_count": 22,
   "metadata": {},
   "outputs": [
    {
     "data": {
      "text/plain": [
       "(4,)"
      ]
     },
     "execution_count": 22,
     "metadata": {},
     "output_type": "execute_result"
    }
   ],
   "source": [
    "dz.shape"
   ]
  },
  {
   "cell_type": "code",
   "execution_count": 31,
   "metadata": {},
   "outputs": [
    {
     "data": {
      "text/plain": [
       "273.04634410887496"
      ]
     },
     "execution_count": 31,
     "metadata": {},
     "output_type": "execute_result"
    }
   ],
   "source": [
    "main.T_eq(p, 0)"
   ]
  },
  {
   "cell_type": "code",
   "execution_count": 32,
   "metadata": {},
   "outputs": [
    {
     "data": {
      "text/plain": [
       "386.14584299516207"
      ]
     },
     "execution_count": 32,
     "metadata": {},
     "output_type": "execute_result"
    }
   ],
   "source": [
    "main.T_radeq(p, 0)"
   ]
  },
  {
   "cell_type": "code",
   "execution_count": 33,
   "metadata": {},
   "outputs": [
    {
     "data": {
      "text/plain": [
       "[8.9093e-09, -1.234e-05, 0.0023616, 2.7431, -3.6125]"
      ]
     },
     "execution_count": 33,
     "metadata": {},
     "output_type": "execute_result"
    }
   ],
   "source": [
    "p.cpCoeff"
   ]
  },
  {
   "cell_type": "code",
   "execution_count": 34,
   "metadata": {},
   "outputs": [
    {
     "data": {
      "text/plain": [
       "0.018"
      ]
     },
     "execution_count": 34,
     "metadata": {},
     "output_type": "execute_result"
    }
   ],
   "source": [
    "p.Qb"
   ]
  },
  {
   "cell_type": "code",
   "execution_count": 35,
   "metadata": {},
   "outputs": [
    {
     "data": {
      "text/plain": [
       "Configurator(sigma=5.6703744191844314e-08, S0=1361.0, chi=2.7, F=0.5, m=10, n=5, b=20, DTSURF=0.1, NYEARSEQ=1, NPERDAY=24, DTBOT=0.1)"
      ]
     },
     "execution_count": 35,
     "metadata": {},
     "output_type": "execute_result"
    }
   ],
   "source": [
    "config"
   ]
  },
  {
   "cell_type": "code",
   "execution_count": 36,
   "metadata": {},
   "outputs": [
    {
     "data": {
      "text/plain": [
       "This planet object contains information on Moon\n",
       "Type \"help(Planet)\" for more information"
      ]
     },
     "execution_count": 36,
     "metadata": {},
     "output_type": "execute_result"
    }
   ],
   "source": [
    "p"
   ]
  },
  {
   "cell_type": "code",
   "execution_count": 37,
   "metadata": {},
   "outputs": [
    {
     "data": {
      "text/plain": [
       "planets._planets.Planet"
      ]
     },
     "execution_count": 37,
     "metadata": {},
     "output_type": "execute_result"
    }
   ],
   "source": [
    "type(p)"
   ]
  },
  {
   "cell_type": "code",
   "execution_count": 39,
   "metadata": {},
   "outputs": [
    {
     "data": {
      "text/plain": [
       "array([719.7666609, 719.7666609, 719.7666609, 719.7666609, 719.7666609,\n",
       "       719.7666609, 719.7666609, 719.7666609, 719.7666609, 719.7666609,\n",
       "       719.7666609, 719.7666609, 719.7666609, 719.7666609, 719.7666609,\n",
       "       719.7666609, 719.7666609, 719.7666609, 719.7666609, 719.7666609,\n",
       "       719.7666609])"
      ]
     },
     "execution_count": 39,
     "metadata": {},
     "output_type": "execute_result"
    }
   ],
   "source": [
    "m.profile.cp"
   ]
  },
  {
   "cell_type": "code",
   "execution_count": 41,
   "metadata": {},
   "outputs": [
    {
     "data": {
      "text/plain": [
       "(4150, 21)"
      ]
     },
     "execution_count": 41,
     "metadata": {},
     "output_type": "execute_result"
    }
   ],
   "source": [
    "m.T.shape"
   ]
  },
  {
   "cell_type": "code",
   "execution_count": 42,
   "metadata": {},
   "outputs": [
    {
     "data": {
      "text/plain": [
       "array([0., 0., 0., 0., 0., 0., 0., 0., 0., 0., 0., 0., 0., 0., 0., 0., 0.,\n",
       "       0., 0., 0., 0.])"
      ]
     },
     "execution_count": 42,
     "metadata": {},
     "output_type": "execute_result"
    }
   ],
   "source": [
    "m.T[-1]"
   ]
  },
  {
   "cell_type": "code",
   "execution_count": null,
   "metadata": {},
   "outputs": [],
   "source": []
  }
 ],
 "metadata": {
  "kernelspec": {
   "display_name": "Python [conda env:py37]",
   "language": "python",
   "name": "conda-env-py37-py"
  },
  "language_info": {
   "codemirror_mode": {
    "name": "ipython",
    "version": 3
   },
   "file_extension": ".py",
   "mimetype": "text/x-python",
   "name": "python",
   "nbconvert_exporter": "python",
   "pygments_lexer": "ipython3",
   "version": "3.7.9"
  },
  "widgets": {
   "application/vnd.jupyter.widget-state+json": {
    "state": {},
    "version_major": 2,
    "version_minor": 0
   }
  }
 },
 "nbformat": 4,
 "nbformat_minor": 4
}
