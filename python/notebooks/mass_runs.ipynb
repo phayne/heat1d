{
 "cells": [
  {
   "cell_type": "code",
   "execution_count": 1,
   "metadata": {},
   "outputs": [],
   "source": [
    "%matplotlib widget"
   ]
  },
  {
   "cell_type": "code",
   "execution_count": 2,
   "metadata": {},
   "outputs": [],
   "source": [
    "import heat1d\n",
    "import planets\n",
    "from heat1d.plotting import (\n",
    "    compare_model_profiles,\n",
    "    diurnal_curves,\n",
    "    plot_profile_and_diurnals,\n",
    "    profile_plot,\n",
    "    plot_last_surface_cooling\n",
    ")\n",
    "import math"
   ]
  },
  {
   "cell_type": "code",
   "execution_count": 3,
   "metadata": {},
   "outputs": [
    {
     "data": {
      "text/plain": [
       "Configurator(sigma=5.6703744191844314e-08, S0=1361.0, chi=1, F=0.5, m=10, n=5, b=20, DTSURF=0.1, NYEARSEQ=1, NPERDAY=24, DTBOT=0.1)"
      ]
     },
     "execution_count": 3,
     "metadata": {},
     "output_type": "execute_result"
    }
   ],
   "source": [
    "conf = heat1d.Configurator(chi=1)\n",
    "conf"
   ]
  },
  {
   "cell_type": "code",
   "execution_count": 4,
   "metadata": {},
   "outputs": [],
   "source": [
    "m = heat1d.Model(planet=planets.Moon, lat=math.radians(0), ndays=5, config=conf)\n",
    "m2 = heat1d.Model(planet=planets.Moon, lat=math.radians(45), ndays=5, config=conf)"
   ]
  },
  {
   "cell_type": "code",
   "execution_count": 5,
   "metadata": {},
   "outputs": [
    {
     "data": {
      "text/plain": [
       "array([45. , 45.1, 45.2, 45.3, 45.4, 45.5, 45.6, 45.7, 45.8, 45.9, 46. ])"
      ]
     },
     "execution_count": 5,
     "metadata": {},
     "output_type": "execute_result"
    }
   ],
   "source": [
    "lats = np.linspace(45, 46, 11)\n",
    "lats"
   ]
  },
  {
   "cell_type": "code",
   "execution_count": 152,
   "metadata": {},
   "outputs": [
    {
     "data": {
      "text/plain": [
       "array([0.05, 0.06, 0.07, 0.08, 0.09, 0.1 ])"
      ]
     },
     "execution_count": 152,
     "metadata": {},
     "output_type": "execute_result"
    }
   ],
   "source": [
    "H_values = np.linspace(0.05, 0.1, 6)\n",
    "H_values"
   ]
  },
  {
   "cell_type": "code",
   "execution_count": 153,
   "metadata": {},
   "outputs": [],
   "source": [
    "def extract_data(m):\n",
    "    d = {}\n",
    "    d[\"T_max\"] = m.T.max(0)\n",
    "    d[\"T_min\"] = m.T.min(0)\n",
    "    d[\"T_avg\"] = m.T.mean(0)\n",
    "#     d[\"lat\"] = m.lat\n",
    "    return d"
   ]
  },
  {
   "cell_type": "code",
   "execution_count": 131,
   "metadata": {},
   "outputs": [],
   "source": [
    "def run_lat_model(lat, conf):\n",
    "    m = heat1d.Model(planet=planets.Moon, lat=math.radians(lat), ndays=5, config=conf)\n",
    "    m.run()\n",
    "    return m"
   ]
  },
  {
   "cell_type": "code",
   "execution_count": 132,
   "metadata": {},
   "outputs": [],
   "source": [
    "from tqdm.auto import tqdm\n",
    "import xarray as xr"
   ]
  },
  {
   "cell_type": "code",
   "execution_count": 137,
   "metadata": {},
   "outputs": [
    {
     "data": {
      "application/vnd.jupyter.widget-view+json": {
       "model_id": "5d2657f93e344667bf8994dbb5e0f401",
       "version_major": 2,
       "version_minor": 0
      },
      "text/plain": [
       "Canvas(toolbar=Toolbar(toolitems=[('Home', 'Reset original view', 'home', 'home'), ('Back', 'Back to previous …"
      ]
     },
     "metadata": {},
     "output_type": "display_data"
    }
   ],
   "source": [
    "diurnal_curves(m)"
   ]
  },
  {
   "cell_type": "code",
   "execution_count": 149,
   "metadata": {},
   "outputs": [
    {
     "data": {
      "application/vnd.jupyter.widget-view+json": {
       "model_id": "3e2f610b3b5d4235a4324e6eb39c4a35",
       "version_major": 2,
       "version_minor": 0
      },
      "text/plain": [
       "Canvas(toolbar=Toolbar(toolitems=[('Home', 'Reset original view', 'home', 'home'), ('Back', 'Back to previous …"
      ]
     },
     "metadata": {},
     "output_type": "display_data"
    },
    {
     "data": {
      "text/plain": [
       "[<matplotlib.lines.Line2D at 0x7fbbb25a7790>]"
      ]
     },
     "execution_count": 149,
     "metadata": {},
     "output_type": "execute_result"
    }
   ],
   "source": [
    "plt.figure()\n",
    "plt.plot(m.lt, m.T[:, 0], '.')"
   ]
  },
  {
   "cell_type": "code",
   "execution_count": 155,
   "metadata": {
    "collapsed": true,
    "jupyter": {
     "outputs_hidden": true
    }
   },
   "outputs": [
    {
     "data": {
      "application/vnd.jupyter.widget-view+json": {
       "model_id": "648e95111b194abb85b9d758df48ab9b",
       "version_major": 2,
       "version_minor": 0
      },
      "text/plain": [
       "Canvas(toolbar=Toolbar(toolitems=[('Home', 'Reset original view', 'home', 'home'), ('Back', 'Back to previous …"
      ]
     },
     "metadata": {},
     "output_type": "display_data"
    },
    {
     "data": {
      "text/plain": [
       "[<matplotlib.lines.Line2D at 0x7fbba42be810>]"
      ]
     },
     "execution_count": 155,
     "metadata": {},
     "output_type": "execute_result"
    }
   ],
   "source": [
    "plt.figure()\n",
    "plt.plot(m.lt)"
   ]
  },
  {
   "cell_type": "code",
   "execution_count": 133,
   "metadata": {
    "jupyter": {
     "source_hidden": true
    }
   },
   "outputs": [],
   "source": [
    "def create_DataArray(data, m, name):\n",
    "    data = np.dstack(data)\n",
    "    \n",
    "    da = xr.DataArray(\n",
    "        data,\n",
    "        dims = [\"H\", \"z\", \"lat\"],\n",
    "        coords={\n",
    "            \"H\": np.atleast_1d(m.profile.H),\n",
    "            \"z\": m.profile.z,\n",
    "            \"lat\" : lats\n",
    "        },\n",
    "        name=name\n",
    "    )\n",
    "    return da"
   ]
  },
  {
   "cell_type": "code",
   "execution_count": 134,
   "metadata": {},
   "outputs": [
    {
     "data": {
      "application/vnd.jupyter.widget-view+json": {
       "model_id": "f0a095f5a4674afc9a7c79f943b63fe2",
       "version_major": 2,
       "version_minor": 0
      },
      "text/plain": [
       "HBox(children=(HTML(value=''), FloatProgress(value=0.0, max=5.0), HTML(value='')))"
      ]
     },
     "metadata": {},
     "output_type": "display_data"
    },
    {
     "name": "stdout",
     "output_type": "stream",
     "text": [
      "\n"
     ]
    }
   ],
   "source": [
    "T_avgs = []\n",
    "T_maxs = []\n",
    "T_mins = []\n",
    "\n",
    "for lat in tqdm(lats):\n",
    "    m = run_lat_model(lat, heat1d.Configurator())\n",
    "    T_avgs.append(m.T.mean(0))\n",
    "    T_mins.append(m.T.min(0))\n",
    "    T_maxs.append(m.T.max(0))\n",
    "    \n",
    "TAVG = create_DataArray(T_avgs, m, \"T_avg\")\n",
    "TMAX = create_DataArray(T_maxs, m, \"T_max\")\n",
    "TMIN = create_DataArray(T_mins, m, \"T_min\")\n",
    "\n"
   ]
  },
  {
   "cell_type": "code",
   "execution_count": 135,
   "metadata": {},
   "outputs": [
    {
     "data": {
      "text/html": [
       "<div><svg style=\"position: absolute; width: 0; height: 0; overflow: hidden\">\n",
       "<defs>\n",
       "<symbol id=\"icon-database\" viewBox=\"0 0 32 32\">\n",
       "<path d=\"M16 0c-8.837 0-16 2.239-16 5v4c0 2.761 7.163 5 16 5s16-2.239 16-5v-4c0-2.761-7.163-5-16-5z\"></path>\n",
       "<path d=\"M16 17c-8.837 0-16-2.239-16-5v6c0 2.761 7.163 5 16 5s16-2.239 16-5v-6c0 2.761-7.163 5-16 5z\"></path>\n",
       "<path d=\"M16 26c-8.837 0-16-2.239-16-5v6c0 2.761 7.163 5 16 5s16-2.239 16-5v-6c0 2.761-7.163 5-16 5z\"></path>\n",
       "</symbol>\n",
       "<symbol id=\"icon-file-text2\" viewBox=\"0 0 32 32\">\n",
       "<path d=\"M28.681 7.159c-0.694-0.947-1.662-2.053-2.724-3.116s-2.169-2.030-3.116-2.724c-1.612-1.182-2.393-1.319-2.841-1.319h-15.5c-1.378 0-2.5 1.121-2.5 2.5v27c0 1.378 1.122 2.5 2.5 2.5h23c1.378 0 2.5-1.122 2.5-2.5v-19.5c0-0.448-0.137-1.23-1.319-2.841zM24.543 5.457c0.959 0.959 1.712 1.825 2.268 2.543h-4.811v-4.811c0.718 0.556 1.584 1.309 2.543 2.268zM28 29.5c0 0.271-0.229 0.5-0.5 0.5h-23c-0.271 0-0.5-0.229-0.5-0.5v-27c0-0.271 0.229-0.5 0.5-0.5 0 0 15.499-0 15.5 0v7c0 0.552 0.448 1 1 1h7v19.5z\"></path>\n",
       "<path d=\"M23 26h-14c-0.552 0-1-0.448-1-1s0.448-1 1-1h14c0.552 0 1 0.448 1 1s-0.448 1-1 1z\"></path>\n",
       "<path d=\"M23 22h-14c-0.552 0-1-0.448-1-1s0.448-1 1-1h14c0.552 0 1 0.448 1 1s-0.448 1-1 1z\"></path>\n",
       "<path d=\"M23 18h-14c-0.552 0-1-0.448-1-1s0.448-1 1-1h14c0.552 0 1 0.448 1 1s-0.448 1-1 1z\"></path>\n",
       "</symbol>\n",
       "</defs>\n",
       "</svg>\n",
       "<style>/* CSS stylesheet for displaying xarray objects in jupyterlab.\n",
       " *\n",
       " */\n",
       "\n",
       ":root {\n",
       "  --xr-font-color0: var(--jp-content-font-color0, rgba(0, 0, 0, 1));\n",
       "  --xr-font-color2: var(--jp-content-font-color2, rgba(0, 0, 0, 0.54));\n",
       "  --xr-font-color3: var(--jp-content-font-color3, rgba(0, 0, 0, 0.38));\n",
       "  --xr-border-color: var(--jp-border-color2, #e0e0e0);\n",
       "  --xr-disabled-color: var(--jp-layout-color3, #bdbdbd);\n",
       "  --xr-background-color: var(--jp-layout-color0, white);\n",
       "  --xr-background-color-row-even: var(--jp-layout-color1, white);\n",
       "  --xr-background-color-row-odd: var(--jp-layout-color2, #eeeeee);\n",
       "}\n",
       "\n",
       "html[theme=dark],\n",
       "body.vscode-dark {\n",
       "  --xr-font-color0: rgba(255, 255, 255, 1);\n",
       "  --xr-font-color2: rgba(255, 255, 255, 0.54);\n",
       "  --xr-font-color3: rgba(255, 255, 255, 0.38);\n",
       "  --xr-border-color: #1F1F1F;\n",
       "  --xr-disabled-color: #515151;\n",
       "  --xr-background-color: #111111;\n",
       "  --xr-background-color-row-even: #111111;\n",
       "  --xr-background-color-row-odd: #313131;\n",
       "}\n",
       "\n",
       ".xr-wrap {\n",
       "  display: block;\n",
       "  min-width: 300px;\n",
       "  max-width: 700px;\n",
       "}\n",
       "\n",
       ".xr-text-repr-fallback {\n",
       "  /* fallback to plain text repr when CSS is not injected (untrusted notebook) */\n",
       "  display: none;\n",
       "}\n",
       "\n",
       ".xr-header {\n",
       "  padding-top: 6px;\n",
       "  padding-bottom: 6px;\n",
       "  margin-bottom: 4px;\n",
       "  border-bottom: solid 1px var(--xr-border-color);\n",
       "}\n",
       "\n",
       ".xr-header > div,\n",
       ".xr-header > ul {\n",
       "  display: inline;\n",
       "  margin-top: 0;\n",
       "  margin-bottom: 0;\n",
       "}\n",
       "\n",
       ".xr-obj-type,\n",
       ".xr-array-name {\n",
       "  margin-left: 2px;\n",
       "  margin-right: 10px;\n",
       "}\n",
       "\n",
       ".xr-obj-type {\n",
       "  color: var(--xr-font-color2);\n",
       "}\n",
       "\n",
       ".xr-sections {\n",
       "  padding-left: 0 !important;\n",
       "  display: grid;\n",
       "  grid-template-columns: 150px auto auto 1fr 20px 20px;\n",
       "}\n",
       "\n",
       ".xr-section-item {\n",
       "  display: contents;\n",
       "}\n",
       "\n",
       ".xr-section-item input {\n",
       "  display: none;\n",
       "}\n",
       "\n",
       ".xr-section-item input + label {\n",
       "  color: var(--xr-disabled-color);\n",
       "}\n",
       "\n",
       ".xr-section-item input:enabled + label {\n",
       "  cursor: pointer;\n",
       "  color: var(--xr-font-color2);\n",
       "}\n",
       "\n",
       ".xr-section-item input:enabled + label:hover {\n",
       "  color: var(--xr-font-color0);\n",
       "}\n",
       "\n",
       ".xr-section-summary {\n",
       "  grid-column: 1;\n",
       "  color: var(--xr-font-color2);\n",
       "  font-weight: 500;\n",
       "}\n",
       "\n",
       ".xr-section-summary > span {\n",
       "  display: inline-block;\n",
       "  padding-left: 0.5em;\n",
       "}\n",
       "\n",
       ".xr-section-summary-in:disabled + label {\n",
       "  color: var(--xr-font-color2);\n",
       "}\n",
       "\n",
       ".xr-section-summary-in + label:before {\n",
       "  display: inline-block;\n",
       "  content: '►';\n",
       "  font-size: 11px;\n",
       "  width: 15px;\n",
       "  text-align: center;\n",
       "}\n",
       "\n",
       ".xr-section-summary-in:disabled + label:before {\n",
       "  color: var(--xr-disabled-color);\n",
       "}\n",
       "\n",
       ".xr-section-summary-in:checked + label:before {\n",
       "  content: '▼';\n",
       "}\n",
       "\n",
       ".xr-section-summary-in:checked + label > span {\n",
       "  display: none;\n",
       "}\n",
       "\n",
       ".xr-section-summary,\n",
       ".xr-section-inline-details {\n",
       "  padding-top: 4px;\n",
       "  padding-bottom: 4px;\n",
       "}\n",
       "\n",
       ".xr-section-inline-details {\n",
       "  grid-column: 2 / -1;\n",
       "}\n",
       "\n",
       ".xr-section-details {\n",
       "  display: none;\n",
       "  grid-column: 1 / -1;\n",
       "  margin-bottom: 5px;\n",
       "}\n",
       "\n",
       ".xr-section-summary-in:checked ~ .xr-section-details {\n",
       "  display: contents;\n",
       "}\n",
       "\n",
       ".xr-array-wrap {\n",
       "  grid-column: 1 / -1;\n",
       "  display: grid;\n",
       "  grid-template-columns: 20px auto;\n",
       "}\n",
       "\n",
       ".xr-array-wrap > label {\n",
       "  grid-column: 1;\n",
       "  vertical-align: top;\n",
       "}\n",
       "\n",
       ".xr-preview {\n",
       "  color: var(--xr-font-color3);\n",
       "}\n",
       "\n",
       ".xr-array-preview,\n",
       ".xr-array-data {\n",
       "  padding: 0 5px !important;\n",
       "  grid-column: 2;\n",
       "}\n",
       "\n",
       ".xr-array-data,\n",
       ".xr-array-in:checked ~ .xr-array-preview {\n",
       "  display: none;\n",
       "}\n",
       "\n",
       ".xr-array-in:checked ~ .xr-array-data,\n",
       ".xr-array-preview {\n",
       "  display: inline-block;\n",
       "}\n",
       "\n",
       ".xr-dim-list {\n",
       "  display: inline-block !important;\n",
       "  list-style: none;\n",
       "  padding: 0 !important;\n",
       "  margin: 0;\n",
       "}\n",
       "\n",
       ".xr-dim-list li {\n",
       "  display: inline-block;\n",
       "  padding: 0;\n",
       "  margin: 0;\n",
       "}\n",
       "\n",
       ".xr-dim-list:before {\n",
       "  content: '(';\n",
       "}\n",
       "\n",
       ".xr-dim-list:after {\n",
       "  content: ')';\n",
       "}\n",
       "\n",
       ".xr-dim-list li:not(:last-child):after {\n",
       "  content: ',';\n",
       "  padding-right: 5px;\n",
       "}\n",
       "\n",
       ".xr-has-index {\n",
       "  font-weight: bold;\n",
       "}\n",
       "\n",
       ".xr-var-list,\n",
       ".xr-var-item {\n",
       "  display: contents;\n",
       "}\n",
       "\n",
       ".xr-var-item > div,\n",
       ".xr-var-item label,\n",
       ".xr-var-item > .xr-var-name span {\n",
       "  background-color: var(--xr-background-color-row-even);\n",
       "  margin-bottom: 0;\n",
       "}\n",
       "\n",
       ".xr-var-item > .xr-var-name:hover span {\n",
       "  padding-right: 5px;\n",
       "}\n",
       "\n",
       ".xr-var-list > li:nth-child(odd) > div,\n",
       ".xr-var-list > li:nth-child(odd) > label,\n",
       ".xr-var-list > li:nth-child(odd) > .xr-var-name span {\n",
       "  background-color: var(--xr-background-color-row-odd);\n",
       "}\n",
       "\n",
       ".xr-var-name {\n",
       "  grid-column: 1;\n",
       "}\n",
       "\n",
       ".xr-var-dims {\n",
       "  grid-column: 2;\n",
       "}\n",
       "\n",
       ".xr-var-dtype {\n",
       "  grid-column: 3;\n",
       "  text-align: right;\n",
       "  color: var(--xr-font-color2);\n",
       "}\n",
       "\n",
       ".xr-var-preview {\n",
       "  grid-column: 4;\n",
       "}\n",
       "\n",
       ".xr-var-name,\n",
       ".xr-var-dims,\n",
       ".xr-var-dtype,\n",
       ".xr-preview,\n",
       ".xr-attrs dt {\n",
       "  white-space: nowrap;\n",
       "  overflow: hidden;\n",
       "  text-overflow: ellipsis;\n",
       "  padding-right: 10px;\n",
       "}\n",
       "\n",
       ".xr-var-name:hover,\n",
       ".xr-var-dims:hover,\n",
       ".xr-var-dtype:hover,\n",
       ".xr-attrs dt:hover {\n",
       "  overflow: visible;\n",
       "  width: auto;\n",
       "  z-index: 1;\n",
       "}\n",
       "\n",
       ".xr-var-attrs,\n",
       ".xr-var-data {\n",
       "  display: none;\n",
       "  background-color: var(--xr-background-color) !important;\n",
       "  padding-bottom: 5px !important;\n",
       "}\n",
       "\n",
       ".xr-var-attrs-in:checked ~ .xr-var-attrs,\n",
       ".xr-var-data-in:checked ~ .xr-var-data {\n",
       "  display: block;\n",
       "}\n",
       "\n",
       ".xr-var-data > table {\n",
       "  float: right;\n",
       "}\n",
       "\n",
       ".xr-var-name span,\n",
       ".xr-var-data,\n",
       ".xr-attrs {\n",
       "  padding-left: 25px !important;\n",
       "}\n",
       "\n",
       ".xr-attrs,\n",
       ".xr-var-attrs,\n",
       ".xr-var-data {\n",
       "  grid-column: 1 / -1;\n",
       "}\n",
       "\n",
       "dl.xr-attrs {\n",
       "  padding: 0;\n",
       "  margin: 0;\n",
       "  display: grid;\n",
       "  grid-template-columns: 125px auto;\n",
       "}\n",
       "\n",
       ".xr-attrs dt, dd {\n",
       "  padding: 0;\n",
       "  margin: 0;\n",
       "  float: left;\n",
       "  padding-right: 10px;\n",
       "  width: auto;\n",
       "}\n",
       "\n",
       ".xr-attrs dt {\n",
       "  font-weight: normal;\n",
       "  grid-column: 1;\n",
       "}\n",
       "\n",
       ".xr-attrs dt:hover span {\n",
       "  display: inline-block;\n",
       "  background: var(--xr-background-color);\n",
       "  padding-right: 10px;\n",
       "}\n",
       "\n",
       ".xr-attrs dd {\n",
       "  grid-column: 2;\n",
       "  white-space: pre-wrap;\n",
       "  word-break: break-all;\n",
       "}\n",
       "\n",
       ".xr-icon-database,\n",
       ".xr-icon-file-text2 {\n",
       "  display: inline-block;\n",
       "  vertical-align: middle;\n",
       "  width: 1em;\n",
       "  height: 1.5em !important;\n",
       "  stroke-width: 0;\n",
       "  stroke: currentColor;\n",
       "  fill: currentColor;\n",
       "}\n",
       "</style><pre class='xr-text-repr-fallback'>&lt;xarray.DataArray &#x27;T_avg&#x27; (H: 1, z: 21, lat: 5)&gt;\n",
       "array([[[211.0803567 , 210.54103266, 208.1738231 , 203.75289663,\n",
       "         197.01323461],\n",
       "        [221.63070942, 220.95354352, 218.17908104, 213.08513779,\n",
       "         205.39240312],\n",
       "        [230.6118305 , 229.82046325, 226.71611127, 221.07697935,\n",
       "         212.60418981],\n",
       "        [238.01835684, 237.13482637, 233.77324892, 227.71086866,\n",
       "         218.62673076],\n",
       "        [244.00785578, 243.04981168, 239.49005734, 233.10554251,\n",
       "         223.55386634],\n",
       "        [248.7634044 , 247.74431873, 244.03246645, 237.40645859,\n",
       "         227.5053284 ],\n",
       "        [252.46768463, 251.39761806, 247.5693046 , 240.76547214,\n",
       "         230.61075012],\n",
       "        [255.29450894, 254.18095494, 250.26417798, 243.3332256 ,\n",
       "         233.00299528],\n",
       "        [257.40683339, 256.25549711, 252.2731364 , 245.256368  ,\n",
       "         234.81501303],\n",
       "        [258.95679166, 257.77226535, 253.74405651, 246.67610275,\n",
       "         236.177476  ],\n",
       "...\n",
       "        [260.92123323, 259.68233803, 255.61429048, 248.52925568,\n",
       "         238.04558563],\n",
       "        [261.57554322, 260.31559425, 256.25023597, 249.19203566,\n",
       "         238.76795482],\n",
       "        [262.13812435, 260.86187413, 256.81195557, 249.80042721,\n",
       "         239.46454423],\n",
       "        [262.67326415, 261.38645645, 257.36362628, 250.41694022,\n",
       "         240.19514721],\n",
       "        [263.21954767, 261.92924089, 257.94485087, 251.08015993,\n",
       "         240.99633609],\n",
       "        [263.79185168, 262.50626239, 258.57131046, 251.80396483,\n",
       "         241.8784352 ],\n",
       "        [264.38240417, 263.10965502, 259.23270615, 252.5726582 ,\n",
       "         242.81672801],\n",
       "        [264.95715045, 263.70238324, 259.88455116, 253.32884572,\n",
       "         243.7341307 ],\n",
       "        [265.44538522, 264.20641034, 260.43348606, 253.95477415,\n",
       "         244.47715586],\n",
       "        [265.72712727, 264.49031321, 260.72403856, 254.25700265,\n",
       "         244.79702926]]])\n",
       "Coordinates:\n",
       "  * H        (H) float64 0.07\n",
       "  * z        (z) float64 0.0 0.003621 0.007966 0.01318 ... 0.4639 0.5603 0.676\n",
       "  * lat      (lat) int64 0 10 20 30 40</pre><div class='xr-wrap' hidden><div class='xr-header'><div class='xr-obj-type'>xarray.DataArray</div><div class='xr-array-name'>'T_avg'</div><ul class='xr-dim-list'><li><span class='xr-has-index'>H</span>: 1</li><li><span class='xr-has-index'>z</span>: 21</li><li><span class='xr-has-index'>lat</span>: 5</li></ul></div><ul class='xr-sections'><li class='xr-section-item'><div class='xr-array-wrap'><input id='section-494cc8cf-c56e-455d-b25e-e01548f96e2c' class='xr-array-in' type='checkbox' checked><label for='section-494cc8cf-c56e-455d-b25e-e01548f96e2c' title='Show/hide data repr'><svg class='icon xr-icon-database'><use xlink:href='#icon-database'></use></svg></label><div class='xr-array-preview xr-preview'><span>211.1 210.5 208.2 203.8 197.0 221.6 ... 265.7 264.5 260.7 254.3 244.8</span></div><div class='xr-array-data'><pre>array([[[211.0803567 , 210.54103266, 208.1738231 , 203.75289663,\n",
       "         197.01323461],\n",
       "        [221.63070942, 220.95354352, 218.17908104, 213.08513779,\n",
       "         205.39240312],\n",
       "        [230.6118305 , 229.82046325, 226.71611127, 221.07697935,\n",
       "         212.60418981],\n",
       "        [238.01835684, 237.13482637, 233.77324892, 227.71086866,\n",
       "         218.62673076],\n",
       "        [244.00785578, 243.04981168, 239.49005734, 233.10554251,\n",
       "         223.55386634],\n",
       "        [248.7634044 , 247.74431873, 244.03246645, 237.40645859,\n",
       "         227.5053284 ],\n",
       "        [252.46768463, 251.39761806, 247.5693046 , 240.76547214,\n",
       "         230.61075012],\n",
       "        [255.29450894, 254.18095494, 250.26417798, 243.3332256 ,\n",
       "         233.00299528],\n",
       "        [257.40683339, 256.25549711, 252.2731364 , 245.256368  ,\n",
       "         234.81501303],\n",
       "        [258.95679166, 257.77226535, 253.74405651, 246.67610275,\n",
       "         236.177476  ],\n",
       "...\n",
       "        [260.92123323, 259.68233803, 255.61429048, 248.52925568,\n",
       "         238.04558563],\n",
       "        [261.57554322, 260.31559425, 256.25023597, 249.19203566,\n",
       "         238.76795482],\n",
       "        [262.13812435, 260.86187413, 256.81195557, 249.80042721,\n",
       "         239.46454423],\n",
       "        [262.67326415, 261.38645645, 257.36362628, 250.41694022,\n",
       "         240.19514721],\n",
       "        [263.21954767, 261.92924089, 257.94485087, 251.08015993,\n",
       "         240.99633609],\n",
       "        [263.79185168, 262.50626239, 258.57131046, 251.80396483,\n",
       "         241.8784352 ],\n",
       "        [264.38240417, 263.10965502, 259.23270615, 252.5726582 ,\n",
       "         242.81672801],\n",
       "        [264.95715045, 263.70238324, 259.88455116, 253.32884572,\n",
       "         243.7341307 ],\n",
       "        [265.44538522, 264.20641034, 260.43348606, 253.95477415,\n",
       "         244.47715586],\n",
       "        [265.72712727, 264.49031321, 260.72403856, 254.25700265,\n",
       "         244.79702926]]])</pre></div></div></li><li class='xr-section-item'><input id='section-bda87752-04ca-4f55-ad09-59b056fe304b' class='xr-section-summary-in' type='checkbox'  checked><label for='section-bda87752-04ca-4f55-ad09-59b056fe304b' class='xr-section-summary' >Coordinates: <span>(3)</span></label><div class='xr-section-inline-details'></div><div class='xr-section-details'><ul class='xr-var-list'><li class='xr-var-item'><div class='xr-var-name'><span class='xr-has-index'>H</span></div><div class='xr-var-dims'>(H)</div><div class='xr-var-dtype'>float64</div><div class='xr-var-preview xr-preview'>0.07</div><input id='attrs-3ddc8bf2-46b3-40b3-8176-c7e36c4a7074' class='xr-var-attrs-in' type='checkbox' disabled><label for='attrs-3ddc8bf2-46b3-40b3-8176-c7e36c4a7074' title='Show/Hide attributes'><svg class='icon xr-icon-file-text2'><use xlink:href='#icon-file-text2'></use></svg></label><input id='data-1b166b1f-3fd5-4e94-a49c-d05a4894dcd8' class='xr-var-data-in' type='checkbox'><label for='data-1b166b1f-3fd5-4e94-a49c-d05a4894dcd8' title='Show/Hide data repr'><svg class='icon xr-icon-database'><use xlink:href='#icon-database'></use></svg></label><div class='xr-var-attrs'><dl class='xr-attrs'></dl></div><div class='xr-var-data'><pre>array([0.07])</pre></div></li><li class='xr-var-item'><div class='xr-var-name'><span class='xr-has-index'>z</span></div><div class='xr-var-dims'>(z)</div><div class='xr-var-dtype'>float64</div><div class='xr-var-preview xr-preview'>0.0 0.003621 ... 0.5603 0.676</div><input id='attrs-8a709134-7f5f-4897-b984-be93b5bd8c41' class='xr-var-attrs-in' type='checkbox' disabled><label for='attrs-8a709134-7f5f-4897-b984-be93b5bd8c41' title='Show/Hide attributes'><svg class='icon xr-icon-file-text2'><use xlink:href='#icon-file-text2'></use></svg></label><input id='data-d7fee692-46eb-4d27-a93c-d55f036b18b4' class='xr-var-data-in' type='checkbox'><label for='data-d7fee692-46eb-4d27-a93c-d55f036b18b4' title='Show/Hide data repr'><svg class='icon xr-icon-database'><use xlink:href='#icon-database'></use></svg></label><div class='xr-var-attrs'><dl class='xr-attrs'></dl></div><div class='xr-var-data'><pre>array([0.      , 0.003621, 0.007966, 0.013181, 0.019438, 0.026947, 0.035957,\n",
       "       0.04677 , 0.059745, 0.075315, 0.094   , 0.116421, 0.143326, 0.175612,\n",
       "       0.214356, 0.260848, 0.316639, 0.383587, 0.463926, 0.560332, 0.67602 ])</pre></div></li><li class='xr-var-item'><div class='xr-var-name'><span class='xr-has-index'>lat</span></div><div class='xr-var-dims'>(lat)</div><div class='xr-var-dtype'>int64</div><div class='xr-var-preview xr-preview'>0 10 20 30 40</div><input id='attrs-69d78f3e-cc25-4a50-8e2a-fded505fff82' class='xr-var-attrs-in' type='checkbox' disabled><label for='attrs-69d78f3e-cc25-4a50-8e2a-fded505fff82' title='Show/Hide attributes'><svg class='icon xr-icon-file-text2'><use xlink:href='#icon-file-text2'></use></svg></label><input id='data-77d22a1b-2a13-44c6-9a07-f50936859b8b' class='xr-var-data-in' type='checkbox'><label for='data-77d22a1b-2a13-44c6-9a07-f50936859b8b' title='Show/Hide data repr'><svg class='icon xr-icon-database'><use xlink:href='#icon-database'></use></svg></label><div class='xr-var-attrs'><dl class='xr-attrs'></dl></div><div class='xr-var-data'><pre>array([ 0, 10, 20, 30, 40])</pre></div></li></ul></div></li><li class='xr-section-item'><input id='section-8acdc060-e4d6-43a7-ba9a-ad226559ed50' class='xr-section-summary-in' type='checkbox' disabled ><label for='section-8acdc060-e4d6-43a7-ba9a-ad226559ed50' class='xr-section-summary'  title='Expand/collapse section'>Attributes: <span>(0)</span></label><div class='xr-section-inline-details'></div><div class='xr-section-details'><dl class='xr-attrs'></dl></div></li></ul></div></div>"
      ],
      "text/plain": [
       "<xarray.DataArray 'T_avg' (H: 1, z: 21, lat: 5)>\n",
       "array([[[211.0803567 , 210.54103266, 208.1738231 , 203.75289663,\n",
       "         197.01323461],\n",
       "        [221.63070942, 220.95354352, 218.17908104, 213.08513779,\n",
       "         205.39240312],\n",
       "        [230.6118305 , 229.82046325, 226.71611127, 221.07697935,\n",
       "         212.60418981],\n",
       "        [238.01835684, 237.13482637, 233.77324892, 227.71086866,\n",
       "         218.62673076],\n",
       "        [244.00785578, 243.04981168, 239.49005734, 233.10554251,\n",
       "         223.55386634],\n",
       "        [248.7634044 , 247.74431873, 244.03246645, 237.40645859,\n",
       "         227.5053284 ],\n",
       "        [252.46768463, 251.39761806, 247.5693046 , 240.76547214,\n",
       "         230.61075012],\n",
       "        [255.29450894, 254.18095494, 250.26417798, 243.3332256 ,\n",
       "         233.00299528],\n",
       "        [257.40683339, 256.25549711, 252.2731364 , 245.256368  ,\n",
       "         234.81501303],\n",
       "        [258.95679166, 257.77226535, 253.74405651, 246.67610275,\n",
       "         236.177476  ],\n",
       "...\n",
       "        [260.92123323, 259.68233803, 255.61429048, 248.52925568,\n",
       "         238.04558563],\n",
       "        [261.57554322, 260.31559425, 256.25023597, 249.19203566,\n",
       "         238.76795482],\n",
       "        [262.13812435, 260.86187413, 256.81195557, 249.80042721,\n",
       "         239.46454423],\n",
       "        [262.67326415, 261.38645645, 257.36362628, 250.41694022,\n",
       "         240.19514721],\n",
       "        [263.21954767, 261.92924089, 257.94485087, 251.08015993,\n",
       "         240.99633609],\n",
       "        [263.79185168, 262.50626239, 258.57131046, 251.80396483,\n",
       "         241.8784352 ],\n",
       "        [264.38240417, 263.10965502, 259.23270615, 252.5726582 ,\n",
       "         242.81672801],\n",
       "        [264.95715045, 263.70238324, 259.88455116, 253.32884572,\n",
       "         243.7341307 ],\n",
       "        [265.44538522, 264.20641034, 260.43348606, 253.95477415,\n",
       "         244.47715586],\n",
       "        [265.72712727, 264.49031321, 260.72403856, 254.25700265,\n",
       "         244.79702926]]])\n",
       "Coordinates:\n",
       "  * H        (H) float64 0.07\n",
       "  * z        (z) float64 0.0 0.003621 0.007966 0.01318 ... 0.4639 0.5603 0.676\n",
       "  * lat      (lat) int64 0 10 20 30 40"
      ]
     },
     "execution_count": 135,
     "metadata": {},
     "output_type": "execute_result"
    }
   ],
   "source": [
    "TAVG"
   ]
  },
  {
   "cell_type": "code",
   "execution_count": 105,
   "metadata": {},
   "outputs": [],
   "source": [
    "import hvplot.xarray"
   ]
  },
  {
   "cell_type": "code",
   "execution_count": 136,
   "metadata": {},
   "outputs": [
    {
     "data": {},
     "metadata": {},
     "output_type": "display_data"
    },
    {
     "data": {
      "application/vnd.holoviews_exec.v0+json": "",
      "text/html": [
       "<div id='2924'>\n",
       "\n",
       "\n",
       "\n",
       "\n",
       "\n",
       "  <div class=\"bk-root\" id=\"a41e2d41-d0c6-41bd-8cd0-7513fd9985e2\" data-root-id=\"2924\"></div>\n",
       "</div>\n",
       "<script type=\"application/javascript\">(function(root) {\n",
       "  function embed_document(root) {\n",
       "  var docs_json = {\"4a83c581-a89f-4097-b7db-5cdb4938aaa0\":{\"roots\":{\"references\":[{\"attributes\":{\"active_drag\":\"auto\",\"active_inspect\":\"auto\",\"active_multi\":null,\"active_scroll\":\"auto\",\"active_tap\":\"auto\",\"tools\":[{\"id\":\"2928\"},{\"id\":\"2946\"},{\"id\":\"2947\"},{\"id\":\"2948\"},{\"id\":\"2949\"},{\"id\":\"2950\"}]},\"id\":\"2952\",\"type\":\"Toolbar\"},{\"attributes\":{\"line_alpha\":0.2,\"line_color\":\"#1f77b3\",\"line_width\":2,\"x\":{\"field\":\"T_avg\"},\"y\":{\"field\":\"z\"}},\"id\":\"2964\",\"type\":\"Line\"},{\"attributes\":{\"margin\":[5,5,5,5],\"name\":\"HSpacer06625\",\"sizing_mode\":\"stretch_width\"},\"id\":\"2925\",\"type\":\"Spacer\"},{\"attributes\":{\"axis\":{\"id\":\"2938\"},\"grid_line_color\":null,\"ticker\":null},\"id\":\"2941\",\"type\":\"Grid\"},{\"attributes\":{\"children\":[{\"id\":\"2925\"},{\"id\":\"2929\"},{\"id\":\"2991\"},{\"id\":\"2992\"}],\"margin\":[0,0,0,0],\"name\":\"Row06607\"},\"id\":\"2924\",\"type\":\"Row\"},{\"attributes\":{\"end\":0.7436219872144649,\"reset_end\":0.7436219872144649,\"reset_start\":-0.06760199883767863,\"start\":-0.06760199883767863,\"tags\":[[[\"z\",\"z\",null]]]},\"id\":\"2927\",\"type\":\"Range1d\"},{\"attributes\":{},\"id\":\"2947\",\"type\":\"PanTool\"},{\"attributes\":{\"data_source\":{\"id\":\"2959\"},\"glyph\":{\"id\":\"2962\"},\"hover_glyph\":null,\"muted_glyph\":{\"id\":\"2964\"},\"nonselection_glyph\":{\"id\":\"2963\"},\"selection_glyph\":null,\"view\":{\"id\":\"2966\"}},\"id\":\"2965\",\"type\":\"GlyphRenderer\"},{\"attributes\":{\"axis\":{\"id\":\"2942\"},\"dimension\":1,\"grid_line_color\":null,\"ticker\":null},\"id\":\"2945\",\"type\":\"Grid\"},{\"attributes\":{\"margin\":[5,5,5,5],\"name\":\"VSpacer06623\",\"sizing_mode\":\"stretch_height\"},\"id\":\"2999\",\"type\":\"Spacer\"},{\"attributes\":{\"align\":null,\"below\":[{\"id\":\"2938\"}],\"center\":[{\"id\":\"2941\"},{\"id\":\"2945\"}],\"left\":[{\"id\":\"2942\"}],\"margin\":null,\"min_border_bottom\":10,\"min_border_left\":10,\"min_border_right\":10,\"min_border_top\":10,\"plot_height\":300,\"plot_width\":700,\"renderers\":[{\"id\":\"2965\"}],\"sizing_mode\":\"fixed\",\"title\":{\"id\":\"2930\"},\"toolbar\":{\"id\":\"2952\"},\"x_range\":{\"id\":\"2926\"},\"x_scale\":{\"id\":\"2934\"},\"y_range\":{\"id\":\"2927\"},\"y_scale\":{\"id\":\"2936\"}},\"id\":\"2929\",\"subtype\":\"Figure\",\"type\":\"Plot\"},{\"attributes\":{\"margin\":[20,0,0,20],\"name\":\"\",\"style\":{\"white-space\":\"nowrap\"},\"text\":\"lat: <b>0</b>\",\"width\":250},\"id\":\"2996\",\"type\":\"Div\"},{\"attributes\":{},\"id\":\"2981\",\"type\":\"UnionRenderers\"},{\"attributes\":{},\"id\":\"2960\",\"type\":\"Selection\"},{\"attributes\":{\"children\":[{\"id\":\"2993\"},{\"id\":\"2994\"},{\"id\":\"2999\"}],\"margin\":[0,0,0,0],\"name\":\"Column06624\"},\"id\":\"2992\",\"type\":\"Column\"},{\"attributes\":{},\"id\":\"2943\",\"type\":\"BasicTicker\"},{\"attributes\":{\"axis_label\":\"z\",\"bounds\":\"auto\",\"formatter\":{\"id\":\"2970\"},\"major_label_orientation\":\"horizontal\",\"ticker\":{\"id\":\"2943\"}},\"id\":\"2942\",\"type\":\"LinearAxis\"},{\"attributes\":{\"line_alpha\":0.1,\"line_color\":\"#1f77b3\",\"line_width\":2,\"x\":{\"field\":\"T_avg\"},\"y\":{\"field\":\"z\"}},\"id\":\"2963\",\"type\":\"Line\"},{\"attributes\":{\"overlay\":{\"id\":\"2951\"}},\"id\":\"2949\",\"type\":\"BoxZoomTool\"},{\"attributes\":{\"source\":{\"id\":\"2959\"}},\"id\":\"2966\",\"type\":\"CDSView\"},{\"attributes\":{\"end\":265.72712726962806,\"reset_end\":265.72712726962806,\"reset_start\":211.08035669604203,\"start\":211.08035669604203,\"tags\":[[[\"T_avg\",\"T_avg\",null]]]},\"id\":\"2926\",\"type\":\"Range1d\"},{\"attributes\":{},\"id\":\"2968\",\"type\":\"BasicTickFormatter\"},{\"attributes\":{\"margin\":[5,20,20,20],\"min_width\":250,\"options\":[\"0.07\"],\"title\":\"H\",\"value\":\"0.07\",\"width\":250},\"id\":\"2998\",\"type\":\"Select\"},{\"attributes\":{\"args\":{\"bidirectional\":false,\"properties\":{},\"source\":{\"id\":\"2997\"},\"target\":{\"id\":\"2996\"}},\"code\":\"try { \\n    var labels = ['lat: <b>0</b>', 'lat: <b>10</b>', 'lat: <b>20</b>', 'lat: <b>30</b>', 'lat: <b>40</b>']\\n    target.text = labels[source.value]\\n     } catch(err) { console.log(err) }\",\"tags\":[140444129819280]},\"id\":\"3008\",\"type\":\"CustomJS\"},{\"attributes\":{\"client_comm_id\":\"d7388d3a148e4684886ea38519a0e3e1\",\"comm_id\":\"1356dc9265a443709ccb4dd6d1aeaddd\",\"plot_id\":\"2924\"},\"id\":\"3025\",\"type\":\"panel.models.comm_manager.CommManager\"},{\"attributes\":{\"margin\":[5,5,5,5],\"name\":\"HSpacer06626\",\"sizing_mode\":\"stretch_width\"},\"id\":\"2991\",\"type\":\"Spacer\"},{\"attributes\":{\"data\":{\"T_avg\":{\"__ndarray__\":\"fLA0SJJiakDhjobFLrRrQDD8jx2U02xAz9YUYZbAbUDLKsFaQIBuQFLAD89tGG9AxI/ARfeOb0DtIQGebOlvQDusumOCFnBAXsDFBE8vcED/p3YuXkFwQP67Dl+9TnBA3fzPbDVZcEAgzeDBNWJwQEBzorDFanBAFQ1rRINzcEA7Gapsq3xwQGvq1VMehnBAVkj8fFCPcECo1z9MIJdwQFExNFCim3BA\",\"dtype\":\"float64\",\"order\":\"little\",\"shape\":[21]},\"z\":{\"__ndarray__\":\"AAAAAAAAAACsD+f4CqptPwWvGDy5UIA/8ZWKOZT+ij+5CHBOmueTPzq5CYr6l5s/HuAtzwNpoj+FF1/bPvKnP2fAMx3slq4/iEXmAt5Hsz+6WKjBWhC4PynWKkC9zb0/JIMwH4BYwj820x0edXrGP7KZOoMBcMs/vZCuZLux0D+cSMOOzkPUP0El3FqyjNg/OmFg6faw3T9lIZkwPu7hP7yosKv0oeU/\",\"dtype\":\"float64\",\"order\":\"little\",\"shape\":[21]}},\"selected\":{\"id\":\"2960\"},\"selection_policy\":{\"id\":\"2981\"}},\"id\":\"2959\",\"type\":\"ColumnDataSource\"},{\"attributes\":{},\"id\":\"2934\",\"type\":\"LinearScale\"},{\"attributes\":{},\"id\":\"2950\",\"type\":\"ResetTool\"},{\"attributes\":{\"axis_label\":\"T_avg\",\"bounds\":\"auto\",\"formatter\":{\"id\":\"2968\"},\"major_label_orientation\":\"horizontal\",\"ticker\":{\"id\":\"2939\"}},\"id\":\"2938\",\"type\":\"LinearAxis\"},{\"attributes\":{\"margin\":[5,5,5,5],\"name\":\"VSpacer06622\",\"sizing_mode\":\"stretch_height\"},\"id\":\"2993\",\"type\":\"Spacer\"},{\"attributes\":{\"end\":4,\"format\":\"0[.]00\",\"js_property_callbacks\":{\"change:value\":[{\"id\":\"3008\"}]},\"margin\":[0,20,5,20],\"min_width\":250,\"show_value\":false,\"start\":0,\"tooltips\":false,\"value\":0,\"width\":250},\"id\":\"2997\",\"type\":\"Slider\"},{\"attributes\":{\"callback\":null,\"renderers\":[{\"id\":\"2965\"}],\"tags\":[\"hv_created\"],\"tooltips\":[[\"T_avg\",\"@{T_avg}\"],[\"z\",\"@{z}\"]]},\"id\":\"2928\",\"type\":\"HoverTool\"},{\"attributes\":{\"children\":[{\"id\":\"2996\"},{\"id\":\"2997\"}],\"margin\":[0,0,0,0],\"min_width\":290,\"name\":\"Column06618\",\"width\":290},\"id\":\"2995\",\"type\":\"Column\"},{\"attributes\":{\"bottom_units\":\"screen\",\"fill_alpha\":0.5,\"fill_color\":\"lightgrey\",\"left_units\":\"screen\",\"level\":\"overlay\",\"line_alpha\":1.0,\"line_color\":\"black\",\"line_dash\":[4,4],\"line_width\":2,\"right_units\":\"screen\",\"top_units\":\"screen\"},\"id\":\"2951\",\"type\":\"BoxAnnotation\"},{\"attributes\":{},\"id\":\"2948\",\"type\":\"WheelZoomTool\"},{\"attributes\":{},\"id\":\"2936\",\"type\":\"LinearScale\"},{\"attributes\":{},\"id\":\"2970\",\"type\":\"BasicTickFormatter\"},{\"attributes\":{\"children\":[{\"id\":\"2995\"},{\"id\":\"2998\"}],\"css_classes\":[\"panel-widget-box\"],\"margin\":[5,5,5,5],\"name\":\"WidgetBox06608\"},\"id\":\"2994\",\"type\":\"Column\"},{\"attributes\":{\"line_color\":\"#1f77b3\",\"line_width\":2,\"x\":{\"field\":\"T_avg\"},\"y\":{\"field\":\"z\"}},\"id\":\"2962\",\"type\":\"Line\"},{\"attributes\":{\"text\":\"lat: 0, H: 0.07\",\"text_color\":{\"value\":\"black\"},\"text_font_size\":{\"value\":\"12pt\"}},\"id\":\"2930\",\"type\":\"Title\"},{\"attributes\":{},\"id\":\"2946\",\"type\":\"SaveTool\"},{\"attributes\":{},\"id\":\"2939\",\"type\":\"BasicTicker\"}],\"root_ids\":[\"2924\",\"3025\"]},\"title\":\"Bokeh Application\",\"version\":\"2.2.1\"}};\n",
       "  var render_items = [{\"docid\":\"4a83c581-a89f-4097-b7db-5cdb4938aaa0\",\"root_ids\":[\"2924\"],\"roots\":{\"2924\":\"a41e2d41-d0c6-41bd-8cd0-7513fd9985e2\"}}];\n",
       "  root.Bokeh.embed.embed_items_notebook(docs_json, render_items);\n",
       "  }\n",
       "if (root.Bokeh !== undefined) {\n",
       "    embed_document(root);\n",
       "  } else {\n",
       "    var attempts = 0;\n",
       "    var timer = setInterval(function(root) {\n",
       "      if (root.Bokeh !== undefined) {\n",
       "        clearInterval(timer);\n",
       "        embed_document(root);\n",
       "      } else if (document.readyState == \"complete\") {\n",
       "        attempts++;\n",
       "        if (attempts > 100) {\n",
       "          clearInterval(timer);\n",
       "          console.log(\"Bokeh: ERROR: Unable to run BokehJS code because BokehJS library is missing\");\n",
       "        }\n",
       "      }\n",
       "    }, 10, root)\n",
       "  }\n",
       "})(window);</script>"
      ],
      "text/plain": [
       ":DynamicMap   [lat,H]\n",
       "   :Curve   [T_avg]   (z)"
      ]
     },
     "execution_count": 136,
     "metadata": {
      "application/vnd.holoviews_exec.v0+json": {
       "id": "2924"
      }
     },
     "output_type": "execute_result"
    }
   ],
   "source": [
    "TA.hvplot(x='T_avg', y='z')"
   ]
  },
  {
   "cell_type": "code",
   "execution_count": 119,
   "metadata": {},
   "outputs": [
    {
     "data": {},
     "metadata": {},
     "output_type": "display_data"
    },
    {
     "data": {
      "application/vnd.holoviews_exec.v0+json": "",
      "text/html": [
       "<div id='2782'>\n",
       "\n",
       "\n",
       "\n",
       "\n",
       "\n",
       "  <div class=\"bk-root\" id=\"17e0fe40-4388-4e89-8a2f-c20b1c1cd272\" data-root-id=\"2782\"></div>\n",
       "</div>\n",
       "<script type=\"application/javascript\">(function(root) {\n",
       "  function embed_document(root) {\n",
       "  var docs_json = {\"b62bcd4f-ec46-4b8f-8612-3b2e8ce26b81\":{\"roots\":{\"references\":[{\"attributes\":{},\"id\":\"2818\",\"type\":\"Selection\"},{\"attributes\":{},\"id\":\"2806\",\"type\":\"WheelZoomTool\"},{\"attributes\":{\"client_comm_id\":\"dbc5c891429d4253a03831f6de2c569f\",\"comm_id\":\"eb102899d8fd44be848cf2136f4d0fb4\",\"plot_id\":\"2782\"},\"id\":\"2883\",\"type\":\"panel.models.comm_manager.CommManager\"},{\"attributes\":{\"margin\":[5,5,5,5],\"name\":\"VSpacer06312\",\"sizing_mode\":\"stretch_height\"},\"id\":\"2857\",\"type\":\"Spacer\"},{\"attributes\":{},\"id\":\"2804\",\"type\":\"SaveTool\"},{\"attributes\":{\"axis_label\":\"z\",\"bounds\":\"auto\",\"formatter\":{\"id\":\"2828\"},\"major_label_orientation\":\"horizontal\",\"ticker\":{\"id\":\"2801\"}},\"id\":\"2800\",\"type\":\"LinearAxis\"},{\"attributes\":{\"text\":\"lat: 0, H: 0.07\",\"text_color\":{\"value\":\"black\"},\"text_font_size\":{\"value\":\"12pt\"}},\"id\":\"2788\",\"type\":\"Title\"},{\"attributes\":{\"line_color\":\"#1f77b3\",\"line_width\":2,\"x\":{\"field\":\"T_max\"},\"y\":{\"field\":\"z\"}},\"id\":\"2820\",\"type\":\"Line\"},{\"attributes\":{\"bottom_units\":\"screen\",\"fill_alpha\":0.5,\"fill_color\":\"lightgrey\",\"left_units\":\"screen\",\"level\":\"overlay\",\"line_alpha\":1.0,\"line_color\":\"black\",\"line_dash\":[4,4],\"line_width\":2,\"right_units\":\"screen\",\"top_units\":\"screen\"},\"id\":\"2809\",\"type\":\"BoxAnnotation\"},{\"attributes\":{\"args\":{\"bidirectional\":false,\"properties\":{},\"source\":{\"id\":\"2855\"},\"target\":{\"id\":\"2854\"}},\"code\":\"try { \\n    var labels = ['lat: <b>0</b>', 'lat: <b>10</b>', 'lat: <b>20</b>', 'lat: <b>30</b>', 'lat: <b>40</b>']\\n    target.text = labels[source.value]\\n     } catch(err) { console.log(err) }\",\"tags\":[140444132786064]},\"id\":\"2866\",\"type\":\"CustomJS\"},{\"attributes\":{\"children\":[{\"id\":\"2853\"},{\"id\":\"2856\"}],\"css_classes\":[\"panel-widget-box\"],\"margin\":[5,5,5,5],\"name\":\"WidgetBox06297\"},\"id\":\"2852\",\"type\":\"Column\"},{\"attributes\":{},\"id\":\"2801\",\"type\":\"BasicTicker\"},{\"attributes\":{\"overlay\":{\"id\":\"2809\"}},\"id\":\"2807\",\"type\":\"BoxZoomTool\"},{\"attributes\":{\"children\":[{\"id\":\"2854\"},{\"id\":\"2855\"}],\"margin\":[0,0,0,0],\"min_width\":290,\"name\":\"Column06307\",\"width\":290},\"id\":\"2853\",\"type\":\"Column\"},{\"attributes\":{\"margin\":[5,5,5,5],\"name\":\"HSpacer06315\",\"sizing_mode\":\"stretch_width\"},\"id\":\"2849\",\"type\":\"Spacer\"},{\"attributes\":{\"end\":388.5210792560412,\"reset_end\":388.5210792560412,\"reset_start\":264.80235707731515,\"start\":264.80235707731515,\"tags\":[[[\"T_max\",\"T_max\",null]]]},\"id\":\"2784\",\"type\":\"Range1d\"},{\"attributes\":{},\"id\":\"2826\",\"type\":\"BasicTickFormatter\"},{\"attributes\":{\"margin\":[5,20,20,20],\"min_width\":250,\"options\":[\"0.07\"],\"title\":\"H\",\"value\":\"0.07\",\"width\":250},\"id\":\"2856\",\"type\":\"Select\"},{\"attributes\":{\"data\":{\"T_max\":{\"__ndarray__\":\"I7UzV1ZIeEDSNht5a5d3QGqw1Gvl43ZAtQGMZT0udkBuRapDcXd1QMyR7KIuwXRAdh9HidwNdEDUM/ZhxGBzQHBORFwAvnJA/6/ReysqckCOtfx+4qlxQPnno/LoQHFAzk7VdrfxcEC+Ijw5srxwQC3yLzMAnnBAIeoJ79mPcECG7F901oxwQAnvixMqlXBAIqbzNB2ecEBucg/k4KZwQKM7gG1cq3BA\",\"dtype\":\"float64\",\"order\":\"little\",\"shape\":[21]},\"z\":{\"__ndarray__\":\"AAAAAAAAAACsD+f4CqptPwWvGDy5UIA/8ZWKOZT+ij+5CHBOmueTPzq5CYr6l5s/HuAtzwNpoj+FF1/bPvKnP2fAMx3slq4/iEXmAt5Hsz+6WKjBWhC4PynWKkC9zb0/JIMwH4BYwj820x0edXrGP7KZOoMBcMs/vZCuZLux0D+cSMOOzkPUP0El3FqyjNg/OmFg6faw3T9lIZkwPu7hP7yosKv0oeU/\",\"dtype\":\"float64\",\"order\":\"little\",\"shape\":[21]}},\"selected\":{\"id\":\"2818\"},\"selection_policy\":{\"id\":\"2839\"}},\"id\":\"2817\",\"type\":\"ColumnDataSource\"},{\"attributes\":{},\"id\":\"2805\",\"type\":\"PanTool\"},{\"attributes\":{\"callback\":null,\"renderers\":[{\"id\":\"2823\"}],\"tags\":[\"hv_created\"],\"tooltips\":[[\"T_max\",\"@{T_max}\"],[\"z\",\"@{z}\"]]},\"id\":\"2786\",\"type\":\"HoverTool\"},{\"attributes\":{\"children\":[{\"id\":\"2851\"},{\"id\":\"2852\"},{\"id\":\"2857\"}],\"margin\":[0,0,0,0],\"name\":\"Column06313\"},\"id\":\"2850\",\"type\":\"Column\"},{\"attributes\":{},\"id\":\"2794\",\"type\":\"LinearScale\"},{\"attributes\":{},\"id\":\"2839\",\"type\":\"UnionRenderers\"},{\"attributes\":{\"line_alpha\":0.2,\"line_color\":\"#1f77b3\",\"line_width\":2,\"x\":{\"field\":\"T_max\"},\"y\":{\"field\":\"z\"}},\"id\":\"2822\",\"type\":\"Line\"},{\"attributes\":{\"axis_label\":\"T_max\",\"bounds\":\"auto\",\"formatter\":{\"id\":\"2826\"},\"major_label_orientation\":\"horizontal\",\"ticker\":{\"id\":\"2797\"}},\"id\":\"2796\",\"type\":\"LinearAxis\"},{\"attributes\":{\"margin\":[20,0,0,20],\"name\":\"\",\"style\":{\"white-space\":\"nowrap\"},\"text\":\"lat: <b>0</b>\",\"width\":250},\"id\":\"2854\",\"type\":\"Div\"},{\"attributes\":{\"end\":4,\"format\":\"0[.]00\",\"js_property_callbacks\":{\"change:value\":[{\"id\":\"2866\"}]},\"margin\":[0,20,5,20],\"min_width\":250,\"show_value\":false,\"start\":0,\"tooltips\":false,\"value\":0,\"width\":250},\"id\":\"2855\",\"type\":\"Slider\"},{\"attributes\":{\"align\":null,\"below\":[{\"id\":\"2796\"}],\"center\":[{\"id\":\"2799\"},{\"id\":\"2803\"}],\"left\":[{\"id\":\"2800\"}],\"margin\":null,\"min_border_bottom\":10,\"min_border_left\":10,\"min_border_right\":10,\"min_border_top\":10,\"plot_height\":300,\"plot_width\":700,\"renderers\":[{\"id\":\"2823\"}],\"sizing_mode\":\"fixed\",\"title\":{\"id\":\"2788\"},\"toolbar\":{\"id\":\"2810\"},\"x_range\":{\"id\":\"2784\"},\"x_scale\":{\"id\":\"2792\"},\"y_range\":{\"id\":\"2785\"},\"y_scale\":{\"id\":\"2794\"}},\"id\":\"2787\",\"subtype\":\"Figure\",\"type\":\"Plot\"},{\"attributes\":{},\"id\":\"2808\",\"type\":\"ResetTool\"},{\"attributes\":{\"children\":[{\"id\":\"2783\"},{\"id\":\"2787\"},{\"id\":\"2849\"},{\"id\":\"2850\"}],\"margin\":[0,0,0,0],\"name\":\"Row06296\"},\"id\":\"2782\",\"type\":\"Row\"},{\"attributes\":{},\"id\":\"2828\",\"type\":\"BasicTickFormatter\"},{\"attributes\":{},\"id\":\"2797\",\"type\":\"BasicTicker\"},{\"attributes\":{\"data_source\":{\"id\":\"2817\"},\"glyph\":{\"id\":\"2820\"},\"hover_glyph\":null,\"muted_glyph\":{\"id\":\"2822\"},\"nonselection_glyph\":{\"id\":\"2821\"},\"selection_glyph\":null,\"view\":{\"id\":\"2824\"}},\"id\":\"2823\",\"type\":\"GlyphRenderer\"},{\"attributes\":{\"margin\":[5,5,5,5],\"name\":\"VSpacer06311\",\"sizing_mode\":\"stretch_height\"},\"id\":\"2851\",\"type\":\"Spacer\"},{\"attributes\":{\"line_alpha\":0.1,\"line_color\":\"#1f77b3\",\"line_width\":2,\"x\":{\"field\":\"T_max\"},\"y\":{\"field\":\"z\"}},\"id\":\"2821\",\"type\":\"Line\"},{\"attributes\":{\"margin\":[5,5,5,5],\"name\":\"HSpacer06314\",\"sizing_mode\":\"stretch_width\"},\"id\":\"2783\",\"type\":\"Spacer\"},{\"attributes\":{},\"id\":\"2792\",\"type\":\"LinearScale\"},{\"attributes\":{\"end\":-0.06760199883767863,\"reset_end\":-0.06760199883767863,\"reset_start\":0.7436219872144649,\"start\":0.7436219872144649,\"tags\":[[[\"z\",\"z\",null]]]},\"id\":\"2785\",\"type\":\"Range1d\"},{\"attributes\":{\"axis\":{\"id\":\"2800\"},\"dimension\":1,\"grid_line_color\":null,\"ticker\":null},\"id\":\"2803\",\"type\":\"Grid\"},{\"attributes\":{\"source\":{\"id\":\"2817\"}},\"id\":\"2824\",\"type\":\"CDSView\"},{\"attributes\":{\"active_drag\":\"auto\",\"active_inspect\":\"auto\",\"active_multi\":null,\"active_scroll\":\"auto\",\"active_tap\":\"auto\",\"tools\":[{\"id\":\"2786\"},{\"id\":\"2804\"},{\"id\":\"2805\"},{\"id\":\"2806\"},{\"id\":\"2807\"},{\"id\":\"2808\"}]},\"id\":\"2810\",\"type\":\"Toolbar\"},{\"attributes\":{\"axis\":{\"id\":\"2796\"},\"grid_line_color\":null,\"ticker\":null},\"id\":\"2799\",\"type\":\"Grid\"}],\"root_ids\":[\"2782\",\"2883\"]},\"title\":\"Bokeh Application\",\"version\":\"2.2.1\"}};\n",
       "  var render_items = [{\"docid\":\"b62bcd4f-ec46-4b8f-8612-3b2e8ce26b81\",\"root_ids\":[\"2782\"],\"roots\":{\"2782\":\"17e0fe40-4388-4e89-8a2f-c20b1c1cd272\"}}];\n",
       "  root.Bokeh.embed.embed_items_notebook(docs_json, render_items);\n",
       "  }\n",
       "if (root.Bokeh !== undefined) {\n",
       "    embed_document(root);\n",
       "  } else {\n",
       "    var attempts = 0;\n",
       "    var timer = setInterval(function(root) {\n",
       "      if (root.Bokeh !== undefined) {\n",
       "        clearInterval(timer);\n",
       "        embed_document(root);\n",
       "      } else if (document.readyState == \"complete\") {\n",
       "        attempts++;\n",
       "        if (attempts > 100) {\n",
       "          clearInterval(timer);\n",
       "          console.log(\"Bokeh: ERROR: Unable to run BokehJS code because BokehJS library is missing\");\n",
       "        }\n",
       "      }\n",
       "    }, 10, root)\n",
       "  }\n",
       "})(window);</script>"
      ],
      "text/plain": [
       ":DynamicMap   [lat,H]\n",
       "   :Curve   [T_max]   (z)"
      ]
     },
     "execution_count": 119,
     "metadata": {
      "application/vnd.holoviews_exec.v0+json": {
       "id": "2782"
      }
     },
     "output_type": "execute_result"
    }
   ],
   "source": [
    "TMAX.hvplot(x=\"T_max\", y='z').opts(invert_yaxis=True)"
   ]
  },
  {
   "cell_type": "code",
   "execution_count": 97,
   "metadata": {},
   "outputs": [
    {
     "data": {
      "application/vnd.jupyter.widget-view+json": {
       "model_id": "2a10a4a24408443181597d2fd4f442ec",
       "version_major": 2,
       "version_minor": 0
      },
      "text/plain": [
       "Canvas(toolbar=Toolbar(toolitems=[('Home', 'Reset original view', 'home', 'home'), ('Back', 'Back to previous …"
      ]
     },
     "metadata": {},
     "output_type": "display_data"
    }
   ],
   "source": [
    "profile_plot(m)"
   ]
  },
  {
   "cell_type": "markdown",
   "metadata": {},
   "source": [
    "# Different chi"
   ]
  },
  {
   "cell_type": "code",
   "execution_count": 23,
   "metadata": {},
   "outputs": [],
   "source": [
    "confs = [heat1d.Configurator(chi=i) for i in range(1,5)]"
   ]
  },
  {
   "cell_type": "code",
   "execution_count": 24,
   "metadata": {},
   "outputs": [],
   "source": [
    "models = [heat1d.Model(planet=planets.Moon, lat=math.radians(20), ndays=5, config=conf) for conf in confs]"
   ]
  },
  {
   "cell_type": "code",
   "execution_count": 25,
   "metadata": {},
   "outputs": [
    {
     "name": "stdout",
     "output_type": "stream",
     "text": [
      "268.8331495674061\n",
      "268.8331495674061\n",
      "268.8331495674061\n",
      "268.8331495674061\n"
     ]
    }
   ],
   "source": [
    "for model in models:\n",
    "    print(model.profile.T[0])"
   ]
  },
  {
   "cell_type": "code",
   "execution_count": 26,
   "metadata": {},
   "outputs": [
    {
     "name": "stdout",
     "output_type": "stream",
     "text": [
      "376.840922931278\n",
      "377.1224533704982\n",
      "377.267947636478\n"
     ]
    },
    {
     "name": "stderr",
     "output_type": "stream",
     "text": [
      "/home/maye/miniconda3/envs/py37/lib/python3.7/site-packages/numpy/lib/polynomial.py:734: RuntimeWarning: overflow encountered in multiply\n",
      "  y = y * x + p[i]\n",
      "/home/maye/Dropbox/src/heat1d/python/heat1d/main.py:244: RuntimeWarning: invalid value encountered in subtract\n",
      "  alpha * self.T[0:-2] - (alpha + beta) * self.T[1:-1] + beta * self.T[2:]\n",
      "/home/maye/Dropbox/src/heat1d/python/heat1d/main.py:244: RuntimeWarning: invalid value encountered in add\n",
      "  alpha * self.T[0:-2] - (alpha + beta) * self.T[1:-1] + beta * self.T[2:]\n",
      "/home/maye/Dropbox/src/heat1d/python/heat1d/main.py:244: RuntimeWarning: overflow encountered in multiply\n",
      "  alpha * self.T[0:-2] - (alpha + beta) * self.T[1:-1] + beta * self.T[2:]\n"
     ]
    },
    {
     "name": "stdout",
     "output_type": "stream",
     "text": [
      "nan\n"
     ]
    }
   ],
   "source": [
    "for model in models:\n",
    "    model.run()\n",
    "    print(model.profile.T[0])"
   ]
  },
  {
   "cell_type": "code",
   "execution_count": 27,
   "metadata": {},
   "outputs": [
    {
     "data": {
      "application/vnd.jupyter.widget-view+json": {
       "model_id": "a4daa8bdb23f49bb8fa1010e66c54dd4",
       "version_major": 2,
       "version_minor": 0
      },
      "text/plain": [
       "Canvas(toolbar=Toolbar(toolitems=[('Home', 'Reset original view', 'home', 'home'), ('Back', 'Back to previous …"
      ]
     },
     "metadata": {},
     "output_type": "display_data"
    },
    {
     "data": {
      "text/plain": [
       "<matplotlib.legend.Legend at 0x7f605450dcd0>"
      ]
     },
     "execution_count": 27,
     "metadata": {},
     "output_type": "execute_result"
    }
   ],
   "source": [
    "fig, ax = plt.subplots()\n",
    "for m in models:\n",
    "    plot_last_surface_cooling(m, ax=ax, label=f\"chi: {m.chi}\")\n",
    "ax.set_title(\"Chi scan, last surface cooling curves\")\n",
    "ax.legend()"
   ]
  },
  {
   "attachments": {
    "ec0af6b1-f121-4091-8f5d-5ca9d0f86f25.png": {
     "image/png": "[encoded data removed]"
    }
   },
   "cell_type": "markdown",
   "metadata": {},
   "source": [
    "![image.png](attachment:ec0af6b1-f121-4091-8f5d-5ca9d0f86f25.png)"
   ]
  },
  {
   "cell_type": "code",
   "execution_count": null,
   "metadata": {},
   "outputs": [],
   "source": []
  }
 ],
 "metadata": {
  "kernelspec": {
   "display_name": "Python [conda env:py37] *",
   "language": "python",
   "name": "conda-env-py37-py"
  },
  "language_info": {
   "codemirror_mode": {
    "name": "ipython",
    "version": 3
   },
   "file_extension": ".py",
   "mimetype": "text/x-python",
   "name": "python",
   "nbconvert_exporter": "python",
   "pygments_lexer": "ipython3",
   "version": "3.7.8"
  },
  "widgets": {
   "application/vnd.jupyter.widget-state+json": {
    "state": {
     "02ff3d66816c4ce38dfb241a5ddfd344": {
      "model_module": "jupyter-matplotlib",
      "model_module_version": "^0.7.4",
      "model_name": "MPLCanvasModel",
      "state": {
       "_cursor": "default",
       "_figure_label": "Figure 2",
       "_height": 550,
       "_width": 800,
       "layout": "IPY_MODEL_ad0c0a6e6a55499c9e7a8a28b645304e",
       "toolbar": "IPY_MODEL_410bcdd638a444a79c23d33e42cc7955",
       "toolbar_position": "left"
      }
     },
     "0c983fd304ac472ab7483d82b61faba7": {
      "model_module": "@jupyter-widgets/base",
      "model_module_version": "1.2.0",
      "model_name": "LayoutModel",
      "state": {}
     },
     "0cf67523fe964e7ca9975deda6204a40": {
      "model_module": "jupyter-matplotlib",
      "model_module_version": "^0.7.4",
      "model_name": "MPLCanvasModel",
      "state": {
       "_cursor": "default",
       "_figure_label": "Figure 1",
       "_height": 550,
       "_width": 800,
       "layout": "IPY_MODEL_371ed79605fa4f17a07e93340e128a04",
       "toolbar": "IPY_MODEL_cf0fe5883ce44ec9902aab2f2192e66b",
       "toolbar_position": "left"
      }
     },
     "0eb6306bd47e49dfb5fb82c606a562a9": {
      "model_module": "jupyter-matplotlib",
      "model_module_version": "^0.7.4",
      "model_name": "MPLCanvasModel",
      "state": {
       "_cursor": "default",
       "_figure_label": "Figure 7",
       "_height": 550,
       "_message": "x=8.087 y=111.51",
       "_width": 800,
       "layout": "IPY_MODEL_771283b03be447b9b491df596746b081",
       "toolbar": "IPY_MODEL_43e6184c8ce84e9492628ad26dac8fc0",
       "toolbar_position": "left"
      }
     },
     "24986979bd44485bb6d6954bdad221c1": {
      "model_module": "jupyter-matplotlib",
      "model_module_version": "^0.7.4",
      "model_name": "ToolbarModel",
      "state": {
       "layout": "IPY_MODEL_bc4ef92f76fe452c8c205fee2781aa9e",
       "toolitems": [
        [
         "Home",
         "Reset original view",
         "home",
         "home"
        ],
        [
         "Back",
         "Back to previous view",
         "arrow-left",
         "back"
        ],
        [
         "Forward",
         "Forward to next view",
         "arrow-right",
         "forward"
        ],
        [
         "Pan",
         "Left button pans, Right button zooms\nx/y fixes axis, CTRL fixes aspect",
         "arrows",
         "pan"
        ],
        [
         "Zoom",
         "Zoom to rectangle\nx/y fixes axis, CTRL fixes aspect",
         "square-o",
         "zoom"
        ],
        [
         "Download",
         "Download plot",
         "floppy-o",
         "save_figure"
        ]
       ]
      }
     },
     "2b0e1373f28f42f1aa3d09b8b8e1a722": {
      "model_module": "@jupyter-widgets/base",
      "model_module_version": "1.2.0",
      "model_name": "LayoutModel",
      "state": {}
     },
     "2d2eee10efe1473aafc399c222454e4a": {
      "model_module": "jupyter-matplotlib",
      "model_module_version": "^0.7.4",
      "model_name": "ToolbarModel",
      "state": {
       "layout": "IPY_MODEL_934fc9a705684327a16890f46eea3a18",
       "toolitems": [
        [
         "Home",
         "Reset original view",
         "home",
         "home"
        ],
        [
         "Back",
         "Back to previous view",
         "arrow-left",
         "back"
        ],
        [
         "Forward",
         "Forward to next view",
         "arrow-right",
         "forward"
        ],
        [
         "Pan",
         "Left button pans, Right button zooms\nx/y fixes axis, CTRL fixes aspect",
         "arrows",
         "pan"
        ],
        [
         "Zoom",
         "Zoom to rectangle\nx/y fixes axis, CTRL fixes aspect",
         "square-o",
         "zoom"
        ],
        [
         "Download",
         "Download plot",
         "floppy-o",
         "save_figure"
        ]
       ]
      }
     },
     "362392c177964d79bd1fe990610a3ecd": {
      "model_module": "@jupyter-widgets/base",
      "model_module_version": "1.2.0",
      "model_name": "LayoutModel",
      "state": {}
     },
     "371ed79605fa4f17a07e93340e128a04": {
      "model_module": "@jupyter-widgets/base",
      "model_module_version": "1.2.0",
      "model_name": "LayoutModel",
      "state": {}
     },
     "410bcdd638a444a79c23d33e42cc7955": {
      "model_module": "jupyter-matplotlib",
      "model_module_version": "^0.7.4",
      "model_name": "ToolbarModel",
      "state": {
       "layout": "IPY_MODEL_362392c177964d79bd1fe990610a3ecd",
       "toolitems": [
        [
         "Home",
         "Reset original view",
         "home",
         "home"
        ],
        [
         "Back",
         "Back to previous view",
         "arrow-left",
         "back"
        ],
        [
         "Forward",
         "Forward to next view",
         "arrow-right",
         "forward"
        ],
        [
         "Pan",
         "Left button pans, Right button zooms\nx/y fixes axis, CTRL fixes aspect",
         "arrows",
         "pan"
        ],
        [
         "Zoom",
         "Zoom to rectangle\nx/y fixes axis, CTRL fixes aspect",
         "square-o",
         "zoom"
        ],
        [
         "Download",
         "Download plot",
         "floppy-o",
         "save_figure"
        ]
       ]
      }
     },
     "43e6184c8ce84e9492628ad26dac8fc0": {
      "model_module": "jupyter-matplotlib",
      "model_module_version": "^0.7.4",
      "model_name": "ToolbarModel",
      "state": {
       "layout": "IPY_MODEL_891c62b67e054640914c14cb50fb1255",
       "toolitems": [
        [
         "Home",
         "Reset original view",
         "home",
         "home"
        ],
        [
         "Back",
         "Back to previous view",
         "arrow-left",
         "back"
        ],
        [
         "Forward",
         "Forward to next view",
         "arrow-right",
         "forward"
        ],
        [
         "Pan",
         "Left button pans, Right button zooms\nx/y fixes axis, CTRL fixes aspect",
         "arrows",
         "pan"
        ],
        [
         "Zoom",
         "Zoom to rectangle\nx/y fixes axis, CTRL fixes aspect",
         "square-o",
         "zoom"
        ],
        [
         "Download",
         "Download plot",
         "floppy-o",
         "save_figure"
        ]
       ]
      }
     },
     "523a148d332c4b4cadeae1ea3c158795": {
      "model_module": "@jupyter-widgets/base",
      "model_module_version": "1.2.0",
      "model_name": "LayoutModel",
      "state": {}
     },
     "59e0fd177c19470bb76eb38135d29650": {
      "model_module": "@jupyter-widgets/base",
      "model_module_version": "1.2.0",
      "model_name": "LayoutModel",
      "state": {}
     },
     "5cd93b99096b4d538ac85b2e623f2f59": {
      "model_module": "@jupyter-widgets/base",
      "model_module_version": "1.2.0",
      "model_name": "LayoutModel",
      "state": {}
     },
     "667d90bffb5c4b7d92449141b0a9a713": {
      "model_module": "jupyter-matplotlib",
      "model_module_version": "^0.7.4",
      "model_name": "MPLCanvasModel",
      "state": {
       "_cursor": "default",
       "_figure_label": "Figure 6",
       "_height": 550,
       "_message": "x=11.237 y=111.44",
       "_width": 800,
       "layout": "IPY_MODEL_0c983fd304ac472ab7483d82b61faba7",
       "toolbar": "IPY_MODEL_2d2eee10efe1473aafc399c222454e4a",
       "toolbar_position": "left"
      }
     },
     "771283b03be447b9b491df596746b081": {
      "model_module": "@jupyter-widgets/base",
      "model_module_version": "1.2.0",
      "model_name": "LayoutModel",
      "state": {}
     },
     "771ce74e0d24492da80c6e2a70ef060f": {
      "model_module": "jupyter-matplotlib",
      "model_module_version": "^0.7.4",
      "model_name": "ToolbarModel",
      "state": {
       "layout": "IPY_MODEL_59e0fd177c19470bb76eb38135d29650",
       "toolitems": [
        [
         "Home",
         "Reset original view",
         "home",
         "home"
        ],
        [
         "Back",
         "Back to previous view",
         "arrow-left",
         "back"
        ],
        [
         "Forward",
         "Forward to next view",
         "arrow-right",
         "forward"
        ],
        [
         "Pan",
         "Left button pans, Right button zooms\nx/y fixes axis, CTRL fixes aspect",
         "arrows",
         "pan"
        ],
        [
         "Zoom",
         "Zoom to rectangle\nx/y fixes axis, CTRL fixes aspect",
         "square-o",
         "zoom"
        ],
        [
         "Download",
         "Download plot",
         "floppy-o",
         "save_figure"
        ]
       ]
      }
     },
     "891c62b67e054640914c14cb50fb1255": {
      "model_module": "@jupyter-widgets/base",
      "model_module_version": "1.2.0",
      "model_name": "LayoutModel",
      "state": {}
     },
     "8a568a27e0004c6f975a9b46f59c294d": {
      "model_module": "@jupyter-widgets/base",
      "model_module_version": "1.2.0",
      "model_name": "LayoutModel",
      "state": {}
     },
     "8d0a45f0858f4f1cb0d8a433f0b17152": {
      "model_module": "@jupyter-widgets/base",
      "model_module_version": "1.2.0",
      "model_name": "LayoutModel",
      "state": {}
     },
     "8f3d73aae5554ee1a22e3e8f0251e188": {
      "model_module": "jupyter-matplotlib",
      "model_module_version": "^0.7.4",
      "model_name": "ToolbarModel",
      "state": {
       "layout": "IPY_MODEL_523a148d332c4b4cadeae1ea3c158795",
       "toolitems": [
        [
         "Home",
         "Reset original view",
         "home",
         "home"
        ],
        [
         "Back",
         "Back to previous view",
         "arrow-left",
         "back"
        ],
        [
         "Forward",
         "Forward to next view",
         "arrow-right",
         "forward"
        ],
        [
         "Pan",
         "Left button pans, Right button zooms\nx/y fixes axis, CTRL fixes aspect",
         "arrows",
         "pan"
        ],
        [
         "Zoom",
         "Zoom to rectangle\nx/y fixes axis, CTRL fixes aspect",
         "square-o",
         "zoom"
        ],
        [
         "Download",
         "Download plot",
         "floppy-o",
         "save_figure"
        ]
       ]
      }
     },
     "934fc9a705684327a16890f46eea3a18": {
      "model_module": "@jupyter-widgets/base",
      "model_module_version": "1.2.0",
      "model_name": "LayoutModel",
      "state": {}
     },
     "9d038504543f484590e12f3b4d4afe34": {
      "model_module": "jupyter-matplotlib",
      "model_module_version": "^0.7.4",
      "model_name": "ToolbarModel",
      "state": {
       "layout": "IPY_MODEL_e6f4654b48a3437f89ac818a47ea055e",
       "toolitems": [
        [
         "Home",
         "Reset original view",
         "home",
         "home"
        ],
        [
         "Back",
         "Back to previous view",
         "arrow-left",
         "back"
        ],
        [
         "Forward",
         "Forward to next view",
         "arrow-right",
         "forward"
        ],
        [
         "Pan",
         "Left button pans, Right button zooms\nx/y fixes axis, CTRL fixes aspect",
         "arrows",
         "pan"
        ],
        [
         "Zoom",
         "Zoom to rectangle\nx/y fixes axis, CTRL fixes aspect",
         "square-o",
         "zoom"
        ],
        [
         "Download",
         "Download plot",
         "floppy-o",
         "save_figure"
        ]
       ]
      }
     },
     "a4daa8bdb23f49bb8fa1010e66c54dd4": {
      "model_module": "jupyter-matplotlib",
      "model_module_version": "^0.7.4",
      "model_name": "MPLCanvasModel",
      "state": {
       "_cursor": "default",
       "_figure_label": "Figure 8",
       "_height": 550,
       "_message": "x=17.956 y=96.30",
       "_width": 800,
       "layout": "IPY_MODEL_5cd93b99096b4d538ac85b2e623f2f59",
       "toolbar": "IPY_MODEL_9d038504543f484590e12f3b4d4afe34",
       "toolbar_position": "left"
      }
     },
     "a923b6f7479c41b3ada74894bf3f484c": {
      "model_module": "jupyter-matplotlib",
      "model_module_version": "^0.7.4",
      "model_name": "MPLCanvasModel",
      "state": {
       "layout": "IPY_MODEL_8d0a45f0858f4f1cb0d8a433f0b17152",
       "toolbar": "IPY_MODEL_771ce74e0d24492da80c6e2a70ef060f",
       "toolbar_position": "left"
      }
     },
     "ad0c0a6e6a55499c9e7a8a28b645304e": {
      "model_module": "@jupyter-widgets/base",
      "model_module_version": "1.2.0",
      "model_name": "LayoutModel",
      "state": {}
     },
     "bc4ef92f76fe452c8c205fee2781aa9e": {
      "model_module": "@jupyter-widgets/base",
      "model_module_version": "1.2.0",
      "model_name": "LayoutModel",
      "state": {}
     },
     "cf0fe5883ce44ec9902aab2f2192e66b": {
      "model_module": "jupyter-matplotlib",
      "model_module_version": "^0.7.4",
      "model_name": "ToolbarModel",
      "state": {
       "layout": "IPY_MODEL_2b0e1373f28f42f1aa3d09b8b8e1a722",
       "toolitems": [
        [
         "Home",
         "Reset original view",
         "home",
         "home"
        ],
        [
         "Back",
         "Back to previous view",
         "arrow-left",
         "back"
        ],
        [
         "Forward",
         "Forward to next view",
         "arrow-right",
         "forward"
        ],
        [
         "Pan",
         "Left button pans, Right button zooms\nx/y fixes axis, CTRL fixes aspect",
         "arrows",
         "pan"
        ],
        [
         "Zoom",
         "Zoom to rectangle\nx/y fixes axis, CTRL fixes aspect",
         "square-o",
         "zoom"
        ],
        [
         "Download",
         "Download plot",
         "floppy-o",
         "save_figure"
        ]
       ]
      }
     },
     "d541dbf3c80945f6bfe5e2a004a20fed": {
      "model_module": "jupyter-matplotlib",
      "model_module_version": "^0.7.4",
      "model_name": "MPLCanvasModel",
      "state": {
       "_cursor": "default",
       "_figure_label": "Figure 4",
       "_height": 550,
       "_width": 800,
       "layout": "IPY_MODEL_8a568a27e0004c6f975a9b46f59c294d",
       "toolbar": "IPY_MODEL_8f3d73aae5554ee1a22e3e8f0251e188",
       "toolbar_position": "left"
      }
     },
     "e6f4654b48a3437f89ac818a47ea055e": {
      "model_module": "@jupyter-widgets/base",
      "model_module_version": "1.2.0",
      "model_name": "LayoutModel",
      "state": {}
     },
     "f068da2f5013481d86825fbf8622ef22": {
      "model_module": "@jupyter-widgets/base",
      "model_module_version": "1.2.0",
      "model_name": "LayoutModel",
      "state": {}
     },
     "f078ca6499424a6781b95677b5c08bde": {
      "model_module": "jupyter-matplotlib",
      "model_module_version": "^0.7.4",
      "model_name": "MPLCanvasModel",
      "state": {
       "_cursor": "default",
       "_figure_label": "Figure 3",
       "_height": 550,
       "_width": 800,
       "layout": "IPY_MODEL_f068da2f5013481d86825fbf8622ef22",
       "toolbar": "IPY_MODEL_24986979bd44485bb6d6954bdad221c1",
       "toolbar_position": "left"
      }
     }
    },
    "version_major": 2,
    "version_minor": 0
   }
  }
 },
 "nbformat": 4,
 "nbformat_minor": 4
}
