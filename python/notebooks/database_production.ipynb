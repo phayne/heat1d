{
 "cells": [
  {
   "cell_type": "code",
   "execution_count": 1,
   "metadata": {},
   "outputs": [],
   "source": [
    "import math\n",
    "from datetime import datetime as dt\n",
    "\n",
    "import numpy as np\n",
    "import pandas as pd\n",
    "import planets\n",
    "import xarray as xr\n",
    "from tqdm.auto import tqdm\n",
    "\n",
    "import heat1d"
   ]
  },
  {
   "cell_type": "code",
   "execution_count": 2,
   "metadata": {},
   "outputs": [],
   "source": [
    "lat = 15"
   ]
  },
  {
   "cell_type": "code",
   "execution_count": 4,
   "metadata": {},
   "outputs": [],
   "source": [
    "class ModelDatabase:\n",
    "    default_chis = np.arange(1, 3.6, 0.1)\n",
    "\n",
    "    def __init__(self, chis=None):\n",
    "        if chis is None:\n",
    "            self.chis = self.default_chis\n",
    "        self.confs = [heat1d.Configurator(chi=chi) for chi in self.chis]\n",
    "\n",
    "    def create_lat_models(self, lat):\n",
    "        \"For given latitude `lat`, create all chi-models.\"\n",
    "        models = [\n",
    "            heat1d.Model(\n",
    "                planet=planets.Moon, lat=math.radians(lat), ndays=5, config=conf\n",
    "            )\n",
    "            for conf in self.confs\n",
    "        ]\n",
    "        self.current_lat = lat\n",
    "        self.models = models\n",
    "\n",
    "    def run_models(self):\n",
    "        for model in tqdm(self.models, leave=False):\n",
    "            model.run()\n",
    "\n",
    "    def resample_and_xarray(self):\n",
    "        \"Resample to default time bin and store in xr.DataArray.\"\n",
    "        mdf = pd.DataFrame()\n",
    "\n",
    "        for m in self.models:\n",
    "            mdf[m.chi] = m.resample_surface_cooling(binning=\"15min\")\n",
    "\n",
    "        self.mdf = mdf\n",
    "        da = xr.DataArray(\n",
    "            mdf.values,\n",
    "            dims=[\"time\", \"chi\"],\n",
    "            coords={\"time\": mdf.index, \"chi\": self.chis},\n",
    "            name=\"cooling_curves\",\n",
    "        )\n",
    "        da = da.assign_coords(lat=self.current_lat)\n",
    "        self.da = da\n",
    "\n",
    "    def produce_one_lat(self, lat):\n",
    "        \"Produce models for all chis for one latitude.\"\n",
    "        self.create_lat_models(lat)\n",
    "        self.run_models()\n",
    "        self.resample_and_xarray()\n",
    "        return self.da\n",
    "\n",
    "    def create_database(self, latitudes):\n",
    "        arrays = []\n",
    "        for lat in tqdm(latitudes):\n",
    "            arrays.append(self.produce_one_lat(lat))\n",
    "        stacked = xr.concat(arrays, \"lat\")\n",
    "        stacked.name = \"model_db\"\n",
    "        ds = stacked.to_dataset()\n",
    "        now = dt.now().isoformat()[:16]\n",
    "        savename = f\"heat1d_model_database_{now}.zarr\"\n",
    "        ds.to_zarr(savename)\n",
    "        self.ds = ds"
   ]
  },
  {
   "cell_type": "code",
   "execution_count": 17,
   "metadata": {},
   "outputs": [],
   "source": [
    "modeler = ModelDatabase()"
   ]
  },
  {
   "cell_type": "code",
   "execution_count": 38,
   "metadata": {},
   "outputs": [
    {
     "data": {
      "application/vnd.jupyter.widget-view+json": {
       "model_id": "a31c16031e1344b28a09d9ba6ec5dedb",
       "version_major": 2,
       "version_minor": 0
      },
      "text/plain": [
       "  0%|          | 0/81 [00:00<?, ?it/s]"
      ]
     },
     "metadata": {},
     "output_type": "display_data"
    },
    {
     "data": {
      "application/vnd.jupyter.widget-view+json": {
       "model_id": "",
       "version_major": 2,
       "version_minor": 0
      },
      "text/plain": [
       "  0%|          | 0/26 [00:00<?, ?it/s]"
      ]
     },
     "metadata": {},
     "output_type": "display_data"
    },
    {
     "data": {
      "application/vnd.jupyter.widget-view+json": {
       "model_id": "",
       "version_major": 2,
       "version_minor": 0
      },
      "text/plain": [
       "  0%|          | 0/26 [00:00<?, ?it/s]"
      ]
     },
     "metadata": {},
     "output_type": "display_data"
    },
    {
     "data": {
      "application/vnd.jupyter.widget-view+json": {
       "model_id": "",
       "version_major": 2,
       "version_minor": 0
      },
      "text/plain": [
       "  0%|          | 0/26 [00:00<?, ?it/s]"
      ]
     },
     "metadata": {},
     "output_type": "display_data"
    },
    {
     "data": {
      "application/vnd.jupyter.widget-view+json": {
       "model_id": "",
       "version_major": 2,
       "version_minor": 0
      },
      "text/plain": [
       "  0%|          | 0/26 [00:00<?, ?it/s]"
      ]
     },
     "metadata": {},
     "output_type": "display_data"
    },
    {
     "data": {
      "application/vnd.jupyter.widget-view+json": {
       "model_id": "",
       "version_major": 2,
       "version_minor": 0
      },
      "text/plain": [
       "  0%|          | 0/26 [00:00<?, ?it/s]"
      ]
     },
     "metadata": {},
     "output_type": "display_data"
    },
    {
     "data": {
      "application/vnd.jupyter.widget-view+json": {
       "model_id": "",
       "version_major": 2,
       "version_minor": 0
      },
      "text/plain": [
       "  0%|          | 0/26 [00:00<?, ?it/s]"
      ]
     },
     "metadata": {},
     "output_type": "display_data"
    },
    {
     "data": {
      "application/vnd.jupyter.widget-view+json": {
       "model_id": "",
       "version_major": 2,
       "version_minor": 0
      },
      "text/plain": [
       "  0%|          | 0/26 [00:00<?, ?it/s]"
      ]
     },
     "metadata": {},
     "output_type": "display_data"
    },
    {
     "data": {
      "application/vnd.jupyter.widget-view+json": {
       "model_id": "",
       "version_major": 2,
       "version_minor": 0
      },
      "text/plain": [
       "  0%|          | 0/26 [00:00<?, ?it/s]"
      ]
     },
     "metadata": {},
     "output_type": "display_data"
    },
    {
     "data": {
      "application/vnd.jupyter.widget-view+json": {
       "model_id": "",
       "version_major": 2,
       "version_minor": 0
      },
      "text/plain": [
       "  0%|          | 0/26 [00:00<?, ?it/s]"
      ]
     },
     "metadata": {},
     "output_type": "display_data"
    },
    {
     "data": {
      "application/vnd.jupyter.widget-view+json": {
       "model_id": "",
       "version_major": 2,
       "version_minor": 0
      },
      "text/plain": [
       "  0%|          | 0/26 [00:00<?, ?it/s]"
      ]
     },
     "metadata": {},
     "output_type": "display_data"
    },
    {
     "data": {
      "application/vnd.jupyter.widget-view+json": {
       "model_id": "",
       "version_major": 2,
       "version_minor": 0
      },
      "text/plain": [
       "  0%|          | 0/26 [00:00<?, ?it/s]"
      ]
     },
     "metadata": {},
     "output_type": "display_data"
    },
    {
     "data": {
      "application/vnd.jupyter.widget-view+json": {
       "model_id": "",
       "version_major": 2,
       "version_minor": 0
      },
      "text/plain": [
       "  0%|          | 0/26 [00:00<?, ?it/s]"
      ]
     },
     "metadata": {},
     "output_type": "display_data"
    },
    {
     "data": {
      "application/vnd.jupyter.widget-view+json": {
       "model_id": "",
       "version_major": 2,
       "version_minor": 0
      },
      "text/plain": [
       "  0%|          | 0/26 [00:00<?, ?it/s]"
      ]
     },
     "metadata": {},
     "output_type": "display_data"
    },
    {
     "data": {
      "application/vnd.jupyter.widget-view+json": {
       "model_id": "",
       "version_major": 2,
       "version_minor": 0
      },
      "text/plain": [
       "  0%|          | 0/26 [00:00<?, ?it/s]"
      ]
     },
     "metadata": {},
     "output_type": "display_data"
    },
    {
     "data": {
      "application/vnd.jupyter.widget-view+json": {
       "model_id": "",
       "version_major": 2,
       "version_minor": 0
      },
      "text/plain": [
       "  0%|          | 0/26 [00:00<?, ?it/s]"
      ]
     },
     "metadata": {},
     "output_type": "display_data"
    },
    {
     "data": {
      "application/vnd.jupyter.widget-view+json": {
       "model_id": "",
       "version_major": 2,
       "version_minor": 0
      },
      "text/plain": [
       "  0%|          | 0/26 [00:00<?, ?it/s]"
      ]
     },
     "metadata": {},
     "output_type": "display_data"
    },
    {
     "data": {
      "application/vnd.jupyter.widget-view+json": {
       "model_id": "",
       "version_major": 2,
       "version_minor": 0
      },
      "text/plain": [
       "  0%|          | 0/26 [00:00<?, ?it/s]"
      ]
     },
     "metadata": {},
     "output_type": "display_data"
    },
    {
     "data": {
      "application/vnd.jupyter.widget-view+json": {
       "model_id": "",
       "version_major": 2,
       "version_minor": 0
      },
      "text/plain": [
       "  0%|          | 0/26 [00:00<?, ?it/s]"
      ]
     },
     "metadata": {},
     "output_type": "display_data"
    },
    {
     "data": {
      "application/vnd.jupyter.widget-view+json": {
       "model_id": "",
       "version_major": 2,
       "version_minor": 0
      },
      "text/plain": [
       "  0%|          | 0/26 [00:00<?, ?it/s]"
      ]
     },
     "metadata": {},
     "output_type": "display_data"
    },
    {
     "data": {
      "application/vnd.jupyter.widget-view+json": {
       "model_id": "",
       "version_major": 2,
       "version_minor": 0
      },
      "text/plain": [
       "  0%|          | 0/26 [00:00<?, ?it/s]"
      ]
     },
     "metadata": {},
     "output_type": "display_data"
    },
    {
     "data": {
      "application/vnd.jupyter.widget-view+json": {
       "model_id": "",
       "version_major": 2,
       "version_minor": 0
      },
      "text/plain": [
       "  0%|          | 0/26 [00:00<?, ?it/s]"
      ]
     },
     "metadata": {},
     "output_type": "display_data"
    },
    {
     "data": {
      "application/vnd.jupyter.widget-view+json": {
       "model_id": "",
       "version_major": 2,
       "version_minor": 0
      },
      "text/plain": [
       "  0%|          | 0/26 [00:00<?, ?it/s]"
      ]
     },
     "metadata": {},
     "output_type": "display_data"
    },
    {
     "data": {
      "application/vnd.jupyter.widget-view+json": {
       "model_id": "",
       "version_major": 2,
       "version_minor": 0
      },
      "text/plain": [
       "  0%|          | 0/26 [00:00<?, ?it/s]"
      ]
     },
     "metadata": {},
     "output_type": "display_data"
    },
    {
     "data": {
      "application/vnd.jupyter.widget-view+json": {
       "model_id": "",
       "version_major": 2,
       "version_minor": 0
      },
      "text/plain": [
       "  0%|          | 0/26 [00:00<?, ?it/s]"
      ]
     },
     "metadata": {},
     "output_type": "display_data"
    },
    {
     "data": {
      "application/vnd.jupyter.widget-view+json": {
       "model_id": "",
       "version_major": 2,
       "version_minor": 0
      },
      "text/plain": [
       "  0%|          | 0/26 [00:00<?, ?it/s]"
      ]
     },
     "metadata": {},
     "output_type": "display_data"
    },
    {
     "data": {
      "application/vnd.jupyter.widget-view+json": {
       "model_id": "",
       "version_major": 2,
       "version_minor": 0
      },
      "text/plain": [
       "  0%|          | 0/26 [00:00<?, ?it/s]"
      ]
     },
     "metadata": {},
     "output_type": "display_data"
    },
    {
     "data": {
      "application/vnd.jupyter.widget-view+json": {
       "model_id": "",
       "version_major": 2,
       "version_minor": 0
      },
      "text/plain": [
       "  0%|          | 0/26 [00:00<?, ?it/s]"
      ]
     },
     "metadata": {},
     "output_type": "display_data"
    },
    {
     "data": {
      "application/vnd.jupyter.widget-view+json": {
       "model_id": "",
       "version_major": 2,
       "version_minor": 0
      },
      "text/plain": [
       "  0%|          | 0/26 [00:00<?, ?it/s]"
      ]
     },
     "metadata": {},
     "output_type": "display_data"
    },
    {
     "data": {
      "application/vnd.jupyter.widget-view+json": {
       "model_id": "",
       "version_major": 2,
       "version_minor": 0
      },
      "text/plain": [
       "  0%|          | 0/26 [00:00<?, ?it/s]"
      ]
     },
     "metadata": {},
     "output_type": "display_data"
    },
    {
     "data": {
      "application/vnd.jupyter.widget-view+json": {
       "model_id": "",
       "version_major": 2,
       "version_minor": 0
      },
      "text/plain": [
       "  0%|          | 0/26 [00:00<?, ?it/s]"
      ]
     },
     "metadata": {},
     "output_type": "display_data"
    },
    {
     "data": {
      "application/vnd.jupyter.widget-view+json": {
       "model_id": "",
       "version_major": 2,
       "version_minor": 0
      },
      "text/plain": [
       "  0%|          | 0/26 [00:00<?, ?it/s]"
      ]
     },
     "metadata": {},
     "output_type": "display_data"
    },
    {
     "data": {
      "application/vnd.jupyter.widget-view+json": {
       "model_id": "",
       "version_major": 2,
       "version_minor": 0
      },
      "text/plain": [
       "  0%|          | 0/26 [00:00<?, ?it/s]"
      ]
     },
     "metadata": {},
     "output_type": "display_data"
    },
    {
     "data": {
      "application/vnd.jupyter.widget-view+json": {
       "model_id": "",
       "version_major": 2,
       "version_minor": 0
      },
      "text/plain": [
       "  0%|          | 0/26 [00:00<?, ?it/s]"
      ]
     },
     "metadata": {},
     "output_type": "display_data"
    },
    {
     "data": {
      "application/vnd.jupyter.widget-view+json": {
       "model_id": "",
       "version_major": 2,
       "version_minor": 0
      },
      "text/plain": [
       "  0%|          | 0/26 [00:00<?, ?it/s]"
      ]
     },
     "metadata": {},
     "output_type": "display_data"
    },
    {
     "data": {
      "application/vnd.jupyter.widget-view+json": {
       "model_id": "",
       "version_major": 2,
       "version_minor": 0
      },
      "text/plain": [
       "  0%|          | 0/26 [00:00<?, ?it/s]"
      ]
     },
     "metadata": {},
     "output_type": "display_data"
    },
    {
     "data": {
      "application/vnd.jupyter.widget-view+json": {
       "model_id": "",
       "version_major": 2,
       "version_minor": 0
      },
      "text/plain": [
       "  0%|          | 0/26 [00:00<?, ?it/s]"
      ]
     },
     "metadata": {},
     "output_type": "display_data"
    },
    {
     "data": {
      "application/vnd.jupyter.widget-view+json": {
       "model_id": "",
       "version_major": 2,
       "version_minor": 0
      },
      "text/plain": [
       "  0%|          | 0/26 [00:00<?, ?it/s]"
      ]
     },
     "metadata": {},
     "output_type": "display_data"
    },
    {
     "data": {
      "application/vnd.jupyter.widget-view+json": {
       "model_id": "",
       "version_major": 2,
       "version_minor": 0
      },
      "text/plain": [
       "  0%|          | 0/26 [00:00<?, ?it/s]"
      ]
     },
     "metadata": {},
     "output_type": "display_data"
    },
    {
     "data": {
      "application/vnd.jupyter.widget-view+json": {
       "model_id": "",
       "version_major": 2,
       "version_minor": 0
      },
      "text/plain": [
       "  0%|          | 0/26 [00:00<?, ?it/s]"
      ]
     },
     "metadata": {},
     "output_type": "display_data"
    },
    {
     "data": {
      "application/vnd.jupyter.widget-view+json": {
       "model_id": "",
       "version_major": 2,
       "version_minor": 0
      },
      "text/plain": [
       "  0%|          | 0/26 [00:00<?, ?it/s]"
      ]
     },
     "metadata": {},
     "output_type": "display_data"
    },
    {
     "data": {
      "application/vnd.jupyter.widget-view+json": {
       "model_id": "",
       "version_major": 2,
       "version_minor": 0
      },
      "text/plain": [
       "  0%|          | 0/26 [00:00<?, ?it/s]"
      ]
     },
     "metadata": {},
     "output_type": "display_data"
    },
    {
     "data": {
      "application/vnd.jupyter.widget-view+json": {
       "model_id": "",
       "version_major": 2,
       "version_minor": 0
      },
      "text/plain": [
       "  0%|          | 0/26 [00:00<?, ?it/s]"
      ]
     },
     "metadata": {},
     "output_type": "display_data"
    },
    {
     "data": {
      "application/vnd.jupyter.widget-view+json": {
       "model_id": "",
       "version_major": 2,
       "version_minor": 0
      },
      "text/plain": [
       "  0%|          | 0/26 [00:00<?, ?it/s]"
      ]
     },
     "metadata": {},
     "output_type": "display_data"
    },
    {
     "data": {
      "application/vnd.jupyter.widget-view+json": {
       "model_id": "",
       "version_major": 2,
       "version_minor": 0
      },
      "text/plain": [
       "  0%|          | 0/26 [00:00<?, ?it/s]"
      ]
     },
     "metadata": {},
     "output_type": "display_data"
    },
    {
     "data": {
      "application/vnd.jupyter.widget-view+json": {
       "model_id": "",
       "version_major": 2,
       "version_minor": 0
      },
      "text/plain": [
       "  0%|          | 0/26 [00:00<?, ?it/s]"
      ]
     },
     "metadata": {},
     "output_type": "display_data"
    },
    {
     "data": {
      "application/vnd.jupyter.widget-view+json": {
       "model_id": "",
       "version_major": 2,
       "version_minor": 0
      },
      "text/plain": [
       "  0%|          | 0/26 [00:00<?, ?it/s]"
      ]
     },
     "metadata": {},
     "output_type": "display_data"
    },
    {
     "data": {
      "application/vnd.jupyter.widget-view+json": {
       "model_id": "",
       "version_major": 2,
       "version_minor": 0
      },
      "text/plain": [
       "  0%|          | 0/26 [00:00<?, ?it/s]"
      ]
     },
     "metadata": {},
     "output_type": "display_data"
    },
    {
     "data": {
      "application/vnd.jupyter.widget-view+json": {
       "model_id": "",
       "version_major": 2,
       "version_minor": 0
      },
      "text/plain": [
       "  0%|          | 0/26 [00:00<?, ?it/s]"
      ]
     },
     "metadata": {},
     "output_type": "display_data"
    },
    {
     "data": {
      "application/vnd.jupyter.widget-view+json": {
       "model_id": "",
       "version_major": 2,
       "version_minor": 0
      },
      "text/plain": [
       "  0%|          | 0/26 [00:00<?, ?it/s]"
      ]
     },
     "metadata": {},
     "output_type": "display_data"
    },
    {
     "data": {
      "application/vnd.jupyter.widget-view+json": {
       "model_id": "",
       "version_major": 2,
       "version_minor": 0
      },
      "text/plain": [
       "  0%|          | 0/26 [00:00<?, ?it/s]"
      ]
     },
     "metadata": {},
     "output_type": "display_data"
    },
    {
     "data": {
      "application/vnd.jupyter.widget-view+json": {
       "model_id": "",
       "version_major": 2,
       "version_minor": 0
      },
      "text/plain": [
       "  0%|          | 0/26 [00:00<?, ?it/s]"
      ]
     },
     "metadata": {},
     "output_type": "display_data"
    },
    {
     "data": {
      "application/vnd.jupyter.widget-view+json": {
       "model_id": "",
       "version_major": 2,
       "version_minor": 0
      },
      "text/plain": [
       "  0%|          | 0/26 [00:00<?, ?it/s]"
      ]
     },
     "metadata": {},
     "output_type": "display_data"
    },
    {
     "data": {
      "application/vnd.jupyter.widget-view+json": {
       "model_id": "",
       "version_major": 2,
       "version_minor": 0
      },
      "text/plain": [
       "  0%|          | 0/26 [00:00<?, ?it/s]"
      ]
     },
     "metadata": {},
     "output_type": "display_data"
    },
    {
     "data": {
      "application/vnd.jupyter.widget-view+json": {
       "model_id": "",
       "version_major": 2,
       "version_minor": 0
      },
      "text/plain": [
       "  0%|          | 0/26 [00:00<?, ?it/s]"
      ]
     },
     "metadata": {},
     "output_type": "display_data"
    },
    {
     "data": {
      "application/vnd.jupyter.widget-view+json": {
       "model_id": "",
       "version_major": 2,
       "version_minor": 0
      },
      "text/plain": [
       "  0%|          | 0/26 [00:00<?, ?it/s]"
      ]
     },
     "metadata": {},
     "output_type": "display_data"
    },
    {
     "data": {
      "application/vnd.jupyter.widget-view+json": {
       "model_id": "",
       "version_major": 2,
       "version_minor": 0
      },
      "text/plain": [
       "  0%|          | 0/26 [00:00<?, ?it/s]"
      ]
     },
     "metadata": {},
     "output_type": "display_data"
    },
    {
     "data": {
      "application/vnd.jupyter.widget-view+json": {
       "model_id": "",
       "version_major": 2,
       "version_minor": 0
      },
      "text/plain": [
       "  0%|          | 0/26 [00:00<?, ?it/s]"
      ]
     },
     "metadata": {},
     "output_type": "display_data"
    },
    {
     "data": {
      "application/vnd.jupyter.widget-view+json": {
       "model_id": "",
       "version_major": 2,
       "version_minor": 0
      },
      "text/plain": [
       "  0%|          | 0/26 [00:00<?, ?it/s]"
      ]
     },
     "metadata": {},
     "output_type": "display_data"
    },
    {
     "data": {
      "application/vnd.jupyter.widget-view+json": {
       "model_id": "",
       "version_major": 2,
       "version_minor": 0
      },
      "text/plain": [
       "  0%|          | 0/26 [00:00<?, ?it/s]"
      ]
     },
     "metadata": {},
     "output_type": "display_data"
    },
    {
     "data": {
      "application/vnd.jupyter.widget-view+json": {
       "model_id": "",
       "version_major": 2,
       "version_minor": 0
      },
      "text/plain": [
       "  0%|          | 0/26 [00:00<?, ?it/s]"
      ]
     },
     "metadata": {},
     "output_type": "display_data"
    },
    {
     "data": {
      "application/vnd.jupyter.widget-view+json": {
       "model_id": "",
       "version_major": 2,
       "version_minor": 0
      },
      "text/plain": [
       "  0%|          | 0/26 [00:00<?, ?it/s]"
      ]
     },
     "metadata": {},
     "output_type": "display_data"
    },
    {
     "data": {
      "application/vnd.jupyter.widget-view+json": {
       "model_id": "",
       "version_major": 2,
       "version_minor": 0
      },
      "text/plain": [
       "  0%|          | 0/26 [00:00<?, ?it/s]"
      ]
     },
     "metadata": {},
     "output_type": "display_data"
    },
    {
     "data": {
      "application/vnd.jupyter.widget-view+json": {
       "model_id": "",
       "version_major": 2,
       "version_minor": 0
      },
      "text/plain": [
       "  0%|          | 0/26 [00:00<?, ?it/s]"
      ]
     },
     "metadata": {},
     "output_type": "display_data"
    },
    {
     "data": {
      "application/vnd.jupyter.widget-view+json": {
       "model_id": "",
       "version_major": 2,
       "version_minor": 0
      },
      "text/plain": [
       "  0%|          | 0/26 [00:00<?, ?it/s]"
      ]
     },
     "metadata": {},
     "output_type": "display_data"
    },
    {
     "data": {
      "application/vnd.jupyter.widget-view+json": {
       "model_id": "",
       "version_major": 2,
       "version_minor": 0
      },
      "text/plain": [
       "  0%|          | 0/26 [00:00<?, ?it/s]"
      ]
     },
     "metadata": {},
     "output_type": "display_data"
    },
    {
     "data": {
      "application/vnd.jupyter.widget-view+json": {
       "model_id": "",
       "version_major": 2,
       "version_minor": 0
      },
      "text/plain": [
       "  0%|          | 0/26 [00:00<?, ?it/s]"
      ]
     },
     "metadata": {},
     "output_type": "display_data"
    },
    {
     "data": {
      "application/vnd.jupyter.widget-view+json": {
       "model_id": "",
       "version_major": 2,
       "version_minor": 0
      },
      "text/plain": [
       "  0%|          | 0/26 [00:00<?, ?it/s]"
      ]
     },
     "metadata": {},
     "output_type": "display_data"
    },
    {
     "data": {
      "application/vnd.jupyter.widget-view+json": {
       "model_id": "",
       "version_major": 2,
       "version_minor": 0
      },
      "text/plain": [
       "  0%|          | 0/26 [00:00<?, ?it/s]"
      ]
     },
     "metadata": {},
     "output_type": "display_data"
    },
    {
     "data": {
      "application/vnd.jupyter.widget-view+json": {
       "model_id": "",
       "version_major": 2,
       "version_minor": 0
      },
      "text/plain": [
       "  0%|          | 0/26 [00:00<?, ?it/s]"
      ]
     },
     "metadata": {},
     "output_type": "display_data"
    },
    {
     "data": {
      "application/vnd.jupyter.widget-view+json": {
       "model_id": "",
       "version_major": 2,
       "version_minor": 0
      },
      "text/plain": [
       "  0%|          | 0/26 [00:00<?, ?it/s]"
      ]
     },
     "metadata": {},
     "output_type": "display_data"
    },
    {
     "data": {
      "application/vnd.jupyter.widget-view+json": {
       "model_id": "",
       "version_major": 2,
       "version_minor": 0
      },
      "text/plain": [
       "  0%|          | 0/26 [00:00<?, ?it/s]"
      ]
     },
     "metadata": {},
     "output_type": "display_data"
    },
    {
     "data": {
      "application/vnd.jupyter.widget-view+json": {
       "model_id": "",
       "version_major": 2,
       "version_minor": 0
      },
      "text/plain": [
       "  0%|          | 0/26 [00:00<?, ?it/s]"
      ]
     },
     "metadata": {},
     "output_type": "display_data"
    },
    {
     "data": {
      "application/vnd.jupyter.widget-view+json": {
       "model_id": "",
       "version_major": 2,
       "version_minor": 0
      },
      "text/plain": [
       "  0%|          | 0/26 [00:00<?, ?it/s]"
      ]
     },
     "metadata": {},
     "output_type": "display_data"
    },
    {
     "data": {
      "application/vnd.jupyter.widget-view+json": {
       "model_id": "",
       "version_major": 2,
       "version_minor": 0
      },
      "text/plain": [
       "  0%|          | 0/26 [00:00<?, ?it/s]"
      ]
     },
     "metadata": {},
     "output_type": "display_data"
    },
    {
     "data": {
      "application/vnd.jupyter.widget-view+json": {
       "model_id": "",
       "version_major": 2,
       "version_minor": 0
      },
      "text/plain": [
       "  0%|          | 0/26 [00:00<?, ?it/s]"
      ]
     },
     "metadata": {},
     "output_type": "display_data"
    },
    {
     "data": {
      "application/vnd.jupyter.widget-view+json": {
       "model_id": "",
       "version_major": 2,
       "version_minor": 0
      },
      "text/plain": [
       "  0%|          | 0/26 [00:00<?, ?it/s]"
      ]
     },
     "metadata": {},
     "output_type": "display_data"
    },
    {
     "data": {
      "application/vnd.jupyter.widget-view+json": {
       "model_id": "",
       "version_major": 2,
       "version_minor": 0
      },
      "text/plain": [
       "  0%|          | 0/26 [00:00<?, ?it/s]"
      ]
     },
     "metadata": {},
     "output_type": "display_data"
    },
    {
     "data": {
      "application/vnd.jupyter.widget-view+json": {
       "model_id": "",
       "version_major": 2,
       "version_minor": 0
      },
      "text/plain": [
       "  0%|          | 0/26 [00:00<?, ?it/s]"
      ]
     },
     "metadata": {},
     "output_type": "display_data"
    },
    {
     "data": {
      "application/vnd.jupyter.widget-view+json": {
       "model_id": "",
       "version_major": 2,
       "version_minor": 0
      },
      "text/plain": [
       "  0%|          | 0/26 [00:00<?, ?it/s]"
      ]
     },
     "metadata": {},
     "output_type": "display_data"
    },
    {
     "data": {
      "application/vnd.jupyter.widget-view+json": {
       "model_id": "",
       "version_major": 2,
       "version_minor": 0
      },
      "text/plain": [
       "  0%|          | 0/26 [00:00<?, ?it/s]"
      ]
     },
     "metadata": {},
     "output_type": "display_data"
    },
    {
     "data": {
      "application/vnd.jupyter.widget-view+json": {
       "model_id": "",
       "version_major": 2,
       "version_minor": 0
      },
      "text/plain": [
       "  0%|          | 0/26 [00:00<?, ?it/s]"
      ]
     },
     "metadata": {},
     "output_type": "display_data"
    }
   ],
   "source": [
    "modeler.create_database(np.arange(0,81))"
   ]
  },
  {
   "cell_type": "code",
   "execution_count": 18,
   "metadata": {},
   "outputs": [
    {
     "data": {
      "application/vnd.jupyter.widget-view+json": {
       "model_id": "",
       "version_major": 2,
       "version_minor": 0
      },
      "text/plain": [
       "  0%|          | 0/26 [00:00<?, ?it/s]"
      ]
     },
     "metadata": {},
     "output_type": "display_data"
    },
    {
     "data": {
      "text/html": [
       "<div><svg style=\"position: absolute; width: 0; height: 0; overflow: hidden\">\n",
       "<defs>\n",
       "<symbol id=\"icon-database\" viewBox=\"0 0 32 32\">\n",
       "<path d=\"M16 0c-8.837 0-16 2.239-16 5v4c0 2.761 7.163 5 16 5s16-2.239 16-5v-4c0-2.761-7.163-5-16-5z\"></path>\n",
       "<path d=\"M16 17c-8.837 0-16-2.239-16-5v6c0 2.761 7.163 5 16 5s16-2.239 16-5v-6c0 2.761-7.163 5-16 5z\"></path>\n",
       "<path d=\"M16 26c-8.837 0-16-2.239-16-5v6c0 2.761 7.163 5 16 5s16-2.239 16-5v-6c0 2.761-7.163 5-16 5z\"></path>\n",
       "</symbol>\n",
       "<symbol id=\"icon-file-text2\" viewBox=\"0 0 32 32\">\n",
       "<path d=\"M28.681 7.159c-0.694-0.947-1.662-2.053-2.724-3.116s-2.169-2.030-3.116-2.724c-1.612-1.182-2.393-1.319-2.841-1.319h-15.5c-1.378 0-2.5 1.121-2.5 2.5v27c0 1.378 1.122 2.5 2.5 2.5h23c1.378 0 2.5-1.122 2.5-2.5v-19.5c0-0.448-0.137-1.23-1.319-2.841zM24.543 5.457c0.959 0.959 1.712 1.825 2.268 2.543h-4.811v-4.811c0.718 0.556 1.584 1.309 2.543 2.268zM28 29.5c0 0.271-0.229 0.5-0.5 0.5h-23c-0.271 0-0.5-0.229-0.5-0.5v-27c0-0.271 0.229-0.5 0.5-0.5 0 0 15.499-0 15.5 0v7c0 0.552 0.448 1 1 1h7v19.5z\"></path>\n",
       "<path d=\"M23 26h-14c-0.552 0-1-0.448-1-1s0.448-1 1-1h14c0.552 0 1 0.448 1 1s-0.448 1-1 1z\"></path>\n",
       "<path d=\"M23 22h-14c-0.552 0-1-0.448-1-1s0.448-1 1-1h14c0.552 0 1 0.448 1 1s-0.448 1-1 1z\"></path>\n",
       "<path d=\"M23 18h-14c-0.552 0-1-0.448-1-1s0.448-1 1-1h14c0.552 0 1 0.448 1 1s-0.448 1-1 1z\"></path>\n",
       "</symbol>\n",
       "</defs>\n",
       "</svg>\n",
       "<style>/* CSS stylesheet for displaying xarray objects in jupyterlab.\n",
       " *\n",
       " */\n",
       "\n",
       ":root {\n",
       "  --xr-font-color0: var(--jp-content-font-color0, rgba(0, 0, 0, 1));\n",
       "  --xr-font-color2: var(--jp-content-font-color2, rgba(0, 0, 0, 0.54));\n",
       "  --xr-font-color3: var(--jp-content-font-color3, rgba(0, 0, 0, 0.38));\n",
       "  --xr-border-color: var(--jp-border-color2, #e0e0e0);\n",
       "  --xr-disabled-color: var(--jp-layout-color3, #bdbdbd);\n",
       "  --xr-background-color: var(--jp-layout-color0, white);\n",
       "  --xr-background-color-row-even: var(--jp-layout-color1, white);\n",
       "  --xr-background-color-row-odd: var(--jp-layout-color2, #eeeeee);\n",
       "}\n",
       "\n",
       "html[theme=dark],\n",
       "body.vscode-dark {\n",
       "  --xr-font-color0: rgba(255, 255, 255, 1);\n",
       "  --xr-font-color2: rgba(255, 255, 255, 0.54);\n",
       "  --xr-font-color3: rgba(255, 255, 255, 0.38);\n",
       "  --xr-border-color: #1F1F1F;\n",
       "  --xr-disabled-color: #515151;\n",
       "  --xr-background-color: #111111;\n",
       "  --xr-background-color-row-even: #111111;\n",
       "  --xr-background-color-row-odd: #313131;\n",
       "}\n",
       "\n",
       ".xr-wrap {\n",
       "  display: block;\n",
       "  min-width: 300px;\n",
       "  max-width: 700px;\n",
       "}\n",
       "\n",
       ".xr-text-repr-fallback {\n",
       "  /* fallback to plain text repr when CSS is not injected (untrusted notebook) */\n",
       "  display: none;\n",
       "}\n",
       "\n",
       ".xr-header {\n",
       "  padding-top: 6px;\n",
       "  padding-bottom: 6px;\n",
       "  margin-bottom: 4px;\n",
       "  border-bottom: solid 1px var(--xr-border-color);\n",
       "}\n",
       "\n",
       ".xr-header > div,\n",
       ".xr-header > ul {\n",
       "  display: inline;\n",
       "  margin-top: 0;\n",
       "  margin-bottom: 0;\n",
       "}\n",
       "\n",
       ".xr-obj-type,\n",
       ".xr-array-name {\n",
       "  margin-left: 2px;\n",
       "  margin-right: 10px;\n",
       "}\n",
       "\n",
       ".xr-obj-type {\n",
       "  color: var(--xr-font-color2);\n",
       "}\n",
       "\n",
       ".xr-sections {\n",
       "  padding-left: 0 !important;\n",
       "  display: grid;\n",
       "  grid-template-columns: 150px auto auto 1fr 20px 20px;\n",
       "}\n",
       "\n",
       ".xr-section-item {\n",
       "  display: contents;\n",
       "}\n",
       "\n",
       ".xr-section-item input {\n",
       "  display: none;\n",
       "}\n",
       "\n",
       ".xr-section-item input + label {\n",
       "  color: var(--xr-disabled-color);\n",
       "}\n",
       "\n",
       ".xr-section-item input:enabled + label {\n",
       "  cursor: pointer;\n",
       "  color: var(--xr-font-color2);\n",
       "}\n",
       "\n",
       ".xr-section-item input:enabled + label:hover {\n",
       "  color: var(--xr-font-color0);\n",
       "}\n",
       "\n",
       ".xr-section-summary {\n",
       "  grid-column: 1;\n",
       "  color: var(--xr-font-color2);\n",
       "  font-weight: 500;\n",
       "}\n",
       "\n",
       ".xr-section-summary > span {\n",
       "  display: inline-block;\n",
       "  padding-left: 0.5em;\n",
       "}\n",
       "\n",
       ".xr-section-summary-in:disabled + label {\n",
       "  color: var(--xr-font-color2);\n",
       "}\n",
       "\n",
       ".xr-section-summary-in + label:before {\n",
       "  display: inline-block;\n",
       "  content: '►';\n",
       "  font-size: 11px;\n",
       "  width: 15px;\n",
       "  text-align: center;\n",
       "}\n",
       "\n",
       ".xr-section-summary-in:disabled + label:before {\n",
       "  color: var(--xr-disabled-color);\n",
       "}\n",
       "\n",
       ".xr-section-summary-in:checked + label:before {\n",
       "  content: '▼';\n",
       "}\n",
       "\n",
       ".xr-section-summary-in:checked + label > span {\n",
       "  display: none;\n",
       "}\n",
       "\n",
       ".xr-section-summary,\n",
       ".xr-section-inline-details {\n",
       "  padding-top: 4px;\n",
       "  padding-bottom: 4px;\n",
       "}\n",
       "\n",
       ".xr-section-inline-details {\n",
       "  grid-column: 2 / -1;\n",
       "}\n",
       "\n",
       ".xr-section-details {\n",
       "  display: none;\n",
       "  grid-column: 1 / -1;\n",
       "  margin-bottom: 5px;\n",
       "}\n",
       "\n",
       ".xr-section-summary-in:checked ~ .xr-section-details {\n",
       "  display: contents;\n",
       "}\n",
       "\n",
       ".xr-array-wrap {\n",
       "  grid-column: 1 / -1;\n",
       "  display: grid;\n",
       "  grid-template-columns: 20px auto;\n",
       "}\n",
       "\n",
       ".xr-array-wrap > label {\n",
       "  grid-column: 1;\n",
       "  vertical-align: top;\n",
       "}\n",
       "\n",
       ".xr-preview {\n",
       "  color: var(--xr-font-color3);\n",
       "}\n",
       "\n",
       ".xr-array-preview,\n",
       ".xr-array-data {\n",
       "  padding: 0 5px !important;\n",
       "  grid-column: 2;\n",
       "}\n",
       "\n",
       ".xr-array-data,\n",
       ".xr-array-in:checked ~ .xr-array-preview {\n",
       "  display: none;\n",
       "}\n",
       "\n",
       ".xr-array-in:checked ~ .xr-array-data,\n",
       ".xr-array-preview {\n",
       "  display: inline-block;\n",
       "}\n",
       "\n",
       ".xr-dim-list {\n",
       "  display: inline-block !important;\n",
       "  list-style: none;\n",
       "  padding: 0 !important;\n",
       "  margin: 0;\n",
       "}\n",
       "\n",
       ".xr-dim-list li {\n",
       "  display: inline-block;\n",
       "  padding: 0;\n",
       "  margin: 0;\n",
       "}\n",
       "\n",
       ".xr-dim-list:before {\n",
       "  content: '(';\n",
       "}\n",
       "\n",
       ".xr-dim-list:after {\n",
       "  content: ')';\n",
       "}\n",
       "\n",
       ".xr-dim-list li:not(:last-child):after {\n",
       "  content: ',';\n",
       "  padding-right: 5px;\n",
       "}\n",
       "\n",
       ".xr-has-index {\n",
       "  font-weight: bold;\n",
       "}\n",
       "\n",
       ".xr-var-list,\n",
       ".xr-var-item {\n",
       "  display: contents;\n",
       "}\n",
       "\n",
       ".xr-var-item > div,\n",
       ".xr-var-item label,\n",
       ".xr-var-item > .xr-var-name span {\n",
       "  background-color: var(--xr-background-color-row-even);\n",
       "  margin-bottom: 0;\n",
       "}\n",
       "\n",
       ".xr-var-item > .xr-var-name:hover span {\n",
       "  padding-right: 5px;\n",
       "}\n",
       "\n",
       ".xr-var-list > li:nth-child(odd) > div,\n",
       ".xr-var-list > li:nth-child(odd) > label,\n",
       ".xr-var-list > li:nth-child(odd) > .xr-var-name span {\n",
       "  background-color: var(--xr-background-color-row-odd);\n",
       "}\n",
       "\n",
       ".xr-var-name {\n",
       "  grid-column: 1;\n",
       "}\n",
       "\n",
       ".xr-var-dims {\n",
       "  grid-column: 2;\n",
       "}\n",
       "\n",
       ".xr-var-dtype {\n",
       "  grid-column: 3;\n",
       "  text-align: right;\n",
       "  color: var(--xr-font-color2);\n",
       "}\n",
       "\n",
       ".xr-var-preview {\n",
       "  grid-column: 4;\n",
       "}\n",
       "\n",
       ".xr-var-name,\n",
       ".xr-var-dims,\n",
       ".xr-var-dtype,\n",
       ".xr-preview,\n",
       ".xr-attrs dt {\n",
       "  white-space: nowrap;\n",
       "  overflow: hidden;\n",
       "  text-overflow: ellipsis;\n",
       "  padding-right: 10px;\n",
       "}\n",
       "\n",
       ".xr-var-name:hover,\n",
       ".xr-var-dims:hover,\n",
       ".xr-var-dtype:hover,\n",
       ".xr-attrs dt:hover {\n",
       "  overflow: visible;\n",
       "  width: auto;\n",
       "  z-index: 1;\n",
       "}\n",
       "\n",
       ".xr-var-attrs,\n",
       ".xr-var-data {\n",
       "  display: none;\n",
       "  background-color: var(--xr-background-color) !important;\n",
       "  padding-bottom: 5px !important;\n",
       "}\n",
       "\n",
       ".xr-var-attrs-in:checked ~ .xr-var-attrs,\n",
       ".xr-var-data-in:checked ~ .xr-var-data {\n",
       "  display: block;\n",
       "}\n",
       "\n",
       ".xr-var-data > table {\n",
       "  float: right;\n",
       "}\n",
       "\n",
       ".xr-var-name span,\n",
       ".xr-var-data,\n",
       ".xr-attrs {\n",
       "  padding-left: 25px !important;\n",
       "}\n",
       "\n",
       ".xr-attrs,\n",
       ".xr-var-attrs,\n",
       ".xr-var-data {\n",
       "  grid-column: 1 / -1;\n",
       "}\n",
       "\n",
       "dl.xr-attrs {\n",
       "  padding: 0;\n",
       "  margin: 0;\n",
       "  display: grid;\n",
       "  grid-template-columns: 125px auto;\n",
       "}\n",
       "\n",
       ".xr-attrs dt,\n",
       ".xr-attrs dd {\n",
       "  padding: 0;\n",
       "  margin: 0;\n",
       "  float: left;\n",
       "  padding-right: 10px;\n",
       "  width: auto;\n",
       "}\n",
       "\n",
       ".xr-attrs dt {\n",
       "  font-weight: normal;\n",
       "  grid-column: 1;\n",
       "}\n",
       "\n",
       ".xr-attrs dt:hover span {\n",
       "  display: inline-block;\n",
       "  background: var(--xr-background-color);\n",
       "  padding-right: 10px;\n",
       "}\n",
       "\n",
       ".xr-attrs dd {\n",
       "  grid-column: 2;\n",
       "  white-space: pre-wrap;\n",
       "  word-break: break-all;\n",
       "}\n",
       "\n",
       ".xr-icon-database,\n",
       ".xr-icon-file-text2 {\n",
       "  display: inline-block;\n",
       "  vertical-align: middle;\n",
       "  width: 1em;\n",
       "  height: 1.5em !important;\n",
       "  stroke-width: 0;\n",
       "  stroke: currentColor;\n",
       "  fill: currentColor;\n",
       "}\n",
       "</style><pre class='xr-text-repr-fallback'>&lt;xarray.DataArray &#x27;cooling_curves&#x27; (time: 40, chi: 26)&gt;\n",
       "array([[107.27019071, 107.52806079, 107.77941487, ..., 112.20927326,\n",
       "        112.36529454, 112.51900171],\n",
       "       [106.01464512, 106.31574198, 106.50927776, ..., 110.97213079,\n",
       "        111.15308145, 111.33078491],\n",
       "       [104.89891859, 105.23425719, 105.3783303 , ..., 109.9178366 ,\n",
       "        110.06683252, 110.26364671],\n",
       "       ...,\n",
       "       [ 89.81873108,  90.10610083,  90.4027737 , ...,  94.8786438 ,\n",
       "         95.05146055,  95.21090981],\n",
       "       [ 89.62643033,  89.90216095,  90.20378384, ...,  94.67701109,\n",
       "         94.84276988,  95.00582356],\n",
       "       [ 89.43890806,  89.71997861,  90.00998441, ...,  94.46994729,\n",
       "         94.63924487,  94.80571352]])\n",
       "Coordinates:\n",
       "  * time     (time) datetime64[ns] 1970-01-01T07:37:30 ... 1970-01-01T17:22:30\n",
       "  * chi      (chi) float64 1.0 1.1 1.2 1.3 1.4 1.5 ... 3.0 3.1 3.2 3.3 3.4 3.5\n",
       "    lat      int64 10</pre><div class='xr-wrap' hidden><div class='xr-header'><div class='xr-obj-type'>xarray.DataArray</div><div class='xr-array-name'>'cooling_curves'</div><ul class='xr-dim-list'><li><span class='xr-has-index'>time</span>: 40</li><li><span class='xr-has-index'>chi</span>: 26</li></ul></div><ul class='xr-sections'><li class='xr-section-item'><div class='xr-array-wrap'><input id='section-38f40cf7-5f6a-4c0d-8fb4-5ecdcf5a48a8' class='xr-array-in' type='checkbox' checked><label for='section-38f40cf7-5f6a-4c0d-8fb4-5ecdcf5a48a8' title='Show/hide data repr'><svg class='icon xr-icon-database'><use xlink:href='#icon-database'></use></svg></label><div class='xr-array-preview xr-preview'><span>107.3 107.5 107.8 108.0 108.4 108.6 ... 94.12 94.3 94.47 94.64 94.81</span></div><div class='xr-array-data'><pre>array([[107.27019071, 107.52806079, 107.77941487, ..., 112.20927326,\n",
       "        112.36529454, 112.51900171],\n",
       "       [106.01464512, 106.31574198, 106.50927776, ..., 110.97213079,\n",
       "        111.15308145, 111.33078491],\n",
       "       [104.89891859, 105.23425719, 105.3783303 , ..., 109.9178366 ,\n",
       "        110.06683252, 110.26364671],\n",
       "       ...,\n",
       "       [ 89.81873108,  90.10610083,  90.4027737 , ...,  94.8786438 ,\n",
       "         95.05146055,  95.21090981],\n",
       "       [ 89.62643033,  89.90216095,  90.20378384, ...,  94.67701109,\n",
       "         94.84276988,  95.00582356],\n",
       "       [ 89.43890806,  89.71997861,  90.00998441, ...,  94.46994729,\n",
       "         94.63924487,  94.80571352]])</pre></div></div></li><li class='xr-section-item'><input id='section-0ce94099-4643-453b-8067-f02d4db7de80' class='xr-section-summary-in' type='checkbox'  checked><label for='section-0ce94099-4643-453b-8067-f02d4db7de80' class='xr-section-summary' >Coordinates: <span>(3)</span></label><div class='xr-section-inline-details'></div><div class='xr-section-details'><ul class='xr-var-list'><li class='xr-var-item'><div class='xr-var-name'><span class='xr-has-index'>time</span></div><div class='xr-var-dims'>(time)</div><div class='xr-var-dtype'>datetime64[ns]</div><div class='xr-var-preview xr-preview'>1970-01-01T07:37:30 ... 1970-01-...</div><input id='attrs-78ad1de1-51df-4131-a409-5190e69f4917' class='xr-var-attrs-in' type='checkbox' disabled><label for='attrs-78ad1de1-51df-4131-a409-5190e69f4917' title='Show/Hide attributes'><svg class='icon xr-icon-file-text2'><use xlink:href='#icon-file-text2'></use></svg></label><input id='data-6e2d19d9-5011-457b-89b7-a7261f466e64' class='xr-var-data-in' type='checkbox'><label for='data-6e2d19d9-5011-457b-89b7-a7261f466e64' title='Show/Hide data repr'><svg class='icon xr-icon-database'><use xlink:href='#icon-database'></use></svg></label><div class='xr-var-attrs'><dl class='xr-attrs'></dl></div><div class='xr-var-data'><pre>array([&#x27;1970-01-01T07:37:30.000000000&#x27;, &#x27;1970-01-01T07:52:30.000000000&#x27;,\n",
       "       &#x27;1970-01-01T08:07:30.000000000&#x27;, &#x27;1970-01-01T08:22:30.000000000&#x27;,\n",
       "       &#x27;1970-01-01T08:37:30.000000000&#x27;, &#x27;1970-01-01T08:52:30.000000000&#x27;,\n",
       "       &#x27;1970-01-01T09:07:30.000000000&#x27;, &#x27;1970-01-01T09:22:30.000000000&#x27;,\n",
       "       &#x27;1970-01-01T09:37:30.000000000&#x27;, &#x27;1970-01-01T09:52:30.000000000&#x27;,\n",
       "       &#x27;1970-01-01T10:07:30.000000000&#x27;, &#x27;1970-01-01T10:22:30.000000000&#x27;,\n",
       "       &#x27;1970-01-01T10:37:30.000000000&#x27;, &#x27;1970-01-01T10:52:30.000000000&#x27;,\n",
       "       &#x27;1970-01-01T11:07:30.000000000&#x27;, &#x27;1970-01-01T11:22:30.000000000&#x27;,\n",
       "       &#x27;1970-01-01T11:37:30.000000000&#x27;, &#x27;1970-01-01T11:52:30.000000000&#x27;,\n",
       "       &#x27;1970-01-01T12:07:30.000000000&#x27;, &#x27;1970-01-01T12:22:30.000000000&#x27;,\n",
       "       &#x27;1970-01-01T12:37:30.000000000&#x27;, &#x27;1970-01-01T12:52:30.000000000&#x27;,\n",
       "       &#x27;1970-01-01T13:07:30.000000000&#x27;, &#x27;1970-01-01T13:22:30.000000000&#x27;,\n",
       "       &#x27;1970-01-01T13:37:30.000000000&#x27;, &#x27;1970-01-01T13:52:30.000000000&#x27;,\n",
       "       &#x27;1970-01-01T14:07:30.000000000&#x27;, &#x27;1970-01-01T14:22:30.000000000&#x27;,\n",
       "       &#x27;1970-01-01T14:37:30.000000000&#x27;, &#x27;1970-01-01T14:52:30.000000000&#x27;,\n",
       "       &#x27;1970-01-01T15:07:30.000000000&#x27;, &#x27;1970-01-01T15:22:30.000000000&#x27;,\n",
       "       &#x27;1970-01-01T15:37:30.000000000&#x27;, &#x27;1970-01-01T15:52:30.000000000&#x27;,\n",
       "       &#x27;1970-01-01T16:07:30.000000000&#x27;, &#x27;1970-01-01T16:22:30.000000000&#x27;,\n",
       "       &#x27;1970-01-01T16:37:30.000000000&#x27;, &#x27;1970-01-01T16:52:30.000000000&#x27;,\n",
       "       &#x27;1970-01-01T17:07:30.000000000&#x27;, &#x27;1970-01-01T17:22:30.000000000&#x27;],\n",
       "      dtype=&#x27;datetime64[ns]&#x27;)</pre></div></li><li class='xr-var-item'><div class='xr-var-name'><span class='xr-has-index'>chi</span></div><div class='xr-var-dims'>(chi)</div><div class='xr-var-dtype'>float64</div><div class='xr-var-preview xr-preview'>1.0 1.1 1.2 1.3 ... 3.2 3.3 3.4 3.5</div><input id='attrs-c322a451-e0aa-490a-9f88-9657d7194bde' class='xr-var-attrs-in' type='checkbox' disabled><label for='attrs-c322a451-e0aa-490a-9f88-9657d7194bde' title='Show/Hide attributes'><svg class='icon xr-icon-file-text2'><use xlink:href='#icon-file-text2'></use></svg></label><input id='data-962be383-ca12-485e-b416-76e00a93c8a5' class='xr-var-data-in' type='checkbox'><label for='data-962be383-ca12-485e-b416-76e00a93c8a5' title='Show/Hide data repr'><svg class='icon xr-icon-database'><use xlink:href='#icon-database'></use></svg></label><div class='xr-var-attrs'><dl class='xr-attrs'></dl></div><div class='xr-var-data'><pre>array([1. , 1.1, 1.2, 1.3, 1.4, 1.5, 1.6, 1.7, 1.8, 1.9, 2. , 2.1, 2.2, 2.3,\n",
       "       2.4, 2.5, 2.6, 2.7, 2.8, 2.9, 3. , 3.1, 3.2, 3.3, 3.4, 3.5])</pre></div></li><li class='xr-var-item'><div class='xr-var-name'><span>lat</span></div><div class='xr-var-dims'>()</div><div class='xr-var-dtype'>int64</div><div class='xr-var-preview xr-preview'>10</div><input id='attrs-d926e5aa-9b8d-45e9-86c1-fb26f70792b6' class='xr-var-attrs-in' type='checkbox' disabled><label for='attrs-d926e5aa-9b8d-45e9-86c1-fb26f70792b6' title='Show/Hide attributes'><svg class='icon xr-icon-file-text2'><use xlink:href='#icon-file-text2'></use></svg></label><input id='data-d8ee230e-1082-4441-8297-0480735953ba' class='xr-var-data-in' type='checkbox'><label for='data-d8ee230e-1082-4441-8297-0480735953ba' title='Show/Hide data repr'><svg class='icon xr-icon-database'><use xlink:href='#icon-database'></use></svg></label><div class='xr-var-attrs'><dl class='xr-attrs'></dl></div><div class='xr-var-data'><pre>array(10)</pre></div></li></ul></div></li><li class='xr-section-item'><input id='section-cd2e1bb8-a121-4c2a-abea-239a7361a81d' class='xr-section-summary-in' type='checkbox' disabled ><label for='section-cd2e1bb8-a121-4c2a-abea-239a7361a81d' class='xr-section-summary'  title='Expand/collapse section'>Attributes: <span>(0)</span></label><div class='xr-section-inline-details'></div><div class='xr-section-details'><dl class='xr-attrs'></dl></div></li></ul></div></div>"
      ],
      "text/plain": [
       "<xarray.DataArray 'cooling_curves' (time: 40, chi: 26)>\n",
       "array([[107.27019071, 107.52806079, 107.77941487, ..., 112.20927326,\n",
       "        112.36529454, 112.51900171],\n",
       "       [106.01464512, 106.31574198, 106.50927776, ..., 110.97213079,\n",
       "        111.15308145, 111.33078491],\n",
       "       [104.89891859, 105.23425719, 105.3783303 , ..., 109.9178366 ,\n",
       "        110.06683252, 110.26364671],\n",
       "       ...,\n",
       "       [ 89.81873108,  90.10610083,  90.4027737 , ...,  94.8786438 ,\n",
       "         95.05146055,  95.21090981],\n",
       "       [ 89.62643033,  89.90216095,  90.20378384, ...,  94.67701109,\n",
       "         94.84276988,  95.00582356],\n",
       "       [ 89.43890806,  89.71997861,  90.00998441, ...,  94.46994729,\n",
       "         94.63924487,  94.80571352]])\n",
       "Coordinates:\n",
       "  * time     (time) datetime64[ns] 1970-01-01T07:37:30 ... 1970-01-01T17:22:30\n",
       "  * chi      (chi) float64 1.0 1.1 1.2 1.3 1.4 1.5 ... 3.0 3.1 3.2 3.3 3.4 3.5\n",
       "    lat      int64 10"
      ]
     },
     "execution_count": 18,
     "metadata": {},
     "output_type": "execute_result"
    }
   ],
   "source": [
    "modeler.produce_one_lat(10)"
   ]
  },
  {
   "cell_type": "code",
   "execution_count": 19,
   "metadata": {},
   "outputs": [],
   "source": [
    "model = modeler.models[0]"
   ]
  },
  {
   "cell_type": "code",
   "execution_count": 31,
   "metadata": {},
   "outputs": [],
   "source": [
    "s = model.last_surface_cooling\n",
    "s.index = heat1d.get_datetimeindex(s)"
   ]
  },
  {
   "cell_type": "code",
   "execution_count": 34,
   "metadata": {},
   "outputs": [
    {
     "data": {},
     "metadata": {},
     "output_type": "display_data"
    },
    {
     "data": {
      "application/vnd.holoviews_exec.v0+json": "",
      "text/html": [
       "<div id='1700'>\n",
       "\n",
       "\n",
       "\n",
       "\n",
       "\n",
       "  <div class=\"bk-root\" id=\"bec60691-79d2-4907-b5ca-d1c9a9d4c38d\" data-root-id=\"1700\"></div>\n",
       "</div>\n",
       "<script type=\"application/javascript\">(function(root) {\n",
       "  function embed_document(root) {\n",
       "    var docs_json = {\"0dd1fed4-25b2-424f-9b60-8a7449463037\":{\"roots\":{\"references\":[{\"attributes\":{\"data\":{\"0\":{\"__ndarray__\":\"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\",\"dtype\":\"float64\",\"order\":\"little\",\"shape\":[223]},\"A_0\":{\"__ndarray__\":\"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\",\"dtype\":\"float64\",\"order\":\"little\",\"shape\":[223]},\"index\":{\"__ndarray__\":\"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\",\"dtype\":\"float64\",\"order\":\"little\",\"shape\":[223]}},\"selected\":{\"id\":\"1736\"},\"selection_policy\":{\"id\":\"1753\"}},\"id\":\"1735\",\"type\":\"ColumnDataSource\"},{\"attributes\":{},\"id\":\"1746\",\"type\":\"BasicTickFormatter\"},{\"attributes\":{\"callback\":null,\"formatters\":{\"@{index}\":\"datetime\"},\"renderers\":[{\"id\":\"1741\"}],\"tags\":[\"hv_created\"],\"tooltips\":[[\"index\",\"@{index}{%F %T}\"],[\"0\",\"@{A_0}\"]]},\"id\":\"1704\",\"type\":\"HoverTool\"},{\"attributes\":{\"below\":[{\"id\":\"1714\"}],\"center\":[{\"id\":\"1717\"},{\"id\":\"1721\"}],\"left\":[{\"id\":\"1718\"}],\"margin\":[5,5,5,5],\"min_border_bottom\":10,\"min_border_left\":10,\"min_border_right\":10,\"min_border_top\":10,\"plot_height\":300,\"plot_width\":700,\"renderers\":[{\"id\":\"1741\"}],\"sizing_mode\":\"fixed\",\"title\":{\"id\":\"1706\"},\"toolbar\":{\"id\":\"1728\"},\"x_range\":{\"id\":\"1702\"},\"x_scale\":{\"id\":\"1710\"},\"y_range\":{\"id\":\"1703\"},\"y_scale\":{\"id\":\"1712\"}},\"id\":\"1705\",\"subtype\":\"Figure\",\"type\":\"Plot\"},{\"attributes\":{},\"id\":\"1753\",\"type\":\"UnionRenderers\"},{\"attributes\":{\"num_minor_ticks\":5,\"tickers\":[{\"id\":\"1755\"},{\"id\":\"1756\"},{\"id\":\"1757\"},{\"id\":\"1758\"},{\"id\":\"1759\"},{\"id\":\"1760\"},{\"id\":\"1761\"},{\"id\":\"1762\"},{\"id\":\"1763\"},{\"id\":\"1764\"},{\"id\":\"1765\"},{\"id\":\"1766\"}]},\"id\":\"1715\",\"type\":\"DatetimeTicker\"},{\"attributes\":{\"end\":62859888.6516,\"reset_end\":62859888.6516,\"reset_start\":27075320.6652,\"start\":27075320.6652,\"tags\":[[[\"index\",\"index\",null]]]},\"id\":\"1702\",\"type\":\"Range1d\"},{\"attributes\":{},\"id\":\"1744\",\"type\":\"DatetimeTickFormatter\"},{\"attributes\":{},\"id\":\"1722\",\"type\":\"SaveTool\"},{\"attributes\":{\"margin\":[5,5,5,5],\"name\":\"HSpacer03341\",\"sizing_mode\":\"stretch_width\"},\"id\":\"1787\",\"type\":\"Spacer\"},{\"attributes\":{\"axis_label\":\"\",\"bounds\":\"auto\",\"formatter\":{\"id\":\"1744\"},\"major_label_orientation\":\"horizontal\",\"ticker\":{\"id\":\"1715\"}},\"id\":\"1714\",\"type\":\"DatetimeAxis\"},{\"attributes\":{\"mantissas\":[1,2,5],\"max_interval\":500.0,\"num_minor_ticks\":0},\"id\":\"1755\",\"type\":\"AdaptiveTicker\"},{\"attributes\":{\"base\":60,\"mantissas\":[1,2,5,10,15,20,30],\"max_interval\":1800000.0,\"min_interval\":1000.0,\"num_minor_ticks\":0},\"id\":\"1756\",\"type\":\"AdaptiveTicker\"},{\"attributes\":{\"days\":[1,2,3,4,5,6,7,8,9,10,11,12,13,14,15,16,17,18,19,20,21,22,23,24,25,26,27,28,29,30,31]},\"id\":\"1758\",\"type\":\"DaysTicker\"},{\"attributes\":{\"base\":24,\"mantissas\":[1,2,4,6,8,12],\"max_interval\":43200000.0,\"min_interval\":3600000.0,\"num_minor_ticks\":0},\"id\":\"1757\",\"type\":\"AdaptiveTicker\"},{\"attributes\":{\"axis_label\":\"\",\"bounds\":\"auto\",\"formatter\":{\"id\":\"1746\"},\"major_label_orientation\":\"horizontal\",\"ticker\":{\"id\":\"1719\"}},\"id\":\"1718\",\"type\":\"LinearAxis\"},{\"attributes\":{\"end\":109.73629460520614,\"reset_end\":109.73629460520614,\"reset_start\":87.52045005737669,\"start\":87.52045005737669,\"tags\":[[[\"0\",\"0\",null]]]},\"id\":\"1703\",\"type\":\"Range1d\"},{\"attributes\":{\"months\":[0,1,2,3,4,5,6,7,8,9,10,11]},\"id\":\"1762\",\"type\":\"MonthsTicker\"},{\"attributes\":{\"children\":[{\"id\":\"1701\"},{\"id\":\"1705\"},{\"id\":\"1787\"}],\"margin\":[0,0,0,0],\"name\":\"Row03336\",\"tags\":[\"embedded\"]},\"id\":\"1700\",\"type\":\"Row\"},{\"attributes\":{\"line_alpha\":0.1,\"line_color\":\"#1f77b3\",\"line_width\":2,\"x\":{\"field\":\"index\"},\"y\":{\"field\":\"0\"}},\"id\":\"1739\",\"type\":\"Line\"},{\"attributes\":{\"months\":[0,2,4,6,8,10]},\"id\":\"1763\",\"type\":\"MonthsTicker\"},{\"attributes\":{\"days\":[1,4,7,10,13,16,19,22,25,28]},\"id\":\"1759\",\"type\":\"DaysTicker\"},{\"attributes\":{\"line_alpha\":0.2,\"line_color\":\"#1f77b3\",\"line_width\":2,\"x\":{\"field\":\"index\"},\"y\":{\"field\":\"0\"}},\"id\":\"1740\",\"type\":\"Line\"},{\"attributes\":{\"days\":[1,15]},\"id\":\"1761\",\"type\":\"DaysTicker\"},{\"attributes\":{\"active_drag\":\"auto\",\"active_inspect\":\"auto\",\"active_multi\":null,\"active_scroll\":\"auto\",\"active_tap\":\"auto\",\"tools\":[{\"id\":\"1704\"},{\"id\":\"1722\"},{\"id\":\"1723\"},{\"id\":\"1724\"},{\"id\":\"1725\"},{\"id\":\"1726\"}]},\"id\":\"1728\",\"type\":\"Toolbar\"},{\"attributes\":{\"months\":[0,6]},\"id\":\"1765\",\"type\":\"MonthsTicker\"},{\"attributes\":{\"days\":[1,8,15,22]},\"id\":\"1760\",\"type\":\"DaysTicker\"},{\"attributes\":{\"axis\":{\"id\":\"1714\"},\"grid_line_color\":null,\"ticker\":null},\"id\":\"1717\",\"type\":\"Grid\"},{\"attributes\":{},\"id\":\"1723\",\"type\":\"PanTool\"},{\"attributes\":{\"margin\":[5,5,5,5],\"name\":\"HSpacer03340\",\"sizing_mode\":\"stretch_width\"},\"id\":\"1701\",\"type\":\"Spacer\"},{\"attributes\":{\"source\":{\"id\":\"1735\"}},\"id\":\"1742\",\"type\":\"CDSView\"},{\"attributes\":{},\"id\":\"1766\",\"type\":\"YearsTicker\"},{\"attributes\":{\"months\":[0,4,8]},\"id\":\"1764\",\"type\":\"MonthsTicker\"},{\"attributes\":{},\"id\":\"1719\",\"type\":\"BasicTicker\"},{\"attributes\":{},\"id\":\"1726\",\"type\":\"ResetTool\"},{\"attributes\":{\"overlay\":{\"id\":\"1727\"}},\"id\":\"1725\",\"type\":\"BoxZoomTool\"},{\"attributes\":{},\"id\":\"1736\",\"type\":\"Selection\"},{\"attributes\":{\"axis\":{\"id\":\"1718\"},\"dimension\":1,\"grid_line_color\":null,\"ticker\":null},\"id\":\"1721\",\"type\":\"Grid\"},{\"attributes\":{\"bottom_units\":\"screen\",\"fill_alpha\":0.5,\"fill_color\":\"lightgrey\",\"left_units\":\"screen\",\"level\":\"overlay\",\"line_alpha\":1.0,\"line_color\":\"black\",\"line_dash\":[4,4],\"line_width\":2,\"right_units\":\"screen\",\"top_units\":\"screen\"},\"id\":\"1727\",\"type\":\"BoxAnnotation\"},{\"attributes\":{\"text\":\"0\",\"text_color\":{\"value\":\"black\"},\"text_font_size\":{\"value\":\"12pt\"}},\"id\":\"1706\",\"type\":\"Title\"},{\"attributes\":{\"line_color\":\"#1f77b3\",\"line_width\":2,\"x\":{\"field\":\"index\"},\"y\":{\"field\":\"0\"}},\"id\":\"1738\",\"type\":\"Line\"},{\"attributes\":{},\"id\":\"1712\",\"type\":\"LinearScale\"},{\"attributes\":{},\"id\":\"1710\",\"type\":\"LinearScale\"},{\"attributes\":{\"data_source\":{\"id\":\"1735\"},\"glyph\":{\"id\":\"1738\"},\"hover_glyph\":null,\"muted_glyph\":{\"id\":\"1740\"},\"nonselection_glyph\":{\"id\":\"1739\"},\"selection_glyph\":null,\"view\":{\"id\":\"1742\"}},\"id\":\"1741\",\"type\":\"GlyphRenderer\"},{\"attributes\":{},\"id\":\"1724\",\"type\":\"WheelZoomTool\"}],\"root_ids\":[\"1700\"]},\"title\":\"Bokeh Application\",\"version\":\"2.2.3\"}};\n",
       "    var render_items = [{\"docid\":\"0dd1fed4-25b2-424f-9b60-8a7449463037\",\"root_ids\":[\"1700\"],\"roots\":{\"1700\":\"bec60691-79d2-4907-b5ca-d1c9a9d4c38d\"}}];\n",
       "    root.Bokeh.embed.embed_items_notebook(docs_json, render_items);\n",
       "  }\n",
       "  if (root.Bokeh !== undefined && root.Bokeh.Panel !== undefined) {\n",
       "    embed_document(root);\n",
       "  } else {\n",
       "    var attempts = 0;\n",
       "    var timer = setInterval(function(root) {\n",
       "      if (root.Bokeh !== undefined && root.Bokeh.Panel !== undefined) {\n",
       "        clearInterval(timer);\n",
       "        embed_document(root);\n",
       "      } else if (document.readyState == \"complete\") {\n",
       "        attempts++;\n",
       "        if (attempts > 100) {\n",
       "          clearInterval(timer);\n",
       "          console.log(\"Bokeh: ERROR: Unable to run BokehJS code because BokehJS library is missing\");\n",
       "        }\n",
       "      }\n",
       "    }, 10, root)\n",
       "  }\n",
       "})(window);</script>"
      ],
      "text/plain": [
       ":Curve   [index]   (0)"
      ]
     },
     "execution_count": 34,
     "metadata": {
      "application/vnd.holoviews_exec.v0+json": {
       "id": "1700"
      }
     },
     "output_type": "execute_result"
    }
   ],
   "source": [
    "g1 = s.hvplot()\n",
    "g1"
   ]
  },
  {
   "cell_type": "code",
   "execution_count": 35,
   "metadata": {},
   "outputs": [
    {
     "data": {},
     "metadata": {},
     "output_type": "display_data"
    },
    {
     "data": {
      "application/vnd.holoviews_exec.v0+json": "",
      "text/html": [
       "<div id='1889'>\n",
       "\n",
       "\n",
       "\n",
       "\n",
       "\n",
       "  <div class=\"bk-root\" id=\"fdf9f84b-ad3a-4c2d-aa2f-5ae012108685\" data-root-id=\"1889\"></div>\n",
       "</div>\n",
       "<script type=\"application/javascript\">(function(root) {\n",
       "  function embed_document(root) {\n",
       "    var docs_json = {\"b398e6ec-79c2-453a-8058-c61cb4cf7e49\":{\"roots\":{\"references\":[{\"attributes\":{\"days\":[1,8,15,22]},\"id\":\"1949\",\"type\":\"DaysTicker\"},{\"attributes\":{\"source\":{\"id\":\"1924\"}},\"id\":\"1931\",\"type\":\"CDSView\"},{\"attributes\":{},\"id\":\"1955\",\"type\":\"YearsTicker\"},{\"attributes\":{\"fill_alpha\":{\"value\":0.1},\"fill_color\":{\"value\":\"#1f77b3\"},\"line_alpha\":{\"value\":0.1},\"line_color\":{\"value\":\"#1f77b3\"},\"size\":{\"units\":\"screen\",\"value\":5.477225575051661},\"x\":{\"field\":\"index\"},\"y\":{\"field\":\"0\"}},\"id\":\"1928\",\"type\":\"Scatter\"},{\"attributes\":{\"months\":[0,6]},\"id\":\"1954\",\"type\":\"MonthsTicker\"},{\"attributes\":{\"fill_color\":{\"value\":\"#1f77b3\"},\"line_color\":{\"value\":\"#1f77b3\"},\"size\":{\"units\":\"screen\",\"value\":5.477225575051661},\"x\":{\"field\":\"index\"},\"y\":{\"field\":\"0\"}},\"id\":\"1927\",\"type\":\"Scatter\"},{\"attributes\":{\"months\":[0,4,8]},\"id\":\"1953\",\"type\":\"MonthsTicker\"},{\"attributes\":{\"data_source\":{\"id\":\"1924\"},\"glyph\":{\"id\":\"1927\"},\"hover_glyph\":null,\"muted_glyph\":{\"id\":\"1929\"},\"nonselection_glyph\":{\"id\":\"1928\"},\"selection_glyph\":null,\"view\":{\"id\":\"1931\"}},\"id\":\"1930\",\"type\":\"GlyphRenderer\"},{\"attributes\":{\"bottom_units\":\"screen\",\"fill_alpha\":0.5,\"fill_color\":\"lightgrey\",\"left_units\":\"screen\",\"level\":\"overlay\",\"line_alpha\":1.0,\"line_color\":\"black\",\"line_dash\":[4,4],\"line_width\":2,\"right_units\":\"screen\",\"top_units\":\"screen\"},\"id\":\"1916\",\"type\":\"BoxAnnotation\"},{\"attributes\":{\"fill_alpha\":{\"value\":0.2},\"fill_color\":{\"value\":\"#1f77b3\"},\"line_alpha\":{\"value\":0.2},\"line_color\":{\"value\":\"#1f77b3\"},\"size\":{\"units\":\"screen\",\"value\":5.477225575051661},\"x\":{\"field\":\"index\"},\"y\":{\"field\":\"0\"}},\"id\":\"1929\",\"type\":\"Scatter\"},{\"attributes\":{\"days\":[1,15]},\"id\":\"1950\",\"type\":\"DaysTicker\"},{\"attributes\":{\"children\":[{\"id\":\"1890\"},{\"id\":\"1894\"},{\"id\":\"1976\"}],\"margin\":[0,0,0,0],\"name\":\"Row03514\",\"tags\":[\"embedded\"]},\"id\":\"1889\",\"type\":\"Row\"},{\"attributes\":{\"margin\":[5,5,5,5],\"name\":\"HSpacer03518\",\"sizing_mode\":\"stretch_width\"},\"id\":\"1890\",\"type\":\"Spacer\"},{\"attributes\":{\"margin\":[5,5,5,5],\"name\":\"HSpacer03519\",\"sizing_mode\":\"stretch_width\"},\"id\":\"1976\",\"type\":\"Spacer\"},{\"attributes\":{\"axis_label\":\"\",\"bounds\":\"auto\",\"formatter\":{\"id\":\"1935\"},\"major_label_orientation\":\"horizontal\",\"ticker\":{\"id\":\"1908\"}},\"id\":\"1907\",\"type\":\"LinearAxis\"},{\"attributes\":{},\"id\":\"1933\",\"type\":\"DatetimeTickFormatter\"},{\"attributes\":{},\"id\":\"1908\",\"type\":\"BasicTicker\"},{\"attributes\":{},\"id\":\"1935\",\"type\":\"BasicTickFormatter\"},{\"attributes\":{},\"id\":\"1899\",\"type\":\"LinearScale\"},{\"attributes\":{\"axis\":{\"id\":\"1907\"},\"dimension\":1,\"grid_line_color\":null,\"ticker\":null},\"id\":\"1910\",\"type\":\"Grid\"},{\"attributes\":{\"below\":[{\"id\":\"1903\"}],\"center\":[{\"id\":\"1906\"},{\"id\":\"1910\"}],\"left\":[{\"id\":\"1907\"}],\"margin\":[5,5,5,5],\"min_border_bottom\":10,\"min_border_left\":10,\"min_border_right\":10,\"min_border_top\":10,\"plot_height\":300,\"plot_width\":700,\"renderers\":[{\"id\":\"1930\"}],\"sizing_mode\":\"fixed\",\"title\":{\"id\":\"1895\"},\"toolbar\":{\"id\":\"1917\"},\"x_range\":{\"id\":\"1891\"},\"x_scale\":{\"id\":\"1899\"},\"y_range\":{\"id\":\"1892\"},\"y_scale\":{\"id\":\"1901\"}},\"id\":\"1894\",\"subtype\":\"Figure\",\"type\":\"Plot\"},{\"attributes\":{\"num_minor_ticks\":5,\"tickers\":[{\"id\":\"1944\"},{\"id\":\"1945\"},{\"id\":\"1946\"},{\"id\":\"1947\"},{\"id\":\"1948\"},{\"id\":\"1949\"},{\"id\":\"1950\"},{\"id\":\"1951\"},{\"id\":\"1952\"},{\"id\":\"1953\"},{\"id\":\"1954\"},{\"id\":\"1955\"}]},\"id\":\"1904\",\"type\":\"DatetimeTicker\"},{\"attributes\":{},\"id\":\"1942\",\"type\":\"UnionRenderers\"},{\"attributes\":{\"text\":\"0\",\"text_color\":{\"value\":\"black\"},\"text_font_size\":{\"value\":\"12pt\"}},\"id\":\"1895\",\"type\":\"Title\"},{\"attributes\":{},\"id\":\"1912\",\"type\":\"PanTool\"},{\"attributes\":{},\"id\":\"1915\",\"type\":\"ResetTool\"},{\"attributes\":{\"end\":109.05331897908242,\"reset_end\":109.05331897908242,\"reset_start\":87.65577979195982,\"start\":87.65577979195982,\"tags\":[[[\"0\",\"0\",null]]]},\"id\":\"1892\",\"type\":\"Range1d\"},{\"attributes\":{\"data\":{\"0\":{\"__ndarray__\":\"h4f9zUrRWkDbJhry74BaQFd01OGHOVpAUwttF/D4WUBreEbLVr5ZQFP8ll/hg1lA7k2n65NSWUDoOwI29SRZQLa4vQNe+lhAvPUSiZ3SWEAD4QKLPK1YQJiGAnk4ilhA4/ZURR9mWEAz2ZcE10ZYQI+KjKg0KVhAJznk4fwMWEC06WULJvJXQP+eNhs/1ldAKnN+VNW9V0C3MZQEfqZXQHU3GS0WkFdA/XuR0Zp6V0AsfBfG7mVXQJ2iLFwQUldArJjrvjQ9V0DPdurRySpXQK9KwSMHGVdA0qFMX9kHV0BgtcGkQPdWQF9tOaS+5VZA5qvJnDbWVkAtpSGVK8dWQA5t/vuPuFZAgWrmq2SqVkAjlD2xnZxWQISC2Qo8j1ZA4O7v6QuBVkDCxAgXZnRWQADXOW8XaFZAIEnSERdcVkA=\",\"dtype\":\"float64\",\"order\":\"little\",\"shape\":[40]},\"A_0\":{\"__ndarray__\":\"h4f9zUrRWkDbJhry74BaQFd01OGHOVpAUwttF/D4WUBreEbLVr5ZQFP8ll/hg1lA7k2n65NSWUDoOwI29SRZQLa4vQNe+lhAvPUSiZ3SWEAD4QKLPK1YQJiGAnk4ilhA4/ZURR9mWEAz2ZcE10ZYQI+KjKg0KVhAJznk4fwMWEC06WULJvJXQP+eNhs/1ldAKnN+VNW9V0C3MZQEfqZXQHU3GS0WkFdA/XuR0Zp6V0AsfBfG7mVXQJ2iLFwQUldArJjrvjQ9V0DPdurRySpXQK9KwSMHGVdA0qFMX9kHV0BgtcGkQPdWQF9tOaS+5VZA5qvJnDbWVkAtpSGVK8dWQA5t/vuPuFZAgWrmq2SqVkAjlD2xnZxWQISC2Qo8j1ZA4O7v6QuBVkDCxAgXZnRWQADXOW8XaFZAIEnSERdcVkA=\",\"dtype\":\"float64\",\"order\":\"little\",\"shape\":[40]},\"index\":{\"__ndarray__\":\"AAAAAKktekEAAAAAYwl7QQAAAAAd5XtBAAAAANfAfEEAAAAAkZx9QQAAAABLeH5BAAAAAAVUf0EAAACA3xeAQQAAAIC8hYBBAAAAgJnzgEEAAACAdmGBQQAAAIBTz4FBAAAAgDA9gkEAAACADauCQQAAAIDqGINBAAAAgMeGg0EAAACApPSDQQAAAICBYoRBAAAAgF7QhEEAAACAOz6FQQAAAIAYrIVBAAAAgPUZhkEAAACA0oeGQQAAAICv9YZBAAAAgIxjh0EAAACAadGHQQAAAIBGP4hBAAAAgCOtiEEAAACAABuJQQAAAIDdiIlBAAAAgLr2iUEAAACAl2SKQQAAAIB00opBAAAAgFFAi0EAAACALq6LQQAAAIALHIxBAAAAgOiJjEEAAACAxfeMQQAAAICiZY1BAAAAgH/TjUE=\",\"dtype\":\"float64\",\"order\":\"little\",\"shape\":[40]}},\"selected\":{\"id\":\"1925\"},\"selection_policy\":{\"id\":\"1942\"}},\"id\":\"1924\",\"type\":\"ColumnDataSource\"},{\"attributes\":{},\"id\":\"1901\",\"type\":\"LinearScale\"},{\"attributes\":{\"overlay\":{\"id\":\"1916\"}},\"id\":\"1914\",\"type\":\"BoxZoomTool\"},{\"attributes\":{\"end\":64054285.714285,\"reset_end\":64054285.714285,\"reset_start\":25945714.285715,\"start\":25945714.285715,\"tags\":[[[\"index\",\"index\",null]]]},\"id\":\"1891\",\"type\":\"Range1d\"},{\"attributes\":{\"callback\":null,\"formatters\":{\"@{index}\":\"datetime\"},\"renderers\":[{\"id\":\"1930\"}],\"tags\":[\"hv_created\"],\"tooltips\":[[\"index\",\"@{index}{%F %T}\"],[\"0\",\"@{A_0}\"]]},\"id\":\"1893\",\"type\":\"HoverTool\"},{\"attributes\":{},\"id\":\"1925\",\"type\":\"Selection\"},{\"attributes\":{\"mantissas\":[1,2,5],\"max_interval\":500.0,\"num_minor_ticks\":0},\"id\":\"1944\",\"type\":\"AdaptiveTicker\"},{\"attributes\":{\"base\":60,\"mantissas\":[1,2,5,10,15,20,30],\"max_interval\":1800000.0,\"min_interval\":1000.0,\"num_minor_ticks\":0},\"id\":\"1945\",\"type\":\"AdaptiveTicker\"},{\"attributes\":{\"days\":[1,2,3,4,5,6,7,8,9,10,11,12,13,14,15,16,17,18,19,20,21,22,23,24,25,26,27,28,29,30,31]},\"id\":\"1947\",\"type\":\"DaysTicker\"},{\"attributes\":{\"base\":24,\"mantissas\":[1,2,4,6,8,12],\"max_interval\":43200000.0,\"min_interval\":3600000.0,\"num_minor_ticks\":0},\"id\":\"1946\",\"type\":\"AdaptiveTicker\"},{\"attributes\":{\"active_drag\":\"auto\",\"active_inspect\":\"auto\",\"active_multi\":null,\"active_scroll\":\"auto\",\"active_tap\":\"auto\",\"tools\":[{\"id\":\"1893\"},{\"id\":\"1911\"},{\"id\":\"1912\"},{\"id\":\"1913\"},{\"id\":\"1914\"},{\"id\":\"1915\"}]},\"id\":\"1917\",\"type\":\"Toolbar\"},{\"attributes\":{\"months\":[0,1,2,3,4,5,6,7,8,9,10,11]},\"id\":\"1951\",\"type\":\"MonthsTicker\"},{\"attributes\":{\"months\":[0,2,4,6,8,10]},\"id\":\"1952\",\"type\":\"MonthsTicker\"},{\"attributes\":{\"axis\":{\"id\":\"1903\"},\"grid_line_color\":null,\"ticker\":null},\"id\":\"1906\",\"type\":\"Grid\"},{\"attributes\":{\"days\":[1,4,7,10,13,16,19,22,25,28]},\"id\":\"1948\",\"type\":\"DaysTicker\"},{\"attributes\":{},\"id\":\"1911\",\"type\":\"SaveTool\"},{\"attributes\":{\"axis_label\":\"\",\"bounds\":\"auto\",\"formatter\":{\"id\":\"1933\"},\"major_label_orientation\":\"horizontal\",\"ticker\":{\"id\":\"1904\"}},\"id\":\"1903\",\"type\":\"DatetimeAxis\"},{\"attributes\":{},\"id\":\"1913\",\"type\":\"WheelZoomTool\"}],\"root_ids\":[\"1889\"]},\"title\":\"Bokeh Application\",\"version\":\"2.2.3\"}};\n",
       "    var render_items = [{\"docid\":\"b398e6ec-79c2-453a-8058-c61cb4cf7e49\",\"root_ids\":[\"1889\"],\"roots\":{\"1889\":\"fdf9f84b-ad3a-4c2d-aa2f-5ae012108685\"}}];\n",
       "    root.Bokeh.embed.embed_items_notebook(docs_json, render_items);\n",
       "  }\n",
       "  if (root.Bokeh !== undefined && root.Bokeh.Panel !== undefined) {\n",
       "    embed_document(root);\n",
       "  } else {\n",
       "    var attempts = 0;\n",
       "    var timer = setInterval(function(root) {\n",
       "      if (root.Bokeh !== undefined && root.Bokeh.Panel !== undefined) {\n",
       "        clearInterval(timer);\n",
       "        embed_document(root);\n",
       "      } else if (document.readyState == \"complete\") {\n",
       "        attempts++;\n",
       "        if (attempts > 100) {\n",
       "          clearInterval(timer);\n",
       "          console.log(\"Bokeh: ERROR: Unable to run BokehJS code because BokehJS library is missing\");\n",
       "        }\n",
       "      }\n",
       "    }, 10, root)\n",
       "  }\n",
       "})(window);</script>"
      ],
      "text/plain": [
       ":Scatter   [index]   (0)"
      ]
     },
     "execution_count": 35,
     "metadata": {
      "application/vnd.holoviews_exec.v0+json": {
       "id": "1889"
      }
     },
     "output_type": "execute_result"
    }
   ],
   "source": [
    "g2 = model.resample_surface_cooling().hvplot.scatter()\n",
    "g2"
   ]
  },
  {
   "cell_type": "code",
   "execution_count": 36,
   "metadata": {},
   "outputs": [
    {
     "data": {},
     "metadata": {},
     "output_type": "display_data"
    },
    {
     "data": {
      "application/vnd.holoviews_exec.v0+json": "",
      "text/html": [
       "<div id='2078'>\n",
       "\n",
       "\n",
       "\n",
       "\n",
       "\n",
       "  <div class=\"bk-root\" id=\"83cece7a-e67e-4b94-9a91-c4d11a7905af\" data-root-id=\"2078\"></div>\n",
       "</div>\n",
       "<script type=\"application/javascript\">(function(root) {\n",
       "  function embed_document(root) {\n",
       "    var docs_json = {\"e3bc8e0f-7225-4a12-9a00-b06f0c951fcf\":{\"roots\":{\"references\":[{\"attributes\":{\"source\":{\"id\":\"2118\"}},\"id\":\"2125\",\"type\":\"CDSView\"},{\"attributes\":{\"end\":62859888.6516,\"reset_end\":62859888.6516,\"reset_start\":27075320.6652,\"start\":27075320.6652,\"tags\":[[[\"index\",\"index\",null]]]},\"id\":\"2080\",\"type\":\"Range1d\"},{\"attributes\":{\"data\":{\"0\":{\"__ndarray__\":\"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\",\"dtype\":\"float64\",\"order\":\"little\",\"shape\":[223]},\"A_0\":{\"__ndarray__\":\"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\",\"dtype\":\"float64\",\"order\":\"little\",\"shape\":[223]},\"index\":{\"__ndarray__\":\"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\",\"dtype\":\"float64\",\"order\":\"little\",\"shape\":[223]}},\"selected\":{\"id\":\"2119\"},\"selection_policy\":{\"id\":\"2132\"}},\"id\":\"2118\",\"type\":\"ColumnDataSource\"},{\"attributes\":{\"axis_label\":\"\",\"bounds\":\"auto\",\"formatter\":{\"id\":\"2115\"},\"major_label_orientation\":\"horizontal\",\"ticker\":{\"id\":\"2094\"}},\"id\":\"2093\",\"type\":\"DatetimeAxis\"},{\"attributes\":{\"line_alpha\":0.2,\"line_color\":\"#1f77b3\",\"line_width\":2,\"x\":{\"field\":\"index\"},\"y\":{\"field\":\"0\"}},\"id\":\"2123\",\"type\":\"Line\"},{\"attributes\":{\"callback\":null,\"formatters\":{\"@{index}\":\"datetime\"},\"renderers\":[{\"id\":\"2124\"},{\"id\":\"2154\"}],\"tags\":[\"hv_created\"],\"tooltips\":[[\"index\",\"@{index}{%F %T}\"],[\"0\",\"@{A_0}\"]]},\"id\":\"2082\",\"type\":\"HoverTool\"},{\"attributes\":{},\"id\":\"2117\",\"type\":\"BasicTickFormatter\"},{\"attributes\":{},\"id\":\"2119\",\"type\":\"Selection\"},{\"attributes\":{\"mantissas\":[1,2,5],\"max_interval\":500.0,\"num_minor_ticks\":0},\"id\":\"2134\",\"type\":\"AdaptiveTicker\"},{\"attributes\":{\"bottom_units\":\"screen\",\"fill_alpha\":0.5,\"fill_color\":\"lightgrey\",\"left_units\":\"screen\",\"level\":\"overlay\",\"line_alpha\":1.0,\"line_color\":\"black\",\"line_dash\":[4,4],\"line_width\":2,\"right_units\":\"screen\",\"top_units\":\"screen\"},\"id\":\"2106\",\"type\":\"BoxAnnotation\"},{\"attributes\":{\"base\":60,\"mantissas\":[1,2,5,10,15,20,30],\"max_interval\":1800000.0,\"min_interval\":1000.0,\"num_minor_ticks\":0},\"id\":\"2135\",\"type\":\"AdaptiveTicker\"},{\"attributes\":{\"days\":[1,2,3,4,5,6,7,8,9,10,11,12,13,14,15,16,17,18,19,20,21,22,23,24,25,26,27,28,29,30,31]},\"id\":\"2137\",\"type\":\"DaysTicker\"},{\"attributes\":{\"click_policy\":\"mute\",\"items\":[{\"id\":\"2147\"}],\"location\":[0,0]},\"id\":\"2146\",\"type\":\"Legend\"},{\"attributes\":{\"base\":24,\"mantissas\":[1,2,4,6,8,12],\"max_interval\":43200000.0,\"min_interval\":3600000.0,\"num_minor_ticks\":0},\"id\":\"2136\",\"type\":\"AdaptiveTicker\"},{\"attributes\":{\"line_color\":\"#1f77b3\",\"line_width\":2,\"x\":{\"field\":\"index\"},\"y\":{\"field\":\"0\"}},\"id\":\"2121\",\"type\":\"Line\"},{\"attributes\":{\"margin\":[5,5,5,5],\"name\":\"HSpacer03627\",\"sizing_mode\":\"stretch_width\"},\"id\":\"2376\",\"type\":\"Spacer\"},{\"attributes\":{\"end\":109.73629460520614,\"reset_end\":109.73629460520614,\"reset_start\":87.52045005737669,\"start\":87.52045005737669,\"tags\":[[[\"0\",\"0\",null]]]},\"id\":\"2081\",\"type\":\"Range1d\"},{\"attributes\":{\"label\":{\"value\":\"0\"},\"renderers\":[{\"id\":\"2124\"},{\"id\":\"2154\"}]},\"id\":\"2147\",\"type\":\"LegendItem\"},{\"attributes\":{\"months\":[0,1,2,3,4,5,6,7,8,9,10,11]},\"id\":\"2141\",\"type\":\"MonthsTicker\"},{\"attributes\":{\"text\":\"0\",\"text_color\":{\"value\":\"black\"},\"text_font_size\":{\"value\":\"12pt\"}},\"id\":\"2085\",\"type\":\"Title\"},{\"attributes\":{\"months\":[0,2,4,6,8,10]},\"id\":\"2142\",\"type\":\"MonthsTicker\"},{\"attributes\":{\"days\":[1,4,7,10,13,16,19,22,25,28]},\"id\":\"2138\",\"type\":\"DaysTicker\"},{\"attributes\":{\"data_source\":{\"id\":\"2118\"},\"glyph\":{\"id\":\"2121\"},\"hover_glyph\":null,\"muted_glyph\":{\"id\":\"2123\"},\"nonselection_glyph\":{\"id\":\"2122\"},\"selection_glyph\":null,\"view\":{\"id\":\"2125\"}},\"id\":\"2124\",\"type\":\"GlyphRenderer\"},{\"attributes\":{\"source\":{\"id\":\"2148\"}},\"id\":\"2155\",\"type\":\"CDSView\"},{\"attributes\":{\"days\":[1,15]},\"id\":\"2140\",\"type\":\"DaysTicker\"},{\"attributes\":{\"line_alpha\":0.1,\"line_color\":\"#1f77b3\",\"line_width\":2,\"x\":{\"field\":\"index\"},\"y\":{\"field\":\"0\"}},\"id\":\"2122\",\"type\":\"Line\"},{\"attributes\":{\"fill_color\":{\"value\":\"#1f77b3\"},\"line_color\":{\"value\":\"#1f77b3\"},\"size\":{\"units\":\"screen\",\"value\":5.477225575051661},\"x\":{\"field\":\"index\"},\"y\":{\"field\":\"0\"}},\"id\":\"2151\",\"type\":\"Scatter\"},{\"attributes\":{\"months\":[0,6]},\"id\":\"2144\",\"type\":\"MonthsTicker\"},{\"attributes\":{\"data\":{\"0\":{\"__ndarray__\":\"h4f9zUrRWkDbJhry74BaQFd01OGHOVpAUwttF/D4WUBreEbLVr5ZQFP8ll/hg1lA7k2n65NSWUDoOwI29SRZQLa4vQNe+lhAvPUSiZ3SWEAD4QKLPK1YQJiGAnk4ilhA4/ZURR9mWEAz2ZcE10ZYQI+KjKg0KVhAJznk4fwMWEC06WULJvJXQP+eNhs/1ldAKnN+VNW9V0C3MZQEfqZXQHU3GS0WkFdA/XuR0Zp6V0AsfBfG7mVXQJ2iLFwQUldArJjrvjQ9V0DPdurRySpXQK9KwSMHGVdA0qFMX9kHV0BgtcGkQPdWQF9tOaS+5VZA5qvJnDbWVkAtpSGVK8dWQA5t/vuPuFZAgWrmq2SqVkAjlD2xnZxWQISC2Qo8j1ZA4O7v6QuBVkDCxAgXZnRWQADXOW8XaFZAIEnSERdcVkA=\",\"dtype\":\"float64\",\"order\":\"little\",\"shape\":[40]},\"A_0\":{\"__ndarray__\":\"h4f9zUrRWkDbJhry74BaQFd01OGHOVpAUwttF/D4WUBreEbLVr5ZQFP8ll/hg1lA7k2n65NSWUDoOwI29SRZQLa4vQNe+lhAvPUSiZ3SWEAD4QKLPK1YQJiGAnk4ilhA4/ZURR9mWEAz2ZcE10ZYQI+KjKg0KVhAJznk4fwMWEC06WULJvJXQP+eNhs/1ldAKnN+VNW9V0C3MZQEfqZXQHU3GS0WkFdA/XuR0Zp6V0AsfBfG7mVXQJ2iLFwQUldArJjrvjQ9V0DPdurRySpXQK9KwSMHGVdA0qFMX9kHV0BgtcGkQPdWQF9tOaS+5VZA5qvJnDbWVkAtpSGVK8dWQA5t/vuPuFZAgWrmq2SqVkAjlD2xnZxWQISC2Qo8j1ZA4O7v6QuBVkDCxAgXZnRWQADXOW8XaFZAIEnSERdcVkA=\",\"dtype\":\"float64\",\"order\":\"little\",\"shape\":[40]},\"index\":{\"__ndarray__\":\"AAAAAKktekEAAAAAYwl7QQAAAAAd5XtBAAAAANfAfEEAAAAAkZx9QQAAAABLeH5BAAAAAAVUf0EAAACA3xeAQQAAAIC8hYBBAAAAgJnzgEEAAACAdmGBQQAAAIBTz4FBAAAAgDA9gkEAAACADauCQQAAAIDqGINBAAAAgMeGg0EAAACApPSDQQAAAICBYoRBAAAAgF7QhEEAAACAOz6FQQAAAIAYrIVBAAAAgPUZhkEAAACA0oeGQQAAAICv9YZBAAAAgIxjh0EAAACAadGHQQAAAIBGP4hBAAAAgCOtiEEAAACAABuJQQAAAIDdiIlBAAAAgLr2iUEAAACAl2SKQQAAAIB00opBAAAAgFFAi0EAAACALq6LQQAAAIALHIxBAAAAgOiJjEEAAACAxfeMQQAAAICiZY1BAAAAgH/TjUE=\",\"dtype\":\"float64\",\"order\":\"little\",\"shape\":[40]}},\"selected\":{\"id\":\"2149\"},\"selection_policy\":{\"id\":\"2164\"}},\"id\":\"2148\",\"type\":\"ColumnDataSource\"},{\"attributes\":{\"num_minor_ticks\":5,\"tickers\":[{\"id\":\"2134\"},{\"id\":\"2135\"},{\"id\":\"2136\"},{\"id\":\"2137\"},{\"id\":\"2138\"},{\"id\":\"2139\"},{\"id\":\"2140\"},{\"id\":\"2141\"},{\"id\":\"2142\"},{\"id\":\"2143\"},{\"id\":\"2144\"},{\"id\":\"2145\"}]},\"id\":\"2094\",\"type\":\"DatetimeTicker\"},{\"attributes\":{\"days\":[1,8,15,22]},\"id\":\"2139\",\"type\":\"DaysTicker\"},{\"attributes\":{},\"id\":\"2089\",\"type\":\"LinearScale\"},{\"attributes\":{},\"id\":\"2145\",\"type\":\"YearsTicker\"},{\"attributes\":{},\"id\":\"2149\",\"type\":\"Selection\"},{\"attributes\":{\"below\":[{\"id\":\"2093\"}],\"center\":[{\"id\":\"2096\"},{\"id\":\"2100\"}],\"left\":[{\"id\":\"2097\"}],\"margin\":[5,5,5,5],\"min_border_bottom\":10,\"min_border_left\":10,\"min_border_right\":10,\"min_border_top\":10,\"plot_height\":300,\"plot_width\":700,\"renderers\":[{\"id\":\"2124\"},{\"id\":\"2154\"}],\"right\":[{\"id\":\"2146\"}],\"sizing_mode\":\"fixed\",\"title\":{\"id\":\"2085\"},\"toolbar\":{\"id\":\"2107\"},\"x_range\":{\"id\":\"2080\"},\"x_scale\":{\"id\":\"2089\"},\"y_range\":{\"id\":\"2081\"},\"y_scale\":{\"id\":\"2091\"}},\"id\":\"2084\",\"subtype\":\"Figure\",\"type\":\"Plot\"},{\"attributes\":{\"months\":[0,4,8]},\"id\":\"2143\",\"type\":\"MonthsTicker\"},{\"attributes\":{\"fill_alpha\":{\"value\":0.1},\"fill_color\":{\"value\":\"#1f77b3\"},\"line_alpha\":{\"value\":0.1},\"line_color\":{\"value\":\"#1f77b3\"},\"size\":{\"units\":\"screen\",\"value\":5.477225575051661},\"x\":{\"field\":\"index\"},\"y\":{\"field\":\"0\"}},\"id\":\"2152\",\"type\":\"Scatter\"},{\"attributes\":{},\"id\":\"2091\",\"type\":\"LinearScale\"},{\"attributes\":{\"axis_label\":\"\",\"bounds\":\"auto\",\"formatter\":{\"id\":\"2117\"},\"major_label_orientation\":\"horizontal\",\"ticker\":{\"id\":\"2098\"}},\"id\":\"2097\",\"type\":\"LinearAxis\"},{\"attributes\":{\"data_source\":{\"id\":\"2148\"},\"glyph\":{\"id\":\"2151\"},\"hover_glyph\":null,\"muted_glyph\":{\"id\":\"2153\"},\"nonselection_glyph\":{\"id\":\"2152\"},\"selection_glyph\":null,\"view\":{\"id\":\"2155\"}},\"id\":\"2154\",\"type\":\"GlyphRenderer\"},{\"attributes\":{},\"id\":\"2102\",\"type\":\"PanTool\"},{\"attributes\":{\"axis\":{\"id\":\"2097\"},\"dimension\":1,\"grid_line_color\":null,\"ticker\":null},\"id\":\"2100\",\"type\":\"Grid\"},{\"attributes\":{\"fill_alpha\":{\"value\":0.2},\"fill_color\":{\"value\":\"#1f77b3\"},\"line_alpha\":{\"value\":0.2},\"line_color\":{\"value\":\"#1f77b3\"},\"size\":{\"units\":\"screen\",\"value\":5.477225575051661},\"x\":{\"field\":\"index\"},\"y\":{\"field\":\"0\"}},\"id\":\"2153\",\"type\":\"Scatter\"},{\"attributes\":{\"children\":[{\"id\":\"2079\"},{\"id\":\"2084\"},{\"id\":\"2376\"}],\"margin\":[0,0,0,0],\"name\":\"Row03622\",\"tags\":[\"embedded\"]},\"id\":\"2078\",\"type\":\"Row\"},{\"attributes\":{\"axis\":{\"id\":\"2093\"},\"grid_line_color\":null,\"ticker\":null},\"id\":\"2096\",\"type\":\"Grid\"},{\"attributes\":{},\"id\":\"2103\",\"type\":\"WheelZoomTool\"},{\"attributes\":{},\"id\":\"2098\",\"type\":\"BasicTicker\"},{\"attributes\":{},\"id\":\"2101\",\"type\":\"SaveTool\"},{\"attributes\":{\"margin\":[5,5,5,5],\"name\":\"HSpacer03626\",\"sizing_mode\":\"stretch_width\"},\"id\":\"2079\",\"type\":\"Spacer\"},{\"attributes\":{},\"id\":\"2164\",\"type\":\"UnionRenderers\"},{\"attributes\":{\"overlay\":{\"id\":\"2106\"}},\"id\":\"2104\",\"type\":\"BoxZoomTool\"},{\"attributes\":{},\"id\":\"2105\",\"type\":\"ResetTool\"},{\"attributes\":{\"active_drag\":\"auto\",\"active_inspect\":\"auto\",\"active_multi\":null,\"active_scroll\":\"auto\",\"active_tap\":\"auto\",\"tools\":[{\"id\":\"2082\"},{\"id\":\"2101\"},{\"id\":\"2102\"},{\"id\":\"2103\"},{\"id\":\"2104\"},{\"id\":\"2105\"}]},\"id\":\"2107\",\"type\":\"Toolbar\"},{\"attributes\":{},\"id\":\"2132\",\"type\":\"UnionRenderers\"},{\"attributes\":{},\"id\":\"2115\",\"type\":\"DatetimeTickFormatter\"}],\"root_ids\":[\"2078\"]},\"title\":\"Bokeh Application\",\"version\":\"2.2.3\"}};\n",
       "    var render_items = [{\"docid\":\"e3bc8e0f-7225-4a12-9a00-b06f0c951fcf\",\"root_ids\":[\"2078\"],\"roots\":{\"2078\":\"83cece7a-e67e-4b94-9a91-c4d11a7905af\"}}];\n",
       "    root.Bokeh.embed.embed_items_notebook(docs_json, render_items);\n",
       "  }\n",
       "  if (root.Bokeh !== undefined && root.Bokeh.Panel !== undefined) {\n",
       "    embed_document(root);\n",
       "  } else {\n",
       "    var attempts = 0;\n",
       "    var timer = setInterval(function(root) {\n",
       "      if (root.Bokeh !== undefined && root.Bokeh.Panel !== undefined) {\n",
       "        clearInterval(timer);\n",
       "        embed_document(root);\n",
       "      } else if (document.readyState == \"complete\") {\n",
       "        attempts++;\n",
       "        if (attempts > 100) {\n",
       "          clearInterval(timer);\n",
       "          console.log(\"Bokeh: ERROR: Unable to run BokehJS code because BokehJS library is missing\");\n",
       "        }\n",
       "      }\n",
       "    }, 10, root)\n",
       "  }\n",
       "})(window);</script>"
      ],
      "text/plain": [
       ":Overlay\n",
       "   .Curve.A_0   :Curve   [index]   (0)\n",
       "   .Scatter.A_0 :Scatter   [index]   (0)"
      ]
     },
     "execution_count": 36,
     "metadata": {
      "application/vnd.holoviews_exec.v0+json": {
       "id": "2078"
      }
     },
     "output_type": "execute_result"
    }
   ],
   "source": [
    "g1 * g2"
   ]
  },
  {
   "cell_type": "code",
   "execution_count": 121,
   "metadata": {},
   "outputs": [
    {
     "data": {},
     "metadata": {},
     "output_type": "display_data"
    },
    {
     "data": {
      "application/vnd.holoviews_exec.v0+json": "",
      "text/html": [
       "<div id='5309'>\n",
       "\n",
       "\n",
       "\n",
       "\n",
       "\n",
       "  <div class=\"bk-root\" id=\"aef4787e-3a35-4871-a9af-8ca543795340\" data-root-id=\"5309\"></div>\n",
       "</div>\n",
       "<script type=\"application/javascript\">(function(root) {\n",
       "  function embed_document(root) {\n",
       "    var docs_json = {\"593cf830-6a80-4d41-af82-a37163dc7372\":{\"roots\":{\"references\":[{\"attributes\":{},\"id\":\"5375\",\"type\":\"YearsTicker\"},{\"attributes\":{\"end\":64396741.022382,\"reset_end\":64396741.022382,\"reset_start\":25463147.629218,\"start\":25463147.629218,\"tags\":[[[\"index\",\"index\",null]]]},\"id\":\"5311\",\"type\":\"Range1d\"},{\"attributes\":{\"data\":{\"1.0\":{\"__ndarray__\":\"h4f9zUrRWkDbJhry74BaQFd01OGHOVpAUwttF/D4WUBreEbLVr5ZQFP8ll/hg1lA7k2n65NSWUDoOwI29SRZQLa4vQNe+lhAvPUSiZ3SWEAD4QKLPK1YQJiGAnk4ilhA4/ZURR9mWEAz2ZcE10ZYQI+KjKg0KVhAJznk4fwMWEC06WULJvJXQP+eNhs/1ldAKnN+VNW9V0C3MZQEfqZXQHU3GS0WkFdA/XuR0Zp6V0AsfBfG7mVXQJ2iLFwQUldArJjrvjQ9V0DPdurRySpXQK9KwSMHGVdA0qFMX9kHV0BgtcGkQPdWQF9tOaS+5VZA5qvJnDbWVkAtpSGVK8dWQA5t/vuPuFZAgWrmq2SqVkAjlD2xnZxWQISC2Qo8j1ZA4O7v6QuBVkDCxAgXZnRWQADXOW8XaFZAIEnSERdcVkA=\",\"dtype\":\"float64\",\"order\":\"little\",\"shape\":[40]},\"A_1_full_stop_0\":{\"__ndarray__\":\"h4f9zUrRWkDbJhry74BaQFd01OGHOVpAUwttF/D4WUBreEbLVr5ZQFP8ll/hg1lA7k2n65NSWUDoOwI29SRZQLa4vQNe+lhAvPUSiZ3SWEAD4QKLPK1YQJiGAnk4ilhA4/ZURR9mWEAz2ZcE10ZYQI+KjKg0KVhAJznk4fwMWEC06WULJvJXQP+eNhs/1ldAKnN+VNW9V0C3MZQEfqZXQHU3GS0WkFdA/XuR0Zp6V0AsfBfG7mVXQJ2iLFwQUldArJjrvjQ9V0DPdurRySpXQK9KwSMHGVdA0qFMX9kHV0BgtcGkQPdWQF9tOaS+5VZA5qvJnDbWVkAtpSGVK8dWQA5t/vuPuFZAgWrmq2SqVkAjlD2xnZxWQISC2Qo8j1ZA4O7v6QuBVkDCxAgXZnRWQADXOW8XaFZAIEnSERdcVkA=\",\"dtype\":\"float64\",\"order\":\"little\",\"shape\":[40]},\"index\":{\"__ndarray__\":\"AAAAAMy/eUEAAAAAhpt6QQAAAABAd3tBAAAAAPpSfEEAAAAAtC59QQAAAABuCn5BAAAAACjmfkEAAAAA4sF/QQAAAADOToBBAAAAAKu8gEEAAAAAiCqBQQAAAABlmIFBAAAAAEIGgkEAAAAAH3SCQQAAAAD84YJBAAAAANlPg0EAAAAAtr2DQQAAAACTK4RBAAAAAHCZhEEAAAAATQeFQQAAAAAqdYVBAAAAAAfjhUEAAAAA5FCGQQAAAADBvoZBAAAAAJ4sh0EAAAAAe5qHQQAAAABYCIhBAAAAADV2iEEAAAAAEuSIQQAAAADvUYlBAAAAAMy/iUEAAAAAqS2KQQAAAACGm4pBAAAAAGMJi0EAAAAAQHeLQQAAAAAd5YtBAAAAAPpSjEEAAAAA18CMQQAAAAC0Lo1BAAAAAJGcjUE=\",\"dtype\":\"float64\",\"order\":\"little\",\"shape\":[40]}},\"selected\":{\"id\":\"5351\"},\"selection_policy\":{\"id\":\"5377\"}},\"id\":\"5350\",\"type\":\"ColumnDataSource\"},{\"attributes\":{\"text\":\"\",\"text_color\":{\"value\":\"black\"},\"text_font_size\":{\"value\":\"12pt\"}},\"id\":\"5316\",\"type\":\"Title\"},{\"attributes\":{},\"id\":\"5348\",\"type\":\"BasicTickFormatter\"},{\"attributes\":{\"end\":109.73629460520614,\"reset_end\":109.73629460520614,\"reset_start\":87.52045005737669,\"start\":87.52045005737669,\"tags\":[[[\"1.0\",\"1.0\",null]]]},\"id\":\"5312\",\"type\":\"Range1d\"},{\"attributes\":{\"data\":{\"0\":{\"__ndarray__\":\"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\",\"dtype\":\"float64\",\"order\":\"little\",\"shape\":[223]},\"A_0\":{\"__ndarray__\":\"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\",\"dtype\":\"float64\",\"order\":\"little\",\"shape\":[223]},\"index\":{\"__ndarray__\":\"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\",\"dtype\":\"float64\",\"order\":\"little\",\"shape\":[223]}},\"selected\":{\"id\":\"5381\"},\"selection_policy\":{\"id\":\"5409\"}},\"id\":\"5380\",\"type\":\"ColumnDataSource\"},{\"attributes\":{\"bottom_units\":\"screen\",\"fill_alpha\":0.5,\"fill_color\":\"lightgrey\",\"left_units\":\"screen\",\"level\":\"overlay\",\"line_alpha\":1.0,\"line_color\":\"black\",\"line_dash\":[4,4],\"line_width\":2,\"right_units\":\"screen\",\"top_units\":\"screen\"},\"id\":\"5337\",\"type\":\"BoxAnnotation\"},{\"attributes\":{},\"id\":\"5377\",\"type\":\"UnionRenderers\"},{\"attributes\":{},\"id\":\"5381\",\"type\":\"Selection\"},{\"attributes\":{\"axis_label\":\"\",\"bounds\":\"auto\",\"formatter\":{\"id\":\"5346\"},\"major_label_orientation\":\"horizontal\",\"ticker\":{\"id\":\"5325\"}},\"id\":\"5324\",\"type\":\"DatetimeAxis\"},{\"attributes\":{\"mantissas\":[1,2,5],\"max_interval\":500.0,\"num_minor_ticks\":0},\"id\":\"5364\",\"type\":\"AdaptiveTicker\"},{\"attributes\":{\"source\":{\"id\":\"5350\"}},\"id\":\"5357\",\"type\":\"CDSView\"},{\"attributes\":{\"callback\":null,\"formatters\":{\"@{index}\":\"datetime\"},\"renderers\":[{\"id\":\"5356\"}],\"tags\":[\"hv_created\"],\"tooltips\":[[\"index\",\"@{index}{%F %T}\"],[\"1.0\",\"@{A_1_full_stop_0}\"]]},\"id\":\"5313\",\"type\":\"HoverTool\"},{\"attributes\":{\"base\":60,\"mantissas\":[1,2,5,10,15,20,30],\"max_interval\":1800000.0,\"min_interval\":1000.0,\"num_minor_ticks\":0},\"id\":\"5365\",\"type\":\"AdaptiveTicker\"},{\"attributes\":{\"days\":[1,2,3,4,5,6,7,8,9,10,11,12,13,14,15,16,17,18,19,20,21,22,23,24,25,26,27,28,29,30,31]},\"id\":\"5367\",\"type\":\"DaysTicker\"},{\"attributes\":{\"source\":{\"id\":\"5380\"}},\"id\":\"5387\",\"type\":\"CDSView\"},{\"attributes\":{\"margin\":[5,5,5,5],\"name\":\"HSpacer06170\",\"sizing_mode\":\"stretch_width\"},\"id\":\"5609\",\"type\":\"Spacer\"},{\"attributes\":{\"num_minor_ticks\":5,\"tickers\":[{\"id\":\"5364\"},{\"id\":\"5365\"},{\"id\":\"5366\"},{\"id\":\"5367\"},{\"id\":\"5368\"},{\"id\":\"5369\"},{\"id\":\"5370\"},{\"id\":\"5371\"},{\"id\":\"5372\"},{\"id\":\"5373\"},{\"id\":\"5374\"},{\"id\":\"5375\"}]},\"id\":\"5325\",\"type\":\"DatetimeTicker\"},{\"attributes\":{\"base\":24,\"mantissas\":[1,2,4,6,8,12],\"max_interval\":43200000.0,\"min_interval\":3600000.0,\"num_minor_ticks\":0},\"id\":\"5366\",\"type\":\"AdaptiveTicker\"},{\"attributes\":{\"click_policy\":\"mute\",\"items\":[{\"id\":\"5379\"},{\"id\":\"5410\"}],\"location\":[0,0]},\"id\":\"5378\",\"type\":\"Legend\"},{\"attributes\":{\"margin\":[5,5,5,5],\"name\":\"HSpacer06169\",\"sizing_mode\":\"stretch_width\"},\"id\":\"5310\",\"type\":\"Spacer\"},{\"attributes\":{\"below\":[{\"id\":\"5324\"}],\"center\":[{\"id\":\"5327\"},{\"id\":\"5331\"}],\"left\":[{\"id\":\"5328\"}],\"margin\":[5,5,5,5],\"min_border_bottom\":10,\"min_border_left\":10,\"min_border_right\":10,\"min_border_top\":10,\"plot_height\":300,\"plot_width\":700,\"renderers\":[{\"id\":\"5356\"},{\"id\":\"5386\"}],\"right\":[{\"id\":\"5378\"}],\"sizing_mode\":\"fixed\",\"title\":{\"id\":\"5316\"},\"toolbar\":{\"id\":\"5338\"},\"x_range\":{\"id\":\"5311\"},\"x_scale\":{\"id\":\"5320\"},\"y_range\":{\"id\":\"5312\"},\"y_scale\":{\"id\":\"5322\"}},\"id\":\"5315\",\"subtype\":\"Figure\",\"type\":\"Plot\"},{\"attributes\":{\"callback\":null,\"formatters\":{\"@{index}\":\"datetime\"},\"renderers\":[{\"id\":\"5386\"}],\"tags\":[\"hv_created\"],\"tooltips\":[[\"index\",\"@{index}{%F %T}\"],[\"0\",\"@{A_0}\"]]},\"id\":\"5314\",\"type\":\"HoverTool\"},{\"attributes\":{},\"id\":\"5351\",\"type\":\"Selection\"},{\"attributes\":{},\"id\":\"5320\",\"type\":\"LinearScale\"},{\"attributes\":{\"data_source\":{\"id\":\"5350\"},\"glyph\":{\"id\":\"5353\"},\"hover_glyph\":null,\"muted_glyph\":{\"id\":\"5355\"},\"nonselection_glyph\":{\"id\":\"5354\"},\"selection_glyph\":null,\"view\":{\"id\":\"5357\"}},\"id\":\"5356\",\"type\":\"GlyphRenderer\"},{\"attributes\":{\"fill_color\":{\"value\":\"#ff7e0e\"},\"line_color\":{\"value\":\"#ff7e0e\"},\"size\":{\"units\":\"screen\",\"value\":5.477225575051661},\"x\":{\"field\":\"index\"},\"y\":{\"field\":\"0\"}},\"id\":\"5383\",\"type\":\"Scatter\"},{\"attributes\":{},\"id\":\"5322\",\"type\":\"LinearScale\"},{\"attributes\":{\"days\":[1,4,7,10,13,16,19,22,25,28]},\"id\":\"5368\",\"type\":\"DaysTicker\"},{\"attributes\":{\"days\":[1,15]},\"id\":\"5370\",\"type\":\"DaysTicker\"},{\"attributes\":{\"axis_label\":\"\",\"bounds\":\"auto\",\"formatter\":{\"id\":\"5348\"},\"major_label_orientation\":\"horizontal\",\"ticker\":{\"id\":\"5329\"}},\"id\":\"5328\",\"type\":\"LinearAxis\"},{\"attributes\":{\"fill_color\":{\"value\":\"#1f77b3\"},\"line_color\":{\"value\":\"#1f77b3\"},\"size\":{\"units\":\"screen\",\"value\":5.477225575051661},\"x\":{\"field\":\"index\"},\"y\":{\"field\":\"1.0\"}},\"id\":\"5353\",\"type\":\"Scatter\"},{\"attributes\":{\"fill_alpha\":{\"value\":0.1},\"fill_color\":{\"value\":\"#ff7e0e\"},\"line_alpha\":{\"value\":0.1},\"line_color\":{\"value\":\"#ff7e0e\"},\"size\":{\"units\":\"screen\",\"value\":5.477225575051661},\"x\":{\"field\":\"index\"},\"y\":{\"field\":\"0\"}},\"id\":\"5384\",\"type\":\"Scatter\"},{\"attributes\":{},\"id\":\"5333\",\"type\":\"PanTool\"},{\"attributes\":{\"days\":[1,8,15,22]},\"id\":\"5369\",\"type\":\"DaysTicker\"},{\"attributes\":{\"axis\":{\"id\":\"5328\"},\"dimension\":1,\"grid_line_color\":null,\"ticker\":null},\"id\":\"5331\",\"type\":\"Grid\"},{\"attributes\":{\"label\":{\"value\":\"1.0\"},\"renderers\":[{\"id\":\"5356\"}]},\"id\":\"5379\",\"type\":\"LegendItem\"},{\"attributes\":{\"data_source\":{\"id\":\"5380\"},\"glyph\":{\"id\":\"5383\"},\"hover_glyph\":null,\"muted_glyph\":{\"id\":\"5385\"},\"nonselection_glyph\":{\"id\":\"5384\"},\"selection_glyph\":null,\"view\":{\"id\":\"5387\"}},\"id\":\"5386\",\"type\":\"GlyphRenderer\"},{\"attributes\":{\"axis\":{\"id\":\"5324\"},\"grid_line_color\":null,\"ticker\":null},\"id\":\"5327\",\"type\":\"Grid\"},{\"attributes\":{\"fill_alpha\":{\"value\":0.1},\"fill_color\":{\"value\":\"#1f77b3\"},\"line_alpha\":{\"value\":0.1},\"line_color\":{\"value\":\"#1f77b3\"},\"size\":{\"units\":\"screen\",\"value\":5.477225575051661},\"x\":{\"field\":\"index\"},\"y\":{\"field\":\"1.0\"}},\"id\":\"5354\",\"type\":\"Scatter\"},{\"attributes\":{},\"id\":\"5334\",\"type\":\"WheelZoomTool\"},{\"attributes\":{\"fill_alpha\":{\"value\":0.2},\"fill_color\":{\"value\":\"#ff7e0e\"},\"line_alpha\":{\"value\":0.2},\"line_color\":{\"value\":\"#ff7e0e\"},\"size\":{\"units\":\"screen\",\"value\":5.477225575051661},\"x\":{\"field\":\"index\"},\"y\":{\"field\":\"0\"}},\"id\":\"5385\",\"type\":\"Scatter\"},{\"attributes\":{},\"id\":\"5346\",\"type\":\"DatetimeTickFormatter\"},{\"attributes\":{\"fill_alpha\":{\"value\":0.2},\"fill_color\":{\"value\":\"#1f77b3\"},\"line_alpha\":{\"value\":0.2},\"line_color\":{\"value\":\"#1f77b3\"},\"size\":{\"units\":\"screen\",\"value\":5.477225575051661},\"x\":{\"field\":\"index\"},\"y\":{\"field\":\"1.0\"}},\"id\":\"5355\",\"type\":\"Scatter\"},{\"attributes\":{\"children\":[{\"id\":\"5310\"},{\"id\":\"5315\"},{\"id\":\"5609\"}],\"margin\":[0,0,0,0],\"name\":\"Row06165\",\"tags\":[\"embedded\"]},\"id\":\"5309\",\"type\":\"Row\"},{\"attributes\":{},\"id\":\"5329\",\"type\":\"BasicTicker\"},{\"attributes\":{\"label\":{\"value\":\"0\"},\"renderers\":[{\"id\":\"5386\"}]},\"id\":\"5410\",\"type\":\"LegendItem\"},{\"attributes\":{},\"id\":\"5332\",\"type\":\"SaveTool\"},{\"attributes\":{},\"id\":\"5409\",\"type\":\"UnionRenderers\"},{\"attributes\":{\"overlay\":{\"id\":\"5337\"}},\"id\":\"5335\",\"type\":\"BoxZoomTool\"},{\"attributes\":{},\"id\":\"5336\",\"type\":\"ResetTool\"},{\"attributes\":{\"active_drag\":\"auto\",\"active_inspect\":\"auto\",\"active_multi\":null,\"active_scroll\":\"auto\",\"active_tap\":\"auto\",\"tools\":[{\"id\":\"5313\"},{\"id\":\"5314\"},{\"id\":\"5332\"},{\"id\":\"5333\"},{\"id\":\"5334\"},{\"id\":\"5335\"},{\"id\":\"5336\"}]},\"id\":\"5338\",\"type\":\"Toolbar\"},{\"attributes\":{\"months\":[0,2,4,6,8,10]},\"id\":\"5372\",\"type\":\"MonthsTicker\"},{\"attributes\":{\"months\":[0,4,8]},\"id\":\"5373\",\"type\":\"MonthsTicker\"},{\"attributes\":{\"months\":[0,6]},\"id\":\"5374\",\"type\":\"MonthsTicker\"},{\"attributes\":{\"months\":[0,1,2,3,4,5,6,7,8,9,10,11]},\"id\":\"5371\",\"type\":\"MonthsTicker\"}],\"root_ids\":[\"5309\"]},\"title\":\"Bokeh Application\",\"version\":\"2.2.3\"}};\n",
       "    var render_items = [{\"docid\":\"593cf830-6a80-4d41-af82-a37163dc7372\",\"root_ids\":[\"5309\"],\"roots\":{\"5309\":\"aef4787e-3a35-4871-a9af-8ca543795340\"}}];\n",
       "    root.Bokeh.embed.embed_items_notebook(docs_json, render_items);\n",
       "  }\n",
       "  if (root.Bokeh !== undefined && root.Bokeh.Panel !== undefined) {\n",
       "    embed_document(root);\n",
       "  } else {\n",
       "    var attempts = 0;\n",
       "    var timer = setInterval(function(root) {\n",
       "      if (root.Bokeh !== undefined && root.Bokeh.Panel !== undefined) {\n",
       "        clearInterval(timer);\n",
       "        embed_document(root);\n",
       "      } else if (document.readyState == \"complete\") {\n",
       "        attempts++;\n",
       "        if (attempts > 100) {\n",
       "          clearInterval(timer);\n",
       "          console.log(\"Bokeh: ERROR: Unable to run BokehJS code because BokehJS library is missing\");\n",
       "        }\n",
       "      }\n",
       "    }, 10, root)\n",
       "  }\n",
       "})(window);</script>"
      ],
      "text/plain": [
       ":Overlay\n",
       "   .Scatter.A_1_full_stop_0 :Scatter   [index]   (1.0)\n",
       "   .Scatter.A_0             :Scatter   [index]   (0)"
      ]
     },
     "execution_count": 121,
     "metadata": {
      "application/vnd.holoviews_exec.v0+json": {
       "id": "5309"
      }
     },
     "output_type": "execute_result"
    }
   ],
   "source": [
    "mdf[1.0].hvplot.scatter() * s.hvplot.scatter()"
   ]
  },
  {
   "cell_type": "code",
   "execution_count": 37,
   "metadata": {},
   "outputs": [
    {
     "data": {
      "text/html": [
       "<div>\n",
       "<style scoped>\n",
       "    .dataframe tbody tr th:only-of-type {\n",
       "        vertical-align: middle;\n",
       "    }\n",
       "\n",
       "    .dataframe tbody tr th {\n",
       "        vertical-align: top;\n",
       "    }\n",
       "\n",
       "    .dataframe thead th {\n",
       "        text-align: right;\n",
       "    }\n",
       "</style>\n",
       "<table border=\"1\" class=\"dataframe\">\n",
       "  <thead>\n",
       "    <tr style=\"text-align: right;\">\n",
       "      <th></th>\n",
       "      <th>1.0</th>\n",
       "      <th>1.1</th>\n",
       "      <th>1.2</th>\n",
       "      <th>1.3</th>\n",
       "      <th>1.4</th>\n",
       "      <th>1.5</th>\n",
       "      <th>1.6</th>\n",
       "      <th>1.7</th>\n",
       "      <th>1.8</th>\n",
       "      <th>1.9</th>\n",
       "      <th>...</th>\n",
       "      <th>2.6</th>\n",
       "      <th>2.7</th>\n",
       "      <th>2.8</th>\n",
       "      <th>2.9</th>\n",
       "      <th>3.0</th>\n",
       "      <th>3.1</th>\n",
       "      <th>3.2</th>\n",
       "      <th>3.3</th>\n",
       "      <th>3.4</th>\n",
       "      <th>3.5</th>\n",
       "    </tr>\n",
       "  </thead>\n",
       "  <tbody>\n",
       "    <tr>\n",
       "      <th>1970-01-01 07:37:30</th>\n",
       "      <td>107.270191</td>\n",
       "      <td>107.528061</td>\n",
       "      <td>107.779415</td>\n",
       "      <td>108.023947</td>\n",
       "      <td>108.369778</td>\n",
       "      <td>108.598592</td>\n",
       "      <td>108.820973</td>\n",
       "      <td>109.039640</td>\n",
       "      <td>109.252966</td>\n",
       "      <td>109.462352</td>\n",
       "      <td>...</td>\n",
       "      <td>110.970441</td>\n",
       "      <td>111.146759</td>\n",
       "      <td>111.319293</td>\n",
       "      <td>111.488895</td>\n",
       "      <td>111.656381</td>\n",
       "      <td>111.820842</td>\n",
       "      <td>112.051587</td>\n",
       "      <td>112.209273</td>\n",
       "      <td>112.365295</td>\n",
       "      <td>112.519002</td>\n",
       "    </tr>\n",
       "    <tr>\n",
       "      <th>1970-01-01 07:52:30</th>\n",
       "      <td>106.014645</td>\n",
       "      <td>106.315742</td>\n",
       "      <td>106.509278</td>\n",
       "      <td>106.794494</td>\n",
       "      <td>107.070521</td>\n",
       "      <td>107.339026</td>\n",
       "      <td>107.598814</td>\n",
       "      <td>107.768526</td>\n",
       "      <td>108.017348</td>\n",
       "      <td>108.260454</td>\n",
       "      <td>...</td>\n",
       "      <td>109.740353</td>\n",
       "      <td>109.879612</td>\n",
       "      <td>110.080520</td>\n",
       "      <td>110.277351</td>\n",
       "      <td>110.471025</td>\n",
       "      <td>110.660548</td>\n",
       "      <td>110.788612</td>\n",
       "      <td>110.972131</td>\n",
       "      <td>111.153081</td>\n",
       "      <td>111.330785</td>\n",
       "    </tr>\n",
       "    <tr>\n",
       "      <th>1970-01-01 08:07:30</th>\n",
       "      <td>104.898919</td>\n",
       "      <td>105.234257</td>\n",
       "      <td>105.378330</td>\n",
       "      <td>105.695885</td>\n",
       "      <td>106.002547</td>\n",
       "      <td>106.219531</td>\n",
       "      <td>106.508907</td>\n",
       "      <td>106.712285</td>\n",
       "      <td>106.913670</td>\n",
       "      <td>107.183694</td>\n",
       "      <td>...</td>\n",
       "      <td>108.642827</td>\n",
       "      <td>108.808860</td>\n",
       "      <td>108.973611</td>\n",
       "      <td>109.192133</td>\n",
       "      <td>109.406771</td>\n",
       "      <td>109.562317</td>\n",
       "      <td>109.714717</td>\n",
       "      <td>109.917837</td>\n",
       "      <td>110.066833</td>\n",
       "      <td>110.263647</td>\n",
       "    </tr>\n",
       "    <tr>\n",
       "      <th>1970-01-01 08:22:30</th>\n",
       "      <td>103.889654</td>\n",
       "      <td>104.169726</td>\n",
       "      <td>104.439633</td>\n",
       "      <td>104.703502</td>\n",
       "      <td>104.959757</td>\n",
       "      <td>105.207491</td>\n",
       "      <td>105.450025</td>\n",
       "      <td>105.756698</td>\n",
       "      <td>105.916917</td>\n",
       "      <td>106.208861</td>\n",
       "      <td>...</td>\n",
       "      <td>107.648618</td>\n",
       "      <td>107.840177</td>\n",
       "      <td>108.025791</td>\n",
       "      <td>108.209629</td>\n",
       "      <td>108.441361</td>\n",
       "      <td>108.567141</td>\n",
       "      <td>108.742470</td>\n",
       "      <td>108.961402</td>\n",
       "      <td>109.082287</td>\n",
       "      <td>109.294728</td>\n",
       "    </tr>\n",
       "    <tr>\n",
       "      <th>1970-01-01 08:37:30</th>\n",
       "      <td>102.974047</td>\n",
       "      <td>103.206056</td>\n",
       "      <td>103.582387</td>\n",
       "      <td>103.799232</td>\n",
       "      <td>104.011513</td>\n",
       "      <td>104.288961</td>\n",
       "      <td>104.555374</td>\n",
       "      <td>104.817506</td>\n",
       "      <td>105.008738</td>\n",
       "      <td>105.259013</td>\n",
       "      <td>...</td>\n",
       "      <td>106.743543</td>\n",
       "      <td>106.953242</td>\n",
       "      <td>107.159112</td>\n",
       "      <td>107.312295</td>\n",
       "      <td>107.511863</td>\n",
       "      <td>107.705660</td>\n",
       "      <td>107.852371</td>\n",
       "      <td>108.041134</td>\n",
       "      <td>108.226228</td>\n",
       "      <td>108.409148</td>\n",
       "    </tr>\n",
       "    <tr>\n",
       "      <th>1970-01-01 08:52:30</th>\n",
       "      <td>102.060631</td>\n",
       "      <td>102.396062</td>\n",
       "      <td>102.722340</td>\n",
       "      <td>102.969321</td>\n",
       "      <td>103.209728</td>\n",
       "      <td>103.445140</td>\n",
       "      <td>103.735096</td>\n",
       "      <td>103.957991</td>\n",
       "      <td>104.175226</td>\n",
       "      <td>104.388794</td>\n",
       "      <td>...</td>\n",
       "      <td>105.910869</td>\n",
       "      <td>106.138287</td>\n",
       "      <td>106.314153</td>\n",
       "      <td>106.487215</td>\n",
       "      <td>106.658439</td>\n",
       "      <td>106.869133</td>\n",
       "      <td>107.034435</td>\n",
       "      <td>107.236581</td>\n",
       "      <td>107.436833</td>\n",
       "      <td>107.593504</td>\n",
       "    </tr>\n",
       "    <tr>\n",
       "      <th>1970-01-01 09:07:30</th>\n",
       "      <td>101.290278</td>\n",
       "      <td>101.648656</td>\n",
       "      <td>101.930508</td>\n",
       "      <td>102.203050</td>\n",
       "      <td>102.467444</td>\n",
       "      <td>102.668470</td>\n",
       "      <td>102.919993</td>\n",
       "      <td>103.166277</td>\n",
       "      <td>103.405566</td>\n",
       "      <td>103.640136</td>\n",
       "      <td>...</td>\n",
       "      <td>105.142305</td>\n",
       "      <td>105.340457</td>\n",
       "      <td>105.533980</td>\n",
       "      <td>105.723961</td>\n",
       "      <td>105.911434</td>\n",
       "      <td>106.094909</td>\n",
       "      <td>106.276095</td>\n",
       "      <td>106.491588</td>\n",
       "      <td>106.666182</td>\n",
       "      <td>106.837890</td>\n",
       "    </tr>\n",
       "    <tr>\n",
       "      <th>1970-01-01 09:22:30</th>\n",
       "      <td>100.577466</td>\n",
       "      <td>100.892281</td>\n",
       "      <td>101.197466</td>\n",
       "      <td>101.491891</td>\n",
       "      <td>101.722181</td>\n",
       "      <td>101.946910</td>\n",
       "      <td>102.218106</td>\n",
       "      <td>102.433435</td>\n",
       "      <td>102.691901</td>\n",
       "      <td>102.944665</td>\n",
       "      <td>...</td>\n",
       "      <td>104.427255</td>\n",
       "      <td>104.640376</td>\n",
       "      <td>104.848251</td>\n",
       "      <td>105.014302</td>\n",
       "      <td>105.215777</td>\n",
       "      <td>105.412693</td>\n",
       "      <td>105.571346</td>\n",
       "      <td>105.761750</td>\n",
       "      <td>105.949769</td>\n",
       "      <td>106.134425</td>\n",
       "    </tr>\n",
       "    <tr>\n",
       "      <th>1970-01-01 09:37:30</th>\n",
       "      <td>99.911988</td>\n",
       "      <td>100.190415</td>\n",
       "      <td>100.515633</td>\n",
       "      <td>100.776310</td>\n",
       "      <td>101.028530</td>\n",
       "      <td>101.276717</td>\n",
       "      <td>101.565211</td>\n",
       "      <td>101.798597</td>\n",
       "      <td>102.026277</td>\n",
       "      <td>102.294199</td>\n",
       "      <td>...</td>\n",
       "      <td>103.798499</td>\n",
       "      <td>103.986972</td>\n",
       "      <td>104.207295</td>\n",
       "      <td>104.351575</td>\n",
       "      <td>104.565207</td>\n",
       "      <td>104.739875</td>\n",
       "      <td>104.911954</td>\n",
       "      <td>105.081181</td>\n",
       "      <td>105.280817</td>\n",
       "      <td>105.476709</td>\n",
       "    </tr>\n",
       "    <tr>\n",
       "      <th>1970-01-01 09:52:30</th>\n",
       "      <td>99.290865</td>\n",
       "      <td>99.588566</td>\n",
       "      <td>99.878982</td>\n",
       "      <td>100.109811</td>\n",
       "      <td>100.431317</td>\n",
       "      <td>100.648985</td>\n",
       "      <td>100.906719</td>\n",
       "      <td>101.202820</td>\n",
       "      <td>101.402753</td>\n",
       "      <td>101.684235</td>\n",
       "      <td>...</td>\n",
       "      <td>103.171900</td>\n",
       "      <td>103.373261</td>\n",
       "      <td>103.570529</td>\n",
       "      <td>103.730298</td>\n",
       "      <td>103.954554</td>\n",
       "      <td>104.108903</td>\n",
       "      <td>104.294097</td>\n",
       "      <td>104.474601</td>\n",
       "      <td>104.653756</td>\n",
       "      <td>104.859462</td>\n",
       "    </tr>\n",
       "    <tr>\n",
       "      <th>1970-01-01 10:07:30</th>\n",
       "      <td>98.706820</td>\n",
       "      <td>99.024580</td>\n",
       "      <td>99.283550</td>\n",
       "      <td>99.533828</td>\n",
       "      <td>99.823041</td>\n",
       "      <td>100.103671</td>\n",
       "      <td>100.332435</td>\n",
       "      <td>100.599356</td>\n",
       "      <td>100.817032</td>\n",
       "      <td>101.071124</td>\n",
       "      <td>...</td>\n",
       "      <td>102.582268</td>\n",
       "      <td>102.796332</td>\n",
       "      <td>102.972492</td>\n",
       "      <td>103.145900</td>\n",
       "      <td>103.379491</td>\n",
       "      <td>103.546464</td>\n",
       "      <td>103.711950</td>\n",
       "      <td>103.903577</td>\n",
       "      <td>104.063948</td>\n",
       "      <td>104.278275</td>\n",
       "    </tr>\n",
       "    <tr>\n",
       "      <th>1970-01-01 10:22:30</th>\n",
       "      <td>98.159697</td>\n",
       "      <td>98.444942</td>\n",
       "      <td>98.722280</td>\n",
       "      <td>98.990286</td>\n",
       "      <td>99.250464</td>\n",
       "      <td>99.546591</td>\n",
       "      <td>99.791609</td>\n",
       "      <td>100.031793</td>\n",
       "      <td>100.265142</td>\n",
       "      <td>100.494132</td>\n",
       "      <td>...</td>\n",
       "      <td>102.027027</td>\n",
       "      <td>102.220274</td>\n",
       "      <td>102.409047</td>\n",
       "      <td>102.594529</td>\n",
       "      <td>102.807339</td>\n",
       "      <td>102.986118</td>\n",
       "      <td>103.162956</td>\n",
       "      <td>103.336027</td>\n",
       "      <td>103.507486</td>\n",
       "      <td>103.703024</td>\n",
       "    </tr>\n",
       "    <tr>\n",
       "      <th>1970-01-01 10:37:30</th>\n",
       "      <td>97.595659</td>\n",
       "      <td>97.898600</td>\n",
       "      <td>98.192771</td>\n",
       "      <td>98.476585</td>\n",
       "      <td>98.751662</td>\n",
       "      <td>99.019931</td>\n",
       "      <td>99.241552</td>\n",
       "      <td>99.496435</td>\n",
       "      <td>99.743690</td>\n",
       "      <td>99.985901</td>\n",
       "      <td>...</td>\n",
       "      <td>101.501532</td>\n",
       "      <td>101.705864</td>\n",
       "      <td>101.905247</td>\n",
       "      <td>102.072902</td>\n",
       "      <td>102.266554</td>\n",
       "      <td>102.455842</td>\n",
       "      <td>102.642809</td>\n",
       "      <td>102.825619</td>\n",
       "      <td>103.006484</td>\n",
       "      <td>103.159256</td>\n",
       "    </tr>\n",
       "    <tr>\n",
       "      <th>1970-01-01 10:52:30</th>\n",
       "      <td>97.106874</td>\n",
       "      <td>97.382890</td>\n",
       "      <td>97.692026</td>\n",
       "      <td>97.989931</td>\n",
       "      <td>98.240315</td>\n",
       "      <td>98.522205</td>\n",
       "      <td>98.758019</td>\n",
       "      <td>98.990118</td>\n",
       "      <td>99.249762</td>\n",
       "      <td>99.503789</td>\n",
       "      <td>...</td>\n",
       "      <td>101.004017</td>\n",
       "      <td>101.218240</td>\n",
       "      <td>101.427117</td>\n",
       "      <td>101.578202</td>\n",
       "      <td>101.781110</td>\n",
       "      <td>101.979294</td>\n",
       "      <td>102.149731</td>\n",
       "      <td>102.341253</td>\n",
       "      <td>102.530550</td>\n",
       "      <td>102.668495</td>\n",
       "    </tr>\n",
       "    <tr>\n",
       "      <th>1970-01-01 11:07:30</th>\n",
       "      <td>96.643839</td>\n",
       "      <td>96.934257</td>\n",
       "      <td>97.217376</td>\n",
       "      <td>97.527878</td>\n",
       "      <td>97.755339</td>\n",
       "      <td>98.049421</td>\n",
       "      <td>98.299181</td>\n",
       "      <td>98.543315</td>\n",
       "      <td>98.780835</td>\n",
       "      <td>99.045461</td>\n",
       "      <td>...</td>\n",
       "      <td>100.530942</td>\n",
       "      <td>100.727687</td>\n",
       "      <td>100.945589</td>\n",
       "      <td>101.107989</td>\n",
       "      <td>101.319216</td>\n",
       "      <td>101.501024</td>\n",
       "      <td>101.680435</td>\n",
       "      <td>101.856324</td>\n",
       "      <td>102.053610</td>\n",
       "      <td>102.201572</td>\n",
       "    </tr>\n",
       "    <tr>\n",
       "      <th>1970-01-01 11:22:30</th>\n",
       "      <td>96.202935</td>\n",
       "      <td>96.507597</td>\n",
       "      <td>96.766492</td>\n",
       "      <td>97.088288</td>\n",
       "      <td>97.329875</td>\n",
       "      <td>97.600565</td>\n",
       "      <td>97.829268</td>\n",
       "      <td>98.117828</td>\n",
       "      <td>98.334717</td>\n",
       "      <td>98.578729</td>\n",
       "      <td>...</td>\n",
       "      <td>100.106739</td>\n",
       "      <td>100.286623</td>\n",
       "      <td>100.487523</td>\n",
       "      <td>100.660139</td>\n",
       "      <td>100.878866</td>\n",
       "      <td>101.045384</td>\n",
       "      <td>101.233647</td>\n",
       "      <td>101.417322</td>\n",
       "      <td>101.599424</td>\n",
       "      <td>101.756447</td>\n",
       "    </tr>\n",
       "    <tr>\n",
       "      <th>1970-01-01 11:37:30</th>\n",
       "      <td>95.783572</td>\n",
       "      <td>96.064084</td>\n",
       "      <td>96.337334</td>\n",
       "      <td>96.635524</td>\n",
       "      <td>96.923673</td>\n",
       "      <td>97.172504</td>\n",
       "      <td>97.413551</td>\n",
       "      <td>97.680649</td>\n",
       "      <td>97.909485</td>\n",
       "      <td>98.134262</td>\n",
       "      <td>...</td>\n",
       "      <td>99.676499</td>\n",
       "      <td>99.865910</td>\n",
       "      <td>100.050918</td>\n",
       "      <td>100.232787</td>\n",
       "      <td>100.458295</td>\n",
       "      <td>100.633399</td>\n",
       "      <td>100.806788</td>\n",
       "      <td>100.998191</td>\n",
       "      <td>101.166082</td>\n",
       "      <td>101.331330</td>\n",
       "    </tr>\n",
       "    <tr>\n",
       "      <th>1970-01-01 11:52:30</th>\n",
       "      <td>95.347602</td>\n",
       "      <td>95.641899</td>\n",
       "      <td>95.928109</td>\n",
       "      <td>96.204261</td>\n",
       "      <td>96.503862</td>\n",
       "      <td>96.764540</td>\n",
       "      <td>97.016758</td>\n",
       "      <td>97.263784</td>\n",
       "      <td>97.503444</td>\n",
       "      <td>97.738507</td>\n",
       "      <td>...</td>\n",
       "      <td>99.265123</td>\n",
       "      <td>99.463215</td>\n",
       "      <td>99.656527</td>\n",
       "      <td>99.846361</td>\n",
       "      <td>100.034261</td>\n",
       "      <td>100.217602</td>\n",
       "      <td>100.398927</td>\n",
       "      <td>100.576240</td>\n",
       "      <td>100.751902</td>\n",
       "      <td>100.924636</td>\n",
       "    </tr>\n",
       "    <tr>\n",
       "      <th>1970-01-01 12:07:30</th>\n",
       "      <td>94.966146</td>\n",
       "      <td>95.271900</td>\n",
       "      <td>95.537229</td>\n",
       "      <td>95.824420</td>\n",
       "      <td>96.102711</td>\n",
       "      <td>96.374158</td>\n",
       "      <td>96.636564</td>\n",
       "      <td>96.865600</td>\n",
       "      <td>97.115093</td>\n",
       "      <td>97.359526</td>\n",
       "      <td>...</td>\n",
       "      <td>98.871834</td>\n",
       "      <td>99.077826</td>\n",
       "      <td>99.278711</td>\n",
       "      <td>99.475824</td>\n",
       "      <td>99.628579</td>\n",
       "      <td>99.819426</td>\n",
       "      <td>100.007998</td>\n",
       "      <td>100.192285</td>\n",
       "      <td>100.355396</td>\n",
       "      <td>100.534960</td>\n",
       "    </tr>\n",
       "    <tr>\n",
       "      <th>1970-01-01 12:22:30</th>\n",
       "      <td>94.601442</td>\n",
       "      <td>94.917608</td>\n",
       "      <td>95.163284</td>\n",
       "      <td>95.460522</td>\n",
       "      <td>95.748339</td>\n",
       "      <td>96.000876</td>\n",
       "      <td>96.272546</td>\n",
       "      <td>96.484652</td>\n",
       "      <td>96.743098</td>\n",
       "      <td>96.996085</td>\n",
       "      <td>...</td>\n",
       "      <td>98.494624</td>\n",
       "      <td>98.686702</td>\n",
       "      <td>98.894918</td>\n",
       "      <td>99.099090</td>\n",
       "      <td>99.260325</td>\n",
       "      <td>99.457668</td>\n",
       "      <td>99.633304</td>\n",
       "      <td>99.823966</td>\n",
       "      <td>99.993754</td>\n",
       "      <td>100.161048</td>\n",
       "    </tr>\n",
       "    <tr>\n",
       "      <th>1970-01-01 12:37:30</th>\n",
       "      <td>94.251354</td>\n",
       "      <td>94.546980</td>\n",
       "      <td>94.834115</td>\n",
       "      <td>95.111417</td>\n",
       "      <td>95.380377</td>\n",
       "      <td>95.642639</td>\n",
       "      <td>95.896652</td>\n",
       "      <td>96.145053</td>\n",
       "      <td>96.386264</td>\n",
       "      <td>96.622845</td>\n",
       "      <td>...</td>\n",
       "      <td>98.132919</td>\n",
       "      <td>98.332161</td>\n",
       "      <td>98.526785</td>\n",
       "      <td>98.737415</td>\n",
       "      <td>98.906446</td>\n",
       "      <td>99.090938</td>\n",
       "      <td>99.273160</td>\n",
       "      <td>99.451533</td>\n",
       "      <td>99.646087</td>\n",
       "      <td>99.801778</td>\n",
       "    </tr>\n",
       "    <tr>\n",
       "      <th>1970-01-01 12:52:30</th>\n",
       "      <td>93.915699</td>\n",
       "      <td>94.191960</td>\n",
       "      <td>94.517617</td>\n",
       "      <td>94.776070</td>\n",
       "      <td>95.027230</td>\n",
       "      <td>95.299111</td>\n",
       "      <td>95.561542</td>\n",
       "      <td>95.818602</td>\n",
       "      <td>96.043522</td>\n",
       "      <td>96.264615</td>\n",
       "      <td>...</td>\n",
       "      <td>97.785070</td>\n",
       "      <td>97.991417</td>\n",
       "      <td>98.173193</td>\n",
       "      <td>98.389744</td>\n",
       "      <td>98.565956</td>\n",
       "      <td>98.738291</td>\n",
       "      <td>98.927040</td>\n",
       "      <td>99.111241</td>\n",
       "      <td>99.293821</td>\n",
       "      <td>99.456139</td>\n",
       "    </tr>\n",
       "    <tr>\n",
       "      <th>1970-01-01 13:07:30</th>\n",
       "      <td>93.592699</td>\n",
       "      <td>93.879100</td>\n",
       "      <td>94.185243</td>\n",
       "      <td>94.453547</td>\n",
       "      <td>94.713985</td>\n",
       "      <td>94.968589</td>\n",
       "      <td>95.239393</td>\n",
       "      <td>95.480238</td>\n",
       "      <td>95.713904</td>\n",
       "      <td>95.943308</td>\n",
       "      <td>...</td>\n",
       "      <td>97.450646</td>\n",
       "      <td>97.663053</td>\n",
       "      <td>97.851578</td>\n",
       "      <td>98.055125</td>\n",
       "      <td>98.237966</td>\n",
       "      <td>98.416653</td>\n",
       "      <td>98.593549</td>\n",
       "      <td>98.783550</td>\n",
       "      <td>98.954786</td>\n",
       "      <td>99.123220</td>\n",
       "    </tr>\n",
       "    <tr>\n",
       "      <th>1970-01-01 13:22:30</th>\n",
       "      <td>93.282249</td>\n",
       "      <td>93.577971</td>\n",
       "      <td>93.865635</td>\n",
       "      <td>94.143004</td>\n",
       "      <td>94.387485</td>\n",
       "      <td>94.650841</td>\n",
       "      <td>94.905477</td>\n",
       "      <td>95.154821</td>\n",
       "      <td>95.396541</td>\n",
       "      <td>95.633615</td>\n",
       "      <td>...</td>\n",
       "      <td>97.128276</td>\n",
       "      <td>97.346727</td>\n",
       "      <td>97.541490</td>\n",
       "      <td>97.732698</td>\n",
       "      <td>97.921668</td>\n",
       "      <td>98.089411</td>\n",
       "      <td>98.272283</td>\n",
       "      <td>98.451006</td>\n",
       "      <td>98.628106</td>\n",
       "      <td>98.802195</td>\n",
       "    </tr>\n",
       "    <tr>\n",
       "      <th>1970-01-01 13:37:30</th>\n",
       "      <td>92.956344</td>\n",
       "      <td>93.261428</td>\n",
       "      <td>93.557949</td>\n",
       "      <td>93.819371</td>\n",
       "      <td>94.073002</td>\n",
       "      <td>94.344436</td>\n",
       "      <td>94.606730</td>\n",
       "      <td>94.841491</td>\n",
       "      <td>95.090639</td>\n",
       "      <td>95.334806</td>\n",
       "      <td>...</td>\n",
       "      <td>96.835504</td>\n",
       "      <td>97.023714</td>\n",
       "      <td>97.224591</td>\n",
       "      <td>97.421683</td>\n",
       "      <td>97.599775</td>\n",
       "      <td>97.773661</td>\n",
       "      <td>97.962071</td>\n",
       "      <td>98.146129</td>\n",
       "      <td>98.312987</td>\n",
       "      <td>98.492315</td>\n",
       "    </tr>\n",
       "    <tr>\n",
       "      <th>1970-01-01 13:52:30</th>\n",
       "      <td>92.668568</td>\n",
       "      <td>92.956747</td>\n",
       "      <td>93.261421</td>\n",
       "      <td>93.507699</td>\n",
       "      <td>93.793108</td>\n",
       "      <td>94.049216</td>\n",
       "      <td>94.318576</td>\n",
       "      <td>94.539471</td>\n",
       "      <td>94.795481</td>\n",
       "      <td>95.046215</td>\n",
       "      <td>...</td>\n",
       "      <td>96.535024</td>\n",
       "      <td>96.729214</td>\n",
       "      <td>96.918829</td>\n",
       "      <td>97.121370</td>\n",
       "      <td>97.289109</td>\n",
       "      <td>97.484749</td>\n",
       "      <td>97.662602</td>\n",
       "      <td>97.851606</td>\n",
       "      <td>98.008709</td>\n",
       "      <td>98.192896</td>\n",
       "    </tr>\n",
       "    <tr>\n",
       "      <th>1970-01-01 14:07:30</th>\n",
       "      <td>92.391061</td>\n",
       "      <td>92.687091</td>\n",
       "      <td>92.975354</td>\n",
       "      <td>93.230349</td>\n",
       "      <td>93.522461</td>\n",
       "      <td>93.763966</td>\n",
       "      <td>94.018955</td>\n",
       "      <td>94.268420</td>\n",
       "      <td>94.510410</td>\n",
       "      <td>94.747773</td>\n",
       "      <td>...</td>\n",
       "      <td>96.244508</td>\n",
       "      <td>96.444632</td>\n",
       "      <td>96.623516</td>\n",
       "      <td>96.831110</td>\n",
       "      <td>97.004782</td>\n",
       "      <td>97.189913</td>\n",
       "      <td>97.372882</td>\n",
       "      <td>97.551823</td>\n",
       "      <td>97.729008</td>\n",
       "      <td>97.903314</td>\n",
       "    </tr>\n",
       "    <tr>\n",
       "      <th>1970-01-01 14:22:30</th>\n",
       "      <td>92.122642</td>\n",
       "      <td>92.426489</td>\n",
       "      <td>92.699112</td>\n",
       "      <td>92.962200</td>\n",
       "      <td>93.239207</td>\n",
       "      <td>93.488581</td>\n",
       "      <td>93.750090</td>\n",
       "      <td>94.006210</td>\n",
       "      <td>94.234825</td>\n",
       "      <td>94.459448</td>\n",
       "      <td>...</td>\n",
       "      <td>95.963740</td>\n",
       "      <td>96.153185</td>\n",
       "      <td>96.353557</td>\n",
       "      <td>96.550312</td>\n",
       "      <td>96.729516</td>\n",
       "      <td>96.904616</td>\n",
       "      <td>97.092670</td>\n",
       "      <td>97.262011</td>\n",
       "      <td>97.458130</td>\n",
       "      <td>97.622998</td>\n",
       "    </tr>\n",
       "    <tr>\n",
       "      <th>1970-01-01 14:37:30</th>\n",
       "      <td>91.863321</td>\n",
       "      <td>92.151494</td>\n",
       "      <td>92.432112</td>\n",
       "      <td>92.702723</td>\n",
       "      <td>92.965321</td>\n",
       "      <td>93.222020</td>\n",
       "      <td>93.490026</td>\n",
       "      <td>93.732805</td>\n",
       "      <td>93.968178</td>\n",
       "      <td>94.199235</td>\n",
       "      <td>...</td>\n",
       "      <td>95.691802</td>\n",
       "      <td>95.886727</td>\n",
       "      <td>96.092033</td>\n",
       "      <td>96.278431</td>\n",
       "      <td>96.462801</td>\n",
       "      <td>96.642858</td>\n",
       "      <td>96.821114</td>\n",
       "      <td>96.995320</td>\n",
       "      <td>97.181761</td>\n",
       "      <td>97.351421</td>\n",
       "    </tr>\n",
       "    <tr>\n",
       "      <th>1970-01-01 14:52:30</th>\n",
       "      <td>91.589761</td>\n",
       "      <td>91.885780</td>\n",
       "      <td>92.173821</td>\n",
       "      <td>92.451433</td>\n",
       "      <td>92.720662</td>\n",
       "      <td>92.983659</td>\n",
       "      <td>93.218890</td>\n",
       "      <td>93.468296</td>\n",
       "      <td>93.709961</td>\n",
       "      <td>93.947024</td>\n",
       "      <td>...</td>\n",
       "      <td>95.428529</td>\n",
       "      <td>95.628568</td>\n",
       "      <td>95.823561</td>\n",
       "      <td>96.014967</td>\n",
       "      <td>96.204168</td>\n",
       "      <td>96.375047</td>\n",
       "      <td>96.558025</td>\n",
       "      <td>96.736777</td>\n",
       "      <td>96.913961</td>\n",
       "      <td>97.088102</td>\n",
       "    </tr>\n",
       "    <tr>\n",
       "      <th>1970-01-01 15:07:30</th>\n",
       "      <td>91.347083</td>\n",
       "      <td>91.649795</td>\n",
       "      <td>91.923746</td>\n",
       "      <td>92.207882</td>\n",
       "      <td>92.463946</td>\n",
       "      <td>92.733308</td>\n",
       "      <td>92.974964</td>\n",
       "      <td>93.212177</td>\n",
       "      <td>93.459710</td>\n",
       "      <td>93.702384</td>\n",
       "      <td>...</td>\n",
       "      <td>95.173130</td>\n",
       "      <td>95.377958</td>\n",
       "      <td>95.563375</td>\n",
       "      <td>95.759461</td>\n",
       "      <td>95.953183</td>\n",
       "      <td>96.115267</td>\n",
       "      <td>96.302666</td>\n",
       "      <td>96.472736</td>\n",
       "      <td>96.654259</td>\n",
       "      <td>96.832595</td>\n",
       "    </tr>\n",
       "    <tr>\n",
       "      <th>1970-01-01 15:22:30</th>\n",
       "      <td>91.112035</td>\n",
       "      <td>91.420981</td>\n",
       "      <td>91.681436</td>\n",
       "      <td>91.971657</td>\n",
       "      <td>92.215112</td>\n",
       "      <td>92.490416</td>\n",
       "      <td>92.738452</td>\n",
       "      <td>92.963985</td>\n",
       "      <td>93.216994</td>\n",
       "      <td>93.448306</td>\n",
       "      <td>...</td>\n",
       "      <td>94.939776</td>\n",
       "      <td>95.134785</td>\n",
       "      <td>95.311021</td>\n",
       "      <td>95.511488</td>\n",
       "      <td>95.696178</td>\n",
       "      <td>95.876366</td>\n",
       "      <td>96.054891</td>\n",
       "      <td>96.229199</td>\n",
       "      <td>96.402220</td>\n",
       "      <td>96.584488</td>\n",
       "    </tr>\n",
       "    <tr>\n",
       "      <th>1970-01-01 15:37:30</th>\n",
       "      <td>90.883788</td>\n",
       "      <td>91.178772</td>\n",
       "      <td>91.446471</td>\n",
       "      <td>91.742373</td>\n",
       "      <td>91.992309</td>\n",
       "      <td>92.254959</td>\n",
       "      <td>92.491302</td>\n",
       "      <td>92.740164</td>\n",
       "      <td>92.981417</td>\n",
       "      <td>93.201837</td>\n",
       "      <td>...</td>\n",
       "      <td>94.698906</td>\n",
       "      <td>94.884765</td>\n",
       "      <td>95.079443</td>\n",
       "      <td>95.270654</td>\n",
       "      <td>95.446679</td>\n",
       "      <td>95.631400</td>\n",
       "      <td>95.814058</td>\n",
       "      <td>95.992585</td>\n",
       "      <td>96.157444</td>\n",
       "      <td>96.343400</td>\n",
       "    </tr>\n",
       "    <tr>\n",
       "      <th>1970-01-01 15:52:30</th>\n",
       "      <td>90.662394</td>\n",
       "      <td>90.943995</td>\n",
       "      <td>91.218466</td>\n",
       "      <td>91.501499</td>\n",
       "      <td>91.775699</td>\n",
       "      <td>92.026197</td>\n",
       "      <td>92.268465</td>\n",
       "      <td>92.522647</td>\n",
       "      <td>92.752611</td>\n",
       "      <td>92.978533</td>\n",
       "      <td>...</td>\n",
       "      <td>94.464752</td>\n",
       "      <td>94.655325</td>\n",
       "      <td>94.854276</td>\n",
       "      <td>95.036594</td>\n",
       "      <td>95.217058</td>\n",
       "      <td>95.393276</td>\n",
       "      <td>95.580050</td>\n",
       "      <td>95.750432</td>\n",
       "      <td>95.919557</td>\n",
       "      <td>96.108977</td>\n",
       "    </tr>\n",
       "    <tr>\n",
       "      <th>1970-01-01 16:07:30</th>\n",
       "      <td>90.447125</td>\n",
       "      <td>90.716255</td>\n",
       "      <td>90.997061</td>\n",
       "      <td>91.267750</td>\n",
       "      <td>91.547760</td>\n",
       "      <td>91.804122</td>\n",
       "      <td>92.051946</td>\n",
       "      <td>92.294848</td>\n",
       "      <td>92.530234</td>\n",
       "      <td>92.761329</td>\n",
       "      <td>...</td>\n",
       "      <td>94.237232</td>\n",
       "      <td>94.432236</td>\n",
       "      <td>94.622317</td>\n",
       "      <td>94.808971</td>\n",
       "      <td>94.993615</td>\n",
       "      <td>95.173850</td>\n",
       "      <td>95.352307</td>\n",
       "      <td>95.526638</td>\n",
       "      <td>95.699582</td>\n",
       "      <td>95.880891</td>\n",
       "    </tr>\n",
       "    <tr>\n",
       "      <th>1970-01-01 16:22:30</th>\n",
       "      <td>90.238040</td>\n",
       "      <td>90.513280</td>\n",
       "      <td>90.781925</td>\n",
       "      <td>91.058225</td>\n",
       "      <td>91.326211</td>\n",
       "      <td>91.588083</td>\n",
       "      <td>91.825234</td>\n",
       "      <td>92.073490</td>\n",
       "      <td>92.313968</td>\n",
       "      <td>92.549931</td>\n",
       "      <td>...</td>\n",
       "      <td>94.015775</td>\n",
       "      <td>94.214958</td>\n",
       "      <td>94.396735</td>\n",
       "      <td>94.587470</td>\n",
       "      <td>94.776055</td>\n",
       "      <td>94.960081</td>\n",
       "      <td>95.130736</td>\n",
       "      <td>95.308788</td>\n",
       "      <td>95.485336</td>\n",
       "      <td>95.647937</td>\n",
       "    </tr>\n",
       "    <tr>\n",
       "      <th>1970-01-01 16:37:30</th>\n",
       "      <td>90.016352</td>\n",
       "      <td>90.315808</td>\n",
       "      <td>90.589885</td>\n",
       "      <td>90.854317</td>\n",
       "      <td>91.127318</td>\n",
       "      <td>91.378087</td>\n",
       "      <td>91.620430</td>\n",
       "      <td>91.858252</td>\n",
       "      <td>92.103518</td>\n",
       "      <td>92.329633</td>\n",
       "      <td>...</td>\n",
       "      <td>93.800320</td>\n",
       "      <td>94.003439</td>\n",
       "      <td>94.177217</td>\n",
       "      <td>94.371799</td>\n",
       "      <td>94.564102</td>\n",
       "      <td>94.740336</td>\n",
       "      <td>94.914842</td>\n",
       "      <td>95.085431</td>\n",
       "      <td>95.265562</td>\n",
       "      <td>95.421204</td>\n",
       "    </tr>\n",
       "    <tr>\n",
       "      <th>1970-01-01 16:52:30</th>\n",
       "      <td>89.818731</td>\n",
       "      <td>90.106101</td>\n",
       "      <td>90.402774</td>\n",
       "      <td>90.655765</td>\n",
       "      <td>90.917632</td>\n",
       "      <td>91.173558</td>\n",
       "      <td>91.421066</td>\n",
       "      <td>91.648837</td>\n",
       "      <td>91.898608</td>\n",
       "      <td>92.115239</td>\n",
       "      <td>...</td>\n",
       "      <td>93.590364</td>\n",
       "      <td>93.785286</td>\n",
       "      <td>93.975153</td>\n",
       "      <td>94.161683</td>\n",
       "      <td>94.346221</td>\n",
       "      <td>94.526219</td>\n",
       "      <td>94.704553</td>\n",
       "      <td>94.878644</td>\n",
       "      <td>95.051461</td>\n",
       "      <td>95.210910</td>\n",
       "    </tr>\n",
       "    <tr>\n",
       "      <th>1970-01-01 17:07:30</th>\n",
       "      <td>89.626430</td>\n",
       "      <td>89.902161</td>\n",
       "      <td>90.203784</td>\n",
       "      <td>90.462321</td>\n",
       "      <td>90.713457</td>\n",
       "      <td>90.974513</td>\n",
       "      <td>91.211946</td>\n",
       "      <td>91.459293</td>\n",
       "      <td>91.698981</td>\n",
       "      <td>91.920391</td>\n",
       "      <td>...</td>\n",
       "      <td>93.385862</td>\n",
       "      <td>93.584489</td>\n",
       "      <td>93.778108</td>\n",
       "      <td>93.956867</td>\n",
       "      <td>94.133918</td>\n",
       "      <td>94.328460</td>\n",
       "      <td>94.499430</td>\n",
       "      <td>94.677011</td>\n",
       "      <td>94.842770</td>\n",
       "      <td>95.005824</td>\n",
       "    </tr>\n",
       "    <tr>\n",
       "      <th>1970-01-01 17:22:30</th>\n",
       "      <td>89.438908</td>\n",
       "      <td>89.719979</td>\n",
       "      <td>90.009984</td>\n",
       "      <td>90.273754</td>\n",
       "      <td>90.529844</td>\n",
       "      <td>90.780437</td>\n",
       "      <td>91.022713</td>\n",
       "      <td>91.274440</td>\n",
       "      <td>91.504396</td>\n",
       "      <td>91.730325</td>\n",
       "      <td>...</td>\n",
       "      <td>93.186365</td>\n",
       "      <td>93.388688</td>\n",
       "      <td>93.574548</td>\n",
       "      <td>93.757113</td>\n",
       "      <td>93.937832</td>\n",
       "      <td>94.124842</td>\n",
       "      <td>94.299417</td>\n",
       "      <td>94.469947</td>\n",
       "      <td>94.639245</td>\n",
       "      <td>94.805714</td>\n",
       "    </tr>\n",
       "  </tbody>\n",
       "</table>\n",
       "<p>40 rows × 26 columns</p>\n",
       "</div>"
      ],
      "text/plain": [
       "                            1.0         1.1         1.2         1.3  \\\n",
       "1970-01-01 07:37:30  107.270191  107.528061  107.779415  108.023947   \n",
       "1970-01-01 07:52:30  106.014645  106.315742  106.509278  106.794494   \n",
       "1970-01-01 08:07:30  104.898919  105.234257  105.378330  105.695885   \n",
       "1970-01-01 08:22:30  103.889654  104.169726  104.439633  104.703502   \n",
       "1970-01-01 08:37:30  102.974047  103.206056  103.582387  103.799232   \n",
       "1970-01-01 08:52:30  102.060631  102.396062  102.722340  102.969321   \n",
       "1970-01-01 09:07:30  101.290278  101.648656  101.930508  102.203050   \n",
       "1970-01-01 09:22:30  100.577466  100.892281  101.197466  101.491891   \n",
       "1970-01-01 09:37:30   99.911988  100.190415  100.515633  100.776310   \n",
       "1970-01-01 09:52:30   99.290865   99.588566   99.878982  100.109811   \n",
       "1970-01-01 10:07:30   98.706820   99.024580   99.283550   99.533828   \n",
       "1970-01-01 10:22:30   98.159697   98.444942   98.722280   98.990286   \n",
       "1970-01-01 10:37:30   97.595659   97.898600   98.192771   98.476585   \n",
       "1970-01-01 10:52:30   97.106874   97.382890   97.692026   97.989931   \n",
       "1970-01-01 11:07:30   96.643839   96.934257   97.217376   97.527878   \n",
       "1970-01-01 11:22:30   96.202935   96.507597   96.766492   97.088288   \n",
       "1970-01-01 11:37:30   95.783572   96.064084   96.337334   96.635524   \n",
       "1970-01-01 11:52:30   95.347602   95.641899   95.928109   96.204261   \n",
       "1970-01-01 12:07:30   94.966146   95.271900   95.537229   95.824420   \n",
       "1970-01-01 12:22:30   94.601442   94.917608   95.163284   95.460522   \n",
       "1970-01-01 12:37:30   94.251354   94.546980   94.834115   95.111417   \n",
       "1970-01-01 12:52:30   93.915699   94.191960   94.517617   94.776070   \n",
       "1970-01-01 13:07:30   93.592699   93.879100   94.185243   94.453547   \n",
       "1970-01-01 13:22:30   93.282249   93.577971   93.865635   94.143004   \n",
       "1970-01-01 13:37:30   92.956344   93.261428   93.557949   93.819371   \n",
       "1970-01-01 13:52:30   92.668568   92.956747   93.261421   93.507699   \n",
       "1970-01-01 14:07:30   92.391061   92.687091   92.975354   93.230349   \n",
       "1970-01-01 14:22:30   92.122642   92.426489   92.699112   92.962200   \n",
       "1970-01-01 14:37:30   91.863321   92.151494   92.432112   92.702723   \n",
       "1970-01-01 14:52:30   91.589761   91.885780   92.173821   92.451433   \n",
       "1970-01-01 15:07:30   91.347083   91.649795   91.923746   92.207882   \n",
       "1970-01-01 15:22:30   91.112035   91.420981   91.681436   91.971657   \n",
       "1970-01-01 15:37:30   90.883788   91.178772   91.446471   91.742373   \n",
       "1970-01-01 15:52:30   90.662394   90.943995   91.218466   91.501499   \n",
       "1970-01-01 16:07:30   90.447125   90.716255   90.997061   91.267750   \n",
       "1970-01-01 16:22:30   90.238040   90.513280   90.781925   91.058225   \n",
       "1970-01-01 16:37:30   90.016352   90.315808   90.589885   90.854317   \n",
       "1970-01-01 16:52:30   89.818731   90.106101   90.402774   90.655765   \n",
       "1970-01-01 17:07:30   89.626430   89.902161   90.203784   90.462321   \n",
       "1970-01-01 17:22:30   89.438908   89.719979   90.009984   90.273754   \n",
       "\n",
       "                            1.4         1.5         1.6         1.7  \\\n",
       "1970-01-01 07:37:30  108.369778  108.598592  108.820973  109.039640   \n",
       "1970-01-01 07:52:30  107.070521  107.339026  107.598814  107.768526   \n",
       "1970-01-01 08:07:30  106.002547  106.219531  106.508907  106.712285   \n",
       "1970-01-01 08:22:30  104.959757  105.207491  105.450025  105.756698   \n",
       "1970-01-01 08:37:30  104.011513  104.288961  104.555374  104.817506   \n",
       "1970-01-01 08:52:30  103.209728  103.445140  103.735096  103.957991   \n",
       "1970-01-01 09:07:30  102.467444  102.668470  102.919993  103.166277   \n",
       "1970-01-01 09:22:30  101.722181  101.946910  102.218106  102.433435   \n",
       "1970-01-01 09:37:30  101.028530  101.276717  101.565211  101.798597   \n",
       "1970-01-01 09:52:30  100.431317  100.648985  100.906719  101.202820   \n",
       "1970-01-01 10:07:30   99.823041  100.103671  100.332435  100.599356   \n",
       "1970-01-01 10:22:30   99.250464   99.546591   99.791609  100.031793   \n",
       "1970-01-01 10:37:30   98.751662   99.019931   99.241552   99.496435   \n",
       "1970-01-01 10:52:30   98.240315   98.522205   98.758019   98.990118   \n",
       "1970-01-01 11:07:30   97.755339   98.049421   98.299181   98.543315   \n",
       "1970-01-01 11:22:30   97.329875   97.600565   97.829268   98.117828   \n",
       "1970-01-01 11:37:30   96.923673   97.172504   97.413551   97.680649   \n",
       "1970-01-01 11:52:30   96.503862   96.764540   97.016758   97.263784   \n",
       "1970-01-01 12:07:30   96.102711   96.374158   96.636564   96.865600   \n",
       "1970-01-01 12:22:30   95.748339   96.000876   96.272546   96.484652   \n",
       "1970-01-01 12:37:30   95.380377   95.642639   95.896652   96.145053   \n",
       "1970-01-01 12:52:30   95.027230   95.299111   95.561542   95.818602   \n",
       "1970-01-01 13:07:30   94.713985   94.968589   95.239393   95.480238   \n",
       "1970-01-01 13:22:30   94.387485   94.650841   94.905477   95.154821   \n",
       "1970-01-01 13:37:30   94.073002   94.344436   94.606730   94.841491   \n",
       "1970-01-01 13:52:30   93.793108   94.049216   94.318576   94.539471   \n",
       "1970-01-01 14:07:30   93.522461   93.763966   94.018955   94.268420   \n",
       "1970-01-01 14:22:30   93.239207   93.488581   93.750090   94.006210   \n",
       "1970-01-01 14:37:30   92.965321   93.222020   93.490026   93.732805   \n",
       "1970-01-01 14:52:30   92.720662   92.983659   93.218890   93.468296   \n",
       "1970-01-01 15:07:30   92.463946   92.733308   92.974964   93.212177   \n",
       "1970-01-01 15:22:30   92.215112   92.490416   92.738452   92.963985   \n",
       "1970-01-01 15:37:30   91.992309   92.254959   92.491302   92.740164   \n",
       "1970-01-01 15:52:30   91.775699   92.026197   92.268465   92.522647   \n",
       "1970-01-01 16:07:30   91.547760   91.804122   92.051946   92.294848   \n",
       "1970-01-01 16:22:30   91.326211   91.588083   91.825234   92.073490   \n",
       "1970-01-01 16:37:30   91.127318   91.378087   91.620430   91.858252   \n",
       "1970-01-01 16:52:30   90.917632   91.173558   91.421066   91.648837   \n",
       "1970-01-01 17:07:30   90.713457   90.974513   91.211946   91.459293   \n",
       "1970-01-01 17:22:30   90.529844   90.780437   91.022713   91.274440   \n",
       "\n",
       "                            1.8         1.9  ...         2.6         2.7  \\\n",
       "1970-01-01 07:37:30  109.252966  109.462352  ...  110.970441  111.146759   \n",
       "1970-01-01 07:52:30  108.017348  108.260454  ...  109.740353  109.879612   \n",
       "1970-01-01 08:07:30  106.913670  107.183694  ...  108.642827  108.808860   \n",
       "1970-01-01 08:22:30  105.916917  106.208861  ...  107.648618  107.840177   \n",
       "1970-01-01 08:37:30  105.008738  105.259013  ...  106.743543  106.953242   \n",
       "1970-01-01 08:52:30  104.175226  104.388794  ...  105.910869  106.138287   \n",
       "1970-01-01 09:07:30  103.405566  103.640136  ...  105.142305  105.340457   \n",
       "1970-01-01 09:22:30  102.691901  102.944665  ...  104.427255  104.640376   \n",
       "1970-01-01 09:37:30  102.026277  102.294199  ...  103.798499  103.986972   \n",
       "1970-01-01 09:52:30  101.402753  101.684235  ...  103.171900  103.373261   \n",
       "1970-01-01 10:07:30  100.817032  101.071124  ...  102.582268  102.796332   \n",
       "1970-01-01 10:22:30  100.265142  100.494132  ...  102.027027  102.220274   \n",
       "1970-01-01 10:37:30   99.743690   99.985901  ...  101.501532  101.705864   \n",
       "1970-01-01 10:52:30   99.249762   99.503789  ...  101.004017  101.218240   \n",
       "1970-01-01 11:07:30   98.780835   99.045461  ...  100.530942  100.727687   \n",
       "1970-01-01 11:22:30   98.334717   98.578729  ...  100.106739  100.286623   \n",
       "1970-01-01 11:37:30   97.909485   98.134262  ...   99.676499   99.865910   \n",
       "1970-01-01 11:52:30   97.503444   97.738507  ...   99.265123   99.463215   \n",
       "1970-01-01 12:07:30   97.115093   97.359526  ...   98.871834   99.077826   \n",
       "1970-01-01 12:22:30   96.743098   96.996085  ...   98.494624   98.686702   \n",
       "1970-01-01 12:37:30   96.386264   96.622845  ...   98.132919   98.332161   \n",
       "1970-01-01 12:52:30   96.043522   96.264615  ...   97.785070   97.991417   \n",
       "1970-01-01 13:07:30   95.713904   95.943308  ...   97.450646   97.663053   \n",
       "1970-01-01 13:22:30   95.396541   95.633615  ...   97.128276   97.346727   \n",
       "1970-01-01 13:37:30   95.090639   95.334806  ...   96.835504   97.023714   \n",
       "1970-01-01 13:52:30   94.795481   95.046215  ...   96.535024   96.729214   \n",
       "1970-01-01 14:07:30   94.510410   94.747773  ...   96.244508   96.444632   \n",
       "1970-01-01 14:22:30   94.234825   94.459448  ...   95.963740   96.153185   \n",
       "1970-01-01 14:37:30   93.968178   94.199235  ...   95.691802   95.886727   \n",
       "1970-01-01 14:52:30   93.709961   93.947024  ...   95.428529   95.628568   \n",
       "1970-01-01 15:07:30   93.459710   93.702384  ...   95.173130   95.377958   \n",
       "1970-01-01 15:22:30   93.216994   93.448306  ...   94.939776   95.134785   \n",
       "1970-01-01 15:37:30   92.981417   93.201837  ...   94.698906   94.884765   \n",
       "1970-01-01 15:52:30   92.752611   92.978533  ...   94.464752   94.655325   \n",
       "1970-01-01 16:07:30   92.530234   92.761329  ...   94.237232   94.432236   \n",
       "1970-01-01 16:22:30   92.313968   92.549931  ...   94.015775   94.214958   \n",
       "1970-01-01 16:37:30   92.103518   92.329633  ...   93.800320   94.003439   \n",
       "1970-01-01 16:52:30   91.898608   92.115239  ...   93.590364   93.785286   \n",
       "1970-01-01 17:07:30   91.698981   91.920391  ...   93.385862   93.584489   \n",
       "1970-01-01 17:22:30   91.504396   91.730325  ...   93.186365   93.388688   \n",
       "\n",
       "                            2.8         2.9         3.0         3.1  \\\n",
       "1970-01-01 07:37:30  111.319293  111.488895  111.656381  111.820842   \n",
       "1970-01-01 07:52:30  110.080520  110.277351  110.471025  110.660548   \n",
       "1970-01-01 08:07:30  108.973611  109.192133  109.406771  109.562317   \n",
       "1970-01-01 08:22:30  108.025791  108.209629  108.441361  108.567141   \n",
       "1970-01-01 08:37:30  107.159112  107.312295  107.511863  107.705660   \n",
       "1970-01-01 08:52:30  106.314153  106.487215  106.658439  106.869133   \n",
       "1970-01-01 09:07:30  105.533980  105.723961  105.911434  106.094909   \n",
       "1970-01-01 09:22:30  104.848251  105.014302  105.215777  105.412693   \n",
       "1970-01-01 09:37:30  104.207295  104.351575  104.565207  104.739875   \n",
       "1970-01-01 09:52:30  103.570529  103.730298  103.954554  104.108903   \n",
       "1970-01-01 10:07:30  102.972492  103.145900  103.379491  103.546464   \n",
       "1970-01-01 10:22:30  102.409047  102.594529  102.807339  102.986118   \n",
       "1970-01-01 10:37:30  101.905247  102.072902  102.266554  102.455842   \n",
       "1970-01-01 10:52:30  101.427117  101.578202  101.781110  101.979294   \n",
       "1970-01-01 11:07:30  100.945589  101.107989  101.319216  101.501024   \n",
       "1970-01-01 11:22:30  100.487523  100.660139  100.878866  101.045384   \n",
       "1970-01-01 11:37:30  100.050918  100.232787  100.458295  100.633399   \n",
       "1970-01-01 11:52:30   99.656527   99.846361  100.034261  100.217602   \n",
       "1970-01-01 12:07:30   99.278711   99.475824   99.628579   99.819426   \n",
       "1970-01-01 12:22:30   98.894918   99.099090   99.260325   99.457668   \n",
       "1970-01-01 12:37:30   98.526785   98.737415   98.906446   99.090938   \n",
       "1970-01-01 12:52:30   98.173193   98.389744   98.565956   98.738291   \n",
       "1970-01-01 13:07:30   97.851578   98.055125   98.237966   98.416653   \n",
       "1970-01-01 13:22:30   97.541490   97.732698   97.921668   98.089411   \n",
       "1970-01-01 13:37:30   97.224591   97.421683   97.599775   97.773661   \n",
       "1970-01-01 13:52:30   96.918829   97.121370   97.289109   97.484749   \n",
       "1970-01-01 14:07:30   96.623516   96.831110   97.004782   97.189913   \n",
       "1970-01-01 14:22:30   96.353557   96.550312   96.729516   96.904616   \n",
       "1970-01-01 14:37:30   96.092033   96.278431   96.462801   96.642858   \n",
       "1970-01-01 14:52:30   95.823561   96.014967   96.204168   96.375047   \n",
       "1970-01-01 15:07:30   95.563375   95.759461   95.953183   96.115267   \n",
       "1970-01-01 15:22:30   95.311021   95.511488   95.696178   95.876366   \n",
       "1970-01-01 15:37:30   95.079443   95.270654   95.446679   95.631400   \n",
       "1970-01-01 15:52:30   94.854276   95.036594   95.217058   95.393276   \n",
       "1970-01-01 16:07:30   94.622317   94.808971   94.993615   95.173850   \n",
       "1970-01-01 16:22:30   94.396735   94.587470   94.776055   94.960081   \n",
       "1970-01-01 16:37:30   94.177217   94.371799   94.564102   94.740336   \n",
       "1970-01-01 16:52:30   93.975153   94.161683   94.346221   94.526219   \n",
       "1970-01-01 17:07:30   93.778108   93.956867   94.133918   94.328460   \n",
       "1970-01-01 17:22:30   93.574548   93.757113   93.937832   94.124842   \n",
       "\n",
       "                            3.2         3.3         3.4         3.5  \n",
       "1970-01-01 07:37:30  112.051587  112.209273  112.365295  112.519002  \n",
       "1970-01-01 07:52:30  110.788612  110.972131  111.153081  111.330785  \n",
       "1970-01-01 08:07:30  109.714717  109.917837  110.066833  110.263647  \n",
       "1970-01-01 08:22:30  108.742470  108.961402  109.082287  109.294728  \n",
       "1970-01-01 08:37:30  107.852371  108.041134  108.226228  108.409148  \n",
       "1970-01-01 08:52:30  107.034435  107.236581  107.436833  107.593504  \n",
       "1970-01-01 09:07:30  106.276095  106.491588  106.666182  106.837890  \n",
       "1970-01-01 09:22:30  105.571346  105.761750  105.949769  106.134425  \n",
       "1970-01-01 09:37:30  104.911954  105.081181  105.280817  105.476709  \n",
       "1970-01-01 09:52:30  104.294097  104.474601  104.653756  104.859462  \n",
       "1970-01-01 10:07:30  103.711950  103.903577  104.063948  104.278275  \n",
       "1970-01-01 10:22:30  103.162956  103.336027  103.507486  103.703024  \n",
       "1970-01-01 10:37:30  102.642809  102.825619  103.006484  103.159256  \n",
       "1970-01-01 10:52:30  102.149731  102.341253  102.530550  102.668495  \n",
       "1970-01-01 11:07:30  101.680435  101.856324  102.053610  102.201572  \n",
       "1970-01-01 11:22:30  101.233647  101.417322  101.599424  101.756447  \n",
       "1970-01-01 11:37:30  100.806788  100.998191  101.166082  101.331330  \n",
       "1970-01-01 11:52:30  100.398927  100.576240  100.751902  100.924636  \n",
       "1970-01-01 12:07:30  100.007998  100.192285  100.355396  100.534960  \n",
       "1970-01-01 12:22:30   99.633304   99.823966   99.993754  100.161048  \n",
       "1970-01-01 12:37:30   99.273160   99.451533   99.646087   99.801778  \n",
       "1970-01-01 12:52:30   98.927040   99.111241   99.293821   99.456139  \n",
       "1970-01-01 13:07:30   98.593549   98.783550   98.954786   99.123220  \n",
       "1970-01-01 13:22:30   98.272283   98.451006   98.628106   98.802195  \n",
       "1970-01-01 13:37:30   97.962071   98.146129   98.312987   98.492315  \n",
       "1970-01-01 13:52:30   97.662602   97.851606   98.008709   98.192896  \n",
       "1970-01-01 14:07:30   97.372882   97.551823   97.729008   97.903314  \n",
       "1970-01-01 14:22:30   97.092670   97.262011   97.458130   97.622998  \n",
       "1970-01-01 14:37:30   96.821114   96.995320   97.181761   97.351421  \n",
       "1970-01-01 14:52:30   96.558025   96.736777   96.913961   97.088102  \n",
       "1970-01-01 15:07:30   96.302666   96.472736   96.654259   96.832595  \n",
       "1970-01-01 15:22:30   96.054891   96.229199   96.402220   96.584488  \n",
       "1970-01-01 15:37:30   95.814058   95.992585   96.157444   96.343400  \n",
       "1970-01-01 15:52:30   95.580050   95.750432   95.919557   96.108977  \n",
       "1970-01-01 16:07:30   95.352307   95.526638   95.699582   95.880891  \n",
       "1970-01-01 16:22:30   95.130736   95.308788   95.485336   95.647937  \n",
       "1970-01-01 16:37:30   94.914842   95.085431   95.265562   95.421204  \n",
       "1970-01-01 16:52:30   94.704553   94.878644   95.051461   95.210910  \n",
       "1970-01-01 17:07:30   94.499430   94.677011   94.842770   95.005824  \n",
       "1970-01-01 17:22:30   94.299417   94.469947   94.639245   94.805714  \n",
       "\n",
       "[40 rows x 26 columns]"
      ]
     },
     "execution_count": 37,
     "metadata": {},
     "output_type": "execute_result"
    }
   ],
   "source": [
    "mdf = modeler.mdf\n",
    "mdf"
   ]
  },
  {
   "cell_type": "code",
   "execution_count": 47,
   "metadata": {},
   "outputs": [
    {
     "data": {
      "text/plain": [
       "True"
      ]
     },
     "execution_count": 47,
     "metadata": {},
     "output_type": "execute_result"
    }
   ],
   "source": [
    "all(ds.compute() == ds2.compute())"
   ]
  },
  {
   "cell_type": "code",
   "execution_count": 7,
   "metadata": {},
   "outputs": [],
   "source": [
    "import hvplot.xarray"
   ]
  },
  {
   "cell_type": "code",
   "execution_count": 9,
   "metadata": {},
   "outputs": [
    {
     "data": {},
     "metadata": {},
     "output_type": "display_data"
    },
    {
     "data": {
      "application/vnd.holoviews_exec.v0+json": "",
      "text/html": [
       "<div id='1001'>\n",
       "\n",
       "\n",
       "\n",
       "\n",
       "\n",
       "  <div class=\"bk-root\" id=\"9c038135-87d3-4c74-92be-167eddffd651\" data-root-id=\"1001\"></div>\n",
       "</div>\n",
       "<script type=\"application/javascript\">(function(root) {\n",
       "  function embed_document(root) {\n",
       "    var docs_json = {\"30d29568-49a3-4b56-8a6f-7c1e1b740c62\":{\"roots\":{\"references\":[{\"attributes\":{},\"id\":\"1118\",\"type\":\"UnionRenderers\"},{\"attributes\":{\"days\":[1,8,15,22]},\"id\":\"1059\",\"type\":\"DaysTicker\"},{\"attributes\":{\"bottom_units\":\"screen\",\"fill_alpha\":0.5,\"fill_color\":\"lightgrey\",\"left_units\":\"screen\",\"level\":\"overlay\",\"line_alpha\":1.0,\"line_color\":\"black\",\"line_dash\":[4,4],\"line_width\":2,\"right_units\":\"screen\",\"top_units\":\"screen\"},\"id\":\"1027\",\"type\":\"BoxAnnotation\"},{\"attributes\":{\"source\":{\"id\":\"1038\"}},\"id\":\"1045\",\"type\":\"CDSView\"},{\"attributes\":{\"days\":[1,4,7,10,13,16,19,22,25,28]},\"id\":\"1058\",\"type\":\"DaysTicker\"},{\"attributes\":{\"days\":[1,2,3,4,5,6,7,8,9,10,11,12,13,14,15,16,17,18,19,20,21,22,23,24,25,26,27,28,29,30,31]},\"id\":\"1057\",\"type\":\"DaysTicker\"},{\"attributes\":{\"days\":[1,15]},\"id\":\"1060\",\"type\":\"DaysTicker\"},{\"attributes\":{\"end\":9,\"format\":\"0[.]00\",\"js_property_callbacks\":{\"change:value\":[{\"id\":\"1384\"}]},\"margin\":[0,20,20,20],\"min_width\":250,\"show_value\":false,\"start\":0,\"tooltips\":false,\"value\":0,\"value_throttled\":0,\"width\":250},\"id\":\"1358\",\"type\":\"Slider\"},{\"attributes\":{\"below\":[{\"id\":\"1014\"}],\"center\":[{\"id\":\"1017\"},{\"id\":\"1021\"},{\"id\":\"1066\"}],\"left\":[{\"id\":\"1018\"}],\"margin\":[5,5,5,5],\"min_border_bottom\":10,\"min_border_left\":10,\"min_border_right\":10,\"min_border_top\":10,\"plot_height\":300,\"plot_width\":300,\"renderers\":[{\"id\":\"1044\"},{\"id\":\"1074\"},{\"id\":\"1105\"}],\"sizing_mode\":\"fixed\",\"title\":{\"id\":\"1006\"},\"toolbar\":{\"id\":\"1028\"},\"x_range\":{\"id\":\"1003\"},\"x_scale\":{\"id\":\"1010\"},\"y_range\":{\"id\":\"1004\"},\"y_scale\":{\"id\":\"1012\"}},\"id\":\"1005\",\"subtype\":\"Figure\",\"type\":\"Plot\"},{\"attributes\":{\"end\":113.82000573539096,\"reset_end\":113.82000573539096,\"reset_start\":87.18704517842755,\"start\":87.18704517842755,\"tags\":[[[\"cooling_curves\",\"cooling_curves\",null]]]},\"id\":\"1004\",\"type\":\"Range1d\"},{\"attributes\":{},\"id\":\"1036\",\"type\":\"BasicTickFormatter\"},{\"attributes\":{\"children\":[{\"id\":\"1002\"},{\"id\":\"1005\"},{\"id\":\"1352\"},{\"id\":\"1353\"}],\"margin\":[0,0,0,0],\"name\":\"Row01487\"},\"id\":\"1001\",\"type\":\"Row\"},{\"attributes\":{},\"id\":\"1034\",\"type\":\"DatetimeTickFormatter\"},{\"attributes\":{\"months\":[0,1,2,3,4,5,6,7,8,9,10,11]},\"id\":\"1061\",\"type\":\"MonthsTicker\"},{\"attributes\":{\"click_policy\":\"mute\",\"items\":[{\"id\":\"1067\"},{\"id\":\"1098\"},{\"id\":\"1131\"}],\"title\":\"chi\"},\"id\":\"1066\",\"type\":\"Legend\"},{\"attributes\":{\"months\":[0,2,4,6,8,10]},\"id\":\"1062\",\"type\":\"MonthsTicker\"},{\"attributes\":{\"text\":\"lat: 11\",\"text_color\":{\"value\":\"black\"},\"text_font_size\":{\"value\":\"12pt\"}},\"id\":\"1006\",\"type\":\"Title\"},{\"attributes\":{},\"id\":\"1010\",\"type\":\"LinearScale\"},{\"attributes\":{\"months\":[0,4,8]},\"id\":\"1063\",\"type\":\"MonthsTicker\"},{\"attributes\":{},\"id\":\"1019\",\"type\":\"BasicTicker\"},{\"attributes\":{\"months\":[0,6]},\"id\":\"1064\",\"type\":\"MonthsTicker\"},{\"attributes\":{\"client_comm_id\":\"41f8cf580f464295a296dec7278100a8\",\"comm_id\":\"6991374d0dae4886bfd74d3ced681b55\",\"plot_id\":\"1001\"},\"id\":\"1433\",\"type\":\"panel.models.comm_manager.CommManager\"},{\"attributes\":{\"axis_label\":\"time\",\"bounds\":\"auto\",\"formatter\":{\"id\":\"1034\"},\"major_label_orientation\":\"horizontal\",\"ticker\":{\"id\":\"1015\"}},\"id\":\"1014\",\"type\":\"DatetimeAxis\"},{\"attributes\":{\"line_alpha\":0.1,\"line_color\":\"#e5ae38\",\"line_width\":2,\"x\":{\"field\":\"time\"},\"y\":{\"field\":\"cooling_curves\"}},\"id\":\"1103\",\"type\":\"Line\"},{\"attributes\":{},\"id\":\"1065\",\"type\":\"YearsTicker\"},{\"attributes\":{\"line_alpha\":0.1,\"line_color\":\"#fc4f30\",\"line_width\":2,\"x\":{\"field\":\"time\"},\"y\":{\"field\":\"cooling_curves\"}},\"id\":\"1072\",\"type\":\"Line\"},{\"attributes\":{},\"id\":\"1012\",\"type\":\"LinearScale\"},{\"attributes\":{},\"id\":\"1069\",\"type\":\"Selection\"},{\"attributes\":{\"num_minor_ticks\":5,\"tickers\":[{\"id\":\"1054\"},{\"id\":\"1055\"},{\"id\":\"1056\"},{\"id\":\"1057\"},{\"id\":\"1058\"},{\"id\":\"1059\"},{\"id\":\"1060\"},{\"id\":\"1061\"},{\"id\":\"1062\"},{\"id\":\"1063\"},{\"id\":\"1064\"},{\"id\":\"1065\"}]},\"id\":\"1015\",\"type\":\"DatetimeTicker\"},{\"attributes\":{\"margin\":[5,5,5,5],\"name\":\"HSpacer01503\",\"sizing_mode\":\"stretch_width\"},\"id\":\"1002\",\"type\":\"Spacer\"},{\"attributes\":{\"axis\":{\"id\":\"1014\"},\"grid_line_color\":null,\"ticker\":null},\"id\":\"1017\",\"type\":\"Grid\"},{\"attributes\":{\"data_source\":{\"id\":\"1068\"},\"glyph\":{\"id\":\"1071\"},\"hover_glyph\":null,\"muted_glyph\":{\"id\":\"1073\"},\"nonselection_glyph\":{\"id\":\"1072\"},\"selection_glyph\":null,\"view\":{\"id\":\"1075\"}},\"id\":\"1074\",\"type\":\"GlyphRenderer\"},{\"attributes\":{\"axis\":{\"id\":\"1018\"},\"dimension\":1,\"grid_line_color\":null,\"ticker\":null},\"id\":\"1021\",\"type\":\"Grid\"},{\"attributes\":{\"source\":{\"id\":\"1068\"}},\"id\":\"1075\",\"type\":\"CDSView\"},{\"attributes\":{\"axis_label\":\"cooling_curves\",\"bounds\":\"auto\",\"formatter\":{\"id\":\"1036\"},\"major_label_orientation\":\"horizontal\",\"ticker\":{\"id\":\"1019\"}},\"id\":\"1018\",\"type\":\"LinearAxis\"},{\"attributes\":{\"children\":[{\"id\":\"1357\"},{\"id\":\"1358\"}],\"margin\":[0,0,0,0],\"min_width\":290,\"name\":\"Column01497\",\"width\":290},\"id\":\"1356\",\"type\":\"Column\"},{\"attributes\":{},\"id\":\"1053\",\"type\":\"UnionRenderers\"},{\"attributes\":{\"line_alpha\":0.2,\"line_color\":\"#fc4f30\",\"line_width\":2,\"x\":{\"field\":\"time\"},\"y\":{\"field\":\"cooling_curves\"}},\"id\":\"1073\",\"type\":\"Line\"},{\"attributes\":{},\"id\":\"1039\",\"type\":\"Selection\"},{\"attributes\":{\"line_color\":\"#fc4f30\",\"line_width\":2,\"x\":{\"field\":\"time\"},\"y\":{\"field\":\"cooling_curves\"}},\"id\":\"1071\",\"type\":\"Line\"},{\"attributes\":{\"args\":{\"bidirectional\":false,\"properties\":{},\"source\":{\"id\":\"1358\"},\"target\":{\"id\":\"1357\"}},\"code\":\"try { \\n    var labels = ['lat: <b>11</b>', 'lat: <b>12</b>', 'lat: <b>13</b>', 'lat: <b>14</b>', 'lat: <b>15</b>', 'lat: <b>16</b>', 'lat: <b>17</b>', 'lat: <b>18</b>', 'lat: <b>19</b>', 'lat: <b>20</b>']\\n    target.text = labels[source.value]\\n     } catch(err) { console.log(err) }\",\"tags\":[140253806489168]},\"id\":\"1384\",\"type\":\"CustomJS\"},{\"attributes\":{\"line_color\":\"#30a2da\",\"line_width\":2,\"x\":{\"field\":\"time\"},\"y\":{\"field\":\"cooling_curves\"}},\"id\":\"1041\",\"type\":\"Line\"},{\"attributes\":{\"children\":[{\"id\":\"1354\"},{\"id\":\"1355\"},{\"id\":\"1359\"}],\"margin\":[0,0,0,0],\"name\":\"Column01502\"},\"id\":\"1353\",\"type\":\"Column\"},{\"attributes\":{\"active_drag\":\"auto\",\"active_inspect\":\"auto\",\"active_multi\":null,\"active_scroll\":\"auto\",\"active_tap\":\"auto\",\"tools\":[{\"id\":\"1022\"},{\"id\":\"1023\"},{\"id\":\"1024\"},{\"id\":\"1025\"},{\"id\":\"1026\"}]},\"id\":\"1028\",\"type\":\"Toolbar\"},{\"attributes\":{},\"id\":\"1085\",\"type\":\"UnionRenderers\"},{\"attributes\":{},\"id\":\"1022\",\"type\":\"SaveTool\"},{\"attributes\":{},\"id\":\"1023\",\"type\":\"PanTool\"},{\"attributes\":{\"margin\":[20,0,0,20],\"name\":\"\",\"style\":{\"white-space\":\"nowrap\"},\"text\":\"lat: <b>11</b>\",\"width\":250},\"id\":\"1357\",\"type\":\"Div\"},{\"attributes\":{\"margin\":[5,5,5,5],\"name\":\"VSpacer01500\",\"sizing_mode\":\"stretch_height\"},\"id\":\"1354\",\"type\":\"Spacer\"},{\"attributes\":{\"label\":{\"value\":\"2.4\"},\"renderers\":[{\"id\":\"1074\"}]},\"id\":\"1098\",\"type\":\"LegendItem\"},{\"attributes\":{},\"id\":\"1024\",\"type\":\"WheelZoomTool\"},{\"attributes\":{\"end\":62100000.0,\"reset_end\":62100000.0,\"reset_start\":27000000.0,\"start\":27000000.0,\"tags\":[[[\"time\",\"time\",null]]]},\"id\":\"1003\",\"type\":\"Range1d\"},{\"attributes\":{\"overlay\":{\"id\":\"1027\"}},\"id\":\"1025\",\"type\":\"BoxZoomTool\"},{\"attributes\":{},\"id\":\"1100\",\"type\":\"Selection\"},{\"attributes\":{\"data\":{\"cooling_curves\":{\"__ndarray__\":\"/m3rGnDmW0B2vEo+jppbQE0DwI1uVltAT+EpsKMYW0A8KomuG+BaQDsJq05UqVpARK52gLl2WkDIgavUNEpaQD5QCSSTIFpAMFnpo3/5WUAULXJos9RZQOmw6XnysVlAKiExsUaPWUC85iYObW5ZQKSem0TfUFlA+SeyerI0WUAURJDGyRlZQOGHipkLAFlAPcKAP2HnWEAAsvxJb85YQF/hny+AtlhAv8c5gLegWEDHzqeWu4tYQM9gQTt/d1hA+Vo3avZjWEChEoIvFlFYQLK4xczWPVhAZIMpbjorWEAGA51RKhpYQLlfFpieCVhApYjeKJD5V0Drtxp0+OlXQMHWjWXR2ldA4myaz0fLV0CZ4SdRLbxXQBVm3GJCrldAlAzMSrOgV0D0GRHQe5NXQIX5jf+XhldAk5W9SVR5V0A=\",\"dtype\":\"float64\",\"order\":\"little\",\"shape\":[40]},\"time\":{\"__ndarray__\":\"AAAAAMy/eUEAAAAAhpt6QQAAAABAd3tBAAAAAPpSfEEAAAAAtC59QQAAAABuCn5BAAAAACjmfkEAAAAA4sF/QQAAAADOToBBAAAAAKu8gEEAAAAAiCqBQQAAAABlmIFBAAAAAEIGgkEAAAAAH3SCQQAAAAD84YJBAAAAANlPg0EAAAAAtr2DQQAAAACTK4RBAAAAAHCZhEEAAAAATQeFQQAAAAAqdYVBAAAAAAfjhUEAAAAA5FCGQQAAAADBvoZBAAAAAJ4sh0EAAAAAe5qHQQAAAABYCIhBAAAAADV2iEEAAAAAEuSIQQAAAADvUYlBAAAAAMy/iUEAAAAAqS2KQQAAAACGm4pBAAAAAGMJi0EAAAAAQHeLQQAAAAAd5YtBAAAAAPpSjEEAAAAA18CMQQAAAAC0Lo1BAAAAAJGcjUE=\",\"dtype\":\"float64\",\"order\":\"little\",\"shape\":[40]}},\"selected\":{\"id\":\"1100\"},\"selection_policy\":{\"id\":\"1118\"}},\"id\":\"1099\",\"type\":\"ColumnDataSource\"},{\"attributes\":{},\"id\":\"1026\",\"type\":\"ResetTool\"},{\"attributes\":{\"data\":{\"cooling_curves\":{\"__ndarray__\":\"E52Xv57QWkCkZ5wQUoBaQN7LXMJ8OFpAkxqujO/3WUBIs+SLCLhZQH7mTEV9gllA17nPXTdRWUD2mnSkayNZQA0UG8ja+FhAqrGU0/fQWEAo4lxIn6tYQGvzPththVhAbu1GS1pkWEAMoVVUFkVYQCdRLltgJ1hAoTk/gSwLWEDcKuWf6O1XQJkkl9ZY1FdAs8osbPK7V0C0/mbCjqRXQPOS0/opjldADqL+HaR4V0CFOB3h+mNXQKDGjMZQTldAyB2g4zQ7V0CxLWtxzChXQEEjM4wCF1dAQ/EQFdcFV0DxXIpivvNWQKW00iO041ZA7FrhLS7UVkAOUMT9HcVWQOPu5lSEtlZA7MqAdVSoVkBVc29Nj5pWQNR4bxP4i1ZAM3WWaPh+VkAv9jNAVHJWQOd6bDQCZlZAfKLBagNaVkA=\",\"dtype\":\"float64\",\"order\":\"little\",\"shape\":[40]},\"time\":{\"__ndarray__\":\"AAAAAMy/eUEAAAAAhpt6QQAAAABAd3tBAAAAAPpSfEEAAAAAtC59QQAAAABuCn5BAAAAACjmfkEAAAAA4sF/QQAAAADOToBBAAAAAKu8gEEAAAAAiCqBQQAAAABlmIFBAAAAAEIGgkEAAAAAH3SCQQAAAAD84YJBAAAAANlPg0EAAAAAtr2DQQAAAACTK4RBAAAAAHCZhEEAAAAATQeFQQAAAAAqdYVBAAAAAAfjhUEAAAAA5FCGQQAAAADBvoZBAAAAAJ4sh0EAAAAAe5qHQQAAAABYCIhBAAAAADV2iEEAAAAAEuSIQQAAAADvUYlBAAAAAMy/iUEAAAAAqS2KQQAAAACGm4pBAAAAAGMJi0EAAAAAQHeLQQAAAAAd5YtBAAAAAPpSjEEAAAAA18CMQQAAAAC0Lo1BAAAAAJGcjUE=\",\"dtype\":\"float64\",\"order\":\"little\",\"shape\":[40]}},\"selected\":{\"id\":\"1039\"},\"selection_policy\":{\"id\":\"1053\"}},\"id\":\"1038\",\"type\":\"ColumnDataSource\"},{\"attributes\":{\"data_source\":{\"id\":\"1099\"},\"glyph\":{\"id\":\"1102\"},\"hover_glyph\":null,\"muted_glyph\":{\"id\":\"1104\"},\"nonselection_glyph\":{\"id\":\"1103\"},\"selection_glyph\":null,\"view\":{\"id\":\"1106\"}},\"id\":\"1105\",\"type\":\"GlyphRenderer\"},{\"attributes\":{\"label\":{\"value\":\"1\"},\"renderers\":[{\"id\":\"1044\"}]},\"id\":\"1067\",\"type\":\"LegendItem\"},{\"attributes\":{\"line_color\":\"#e5ae38\",\"line_width\":2,\"x\":{\"field\":\"time\"},\"y\":{\"field\":\"cooling_curves\"}},\"id\":\"1102\",\"type\":\"Line\"},{\"attributes\":{\"base\":24,\"mantissas\":[1,2,4,6,8,12],\"max_interval\":43200000.0,\"min_interval\":3600000.0,\"num_minor_ticks\":0},\"id\":\"1056\",\"type\":\"AdaptiveTicker\"},{\"attributes\":{\"base\":60,\"mantissas\":[1,2,5,10,15,20,30],\"max_interval\":1800000.0,\"min_interval\":1000.0,\"num_minor_ticks\":0},\"id\":\"1055\",\"type\":\"AdaptiveTicker\"},{\"attributes\":{\"line_alpha\":0.2,\"line_color\":\"#e5ae38\",\"line_width\":2,\"x\":{\"field\":\"time\"},\"y\":{\"field\":\"cooling_curves\"}},\"id\":\"1104\",\"type\":\"Line\"},{\"attributes\":{\"source\":{\"id\":\"1099\"}},\"id\":\"1106\",\"type\":\"CDSView\"},{\"attributes\":{\"data_source\":{\"id\":\"1038\"},\"glyph\":{\"id\":\"1041\"},\"hover_glyph\":null,\"muted_glyph\":{\"id\":\"1043\"},\"nonselection_glyph\":{\"id\":\"1042\"},\"selection_glyph\":null,\"view\":{\"id\":\"1045\"}},\"id\":\"1044\",\"type\":\"GlyphRenderer\"},{\"attributes\":{\"children\":[{\"id\":\"1356\"}],\"css_classes\":[\"panel-widget-box\"],\"margin\":[5,5,5,5],\"name\":\"WidgetBox01488\"},\"id\":\"1355\",\"type\":\"Column\"},{\"attributes\":{\"data\":{\"cooling_curves\":{\"__ndarray__\":\"Y+nQaVGcW0CoKHfQNE9bQDupgQ4gCltAZpWxhJTLWkAiTMf1d5JaQKr+TvT3XVpAFS9VrmctWkB1YxoBPgBaQAh3aSkS1llA+MXi/oquWUBPwV4EXolZQFvH9F9MZllAoXjtqiFDWUBb01Le2iFZQAAO6UYmBFlAetzF79rnWEDwZ1fi2sxYQP+p36sLs1hAvN1w1VWaWEBIV+Z0pIJYQNVvftHka1hAsHQHGAZWWEBy8oQb+UBYQI625h+wLFhACIbxrB4ZWEBHU99nOQZYQLsPyI/Y8ldAkMp3rx/gV0AEeEKIFc9XQL/RtgWSvldAzE1H2I2uV0CZb9s+Ap9XQA7R5fjoj1dAYS8iOjyBV0CnHcCf9nJXQBuEyCYTZVdAiuKTI41XV0DVui06YEpXQPnchleIPVdAywAFuTwwV0A=\",\"dtype\":\"float64\",\"order\":\"little\",\"shape\":[40]},\"time\":{\"__ndarray__\":\"AAAAAMy/eUEAAAAAhpt6QQAAAABAd3tBAAAAAPpSfEEAAAAAtC59QQAAAABuCn5BAAAAACjmfkEAAAAA4sF/QQAAAADOToBBAAAAAKu8gEEAAAAAiCqBQQAAAABlmIFBAAAAAEIGgkEAAAAAH3SCQQAAAAD84YJBAAAAANlPg0EAAAAAtr2DQQAAAACTK4RBAAAAAHCZhEEAAAAATQeFQQAAAAAqdYVBAAAAAAfjhUEAAAAA5FCGQQAAAADBvoZBAAAAAJ4sh0EAAAAAe5qHQQAAAABYCIhBAAAAADV2iEEAAAAAEuSIQQAAAADvUYlBAAAAAMy/iUEAAAAAqS2KQQAAAACGm4pBAAAAAGMJi0EAAAAAQHeLQQAAAAAd5YtBAAAAAPpSjEEAAAAA18CMQQAAAAC0Lo1BAAAAAJGcjUE=\",\"dtype\":\"float64\",\"order\":\"little\",\"shape\":[40]}},\"selected\":{\"id\":\"1069\"},\"selection_policy\":{\"id\":\"1085\"}},\"id\":\"1068\",\"type\":\"ColumnDataSource\"},{\"attributes\":{\"margin\":[5,5,5,5],\"name\":\"HSpacer01504\",\"sizing_mode\":\"stretch_width\"},\"id\":\"1352\",\"type\":\"Spacer\"},{\"attributes\":{\"line_alpha\":0.2,\"line_color\":\"#30a2da\",\"line_width\":2,\"x\":{\"field\":\"time\"},\"y\":{\"field\":\"cooling_curves\"}},\"id\":\"1043\",\"type\":\"Line\"},{\"attributes\":{\"margin\":[5,5,5,5],\"name\":\"VSpacer01501\",\"sizing_mode\":\"stretch_height\"},\"id\":\"1359\",\"type\":\"Spacer\"},{\"attributes\":{\"mantissas\":[1,2,5],\"max_interval\":500.0,\"num_minor_ticks\":0},\"id\":\"1054\",\"type\":\"AdaptiveTicker\"},{\"attributes\":{\"label\":{\"value\":\"3\"},\"renderers\":[{\"id\":\"1105\"}]},\"id\":\"1131\",\"type\":\"LegendItem\"},{\"attributes\":{\"line_alpha\":0.1,\"line_color\":\"#30a2da\",\"line_width\":2,\"x\":{\"field\":\"time\"},\"y\":{\"field\":\"cooling_curves\"}},\"id\":\"1042\",\"type\":\"Line\"}],\"root_ids\":[\"1001\",\"1433\"]},\"title\":\"Bokeh Application\",\"version\":\"2.2.3\"}};\n",
       "    var render_items = [{\"docid\":\"30d29568-49a3-4b56-8a6f-7c1e1b740c62\",\"root_ids\":[\"1001\"],\"roots\":{\"1001\":\"9c038135-87d3-4c74-92be-167eddffd651\"}}];\n",
       "    root.Bokeh.embed.embed_items_notebook(docs_json, render_items);\n",
       "  }\n",
       "  if (root.Bokeh !== undefined && root.Bokeh.Panel !== undefined) {\n",
       "    embed_document(root);\n",
       "  } else {\n",
       "    var attempts = 0;\n",
       "    var timer = setInterval(function(root) {\n",
       "      if (root.Bokeh !== undefined && root.Bokeh.Panel !== undefined) {\n",
       "        clearInterval(timer);\n",
       "        embed_document(root);\n",
       "      } else if (document.readyState == \"complete\") {\n",
       "        attempts++;\n",
       "        if (attempts > 100) {\n",
       "          clearInterval(timer);\n",
       "          console.log(\"Bokeh: ERROR: Unable to run BokehJS code because BokehJS library is missing\");\n",
       "        }\n",
       "      }\n",
       "    }, 10, root)\n",
       "  }\n",
       "})(window);</script>"
      ],
      "text/plain": [
       ":DynamicMap   [lat]\n",
       "   :NdOverlay   [chi]\n",
       "      :Curve   [time]   (cooling_curves)"
      ]
     },
     "execution_count": 9,
     "metadata": {
      "application/vnd.holoviews_exec.v0+json": {
       "id": "1001"
      }
     },
     "output_type": "execute_result"
    }
   ],
   "source": [
    "stacked.sel(chi=[1, 2.4, 3], method=\"nearest\").hvplot(x=\"time\", by=\"chi\").opts()"
   ]
  },
  {
   "cell_type": "code",
   "execution_count": 8,
   "metadata": {},
   "outputs": [
    {
     "ename": "KeyError",
     "evalue": "\"not all values found in index 'lat'\"",
     "output_type": "error",
     "traceback": [
      "\u001b[0;31m---------------------------------------------------------------------------\u001b[0m",
      "\u001b[0;31mKeyError\u001b[0m                                  Traceback (most recent call last)",
      "\u001b[0;32m<ipython-input-8-21c0740f456d>\u001b[0m in \u001b[0;36m<module>\u001b[0;34m\u001b[0m\n\u001b[0;32m----> 1\u001b[0;31m \u001b[0mstacked\u001b[0m\u001b[0;34m.\u001b[0m\u001b[0msel\u001b[0m\u001b[0;34m(\u001b[0m\u001b[0mlat\u001b[0m\u001b[0;34m=\u001b[0m\u001b[0;34m[\u001b[0m\u001b[0;36m11\u001b[0m\u001b[0;34m,\u001b[0m \u001b[0;36m15\u001b[0m\u001b[0;34m,\u001b[0m \u001b[0;36m18\u001b[0m\u001b[0;34m,\u001b[0m \u001b[0;36m20\u001b[0m\u001b[0;34m]\u001b[0m\u001b[0;34m)\u001b[0m\u001b[0;34m.\u001b[0m\u001b[0mhvplot\u001b[0m\u001b[0;34m(\u001b[0m\u001b[0mx\u001b[0m\u001b[0;34m=\u001b[0m\u001b[0;34m'time'\u001b[0m\u001b[0;34m,\u001b[0m \u001b[0mby\u001b[0m\u001b[0;34m=\u001b[0m\u001b[0;34m'lat'\u001b[0m\u001b[0;34m)\u001b[0m\u001b[0;34m.\u001b[0m\u001b[0mopts\u001b[0m\u001b[0;34m(\u001b[0m\u001b[0;34m)\u001b[0m\u001b[0;34m\u001b[0m\u001b[0;34m\u001b[0m\u001b[0m\n\u001b[0m",
      "\u001b[0;32m/luna4/maye/miniconda3/envs/py38/lib/python3.8/site-packages/xarray/core/dataarray.py\u001b[0m in \u001b[0;36msel\u001b[0;34m(self, indexers, method, tolerance, drop, **indexers_kwargs)\u001b[0m\n\u001b[1;32m   1200\u001b[0m \u001b[0;34m\u001b[0m\u001b[0m\n\u001b[1;32m   1201\u001b[0m         \"\"\"\n\u001b[0;32m-> 1202\u001b[0;31m         ds = self._to_temp_dataset().sel(\n\u001b[0m\u001b[1;32m   1203\u001b[0m             \u001b[0mindexers\u001b[0m\u001b[0;34m=\u001b[0m\u001b[0mindexers\u001b[0m\u001b[0;34m,\u001b[0m\u001b[0;34m\u001b[0m\u001b[0;34m\u001b[0m\u001b[0m\n\u001b[1;32m   1204\u001b[0m             \u001b[0mdrop\u001b[0m\u001b[0;34m=\u001b[0m\u001b[0mdrop\u001b[0m\u001b[0;34m,\u001b[0m\u001b[0;34m\u001b[0m\u001b[0;34m\u001b[0m\u001b[0m\n",
      "\u001b[0;32m/luna4/maye/miniconda3/envs/py38/lib/python3.8/site-packages/xarray/core/dataset.py\u001b[0m in \u001b[0;36msel\u001b[0;34m(self, indexers, method, tolerance, drop, **indexers_kwargs)\u001b[0m\n\u001b[1;32m   2180\u001b[0m         \"\"\"\n\u001b[1;32m   2181\u001b[0m         \u001b[0mindexers\u001b[0m \u001b[0;34m=\u001b[0m \u001b[0meither_dict_or_kwargs\u001b[0m\u001b[0;34m(\u001b[0m\u001b[0mindexers\u001b[0m\u001b[0;34m,\u001b[0m \u001b[0mindexers_kwargs\u001b[0m\u001b[0;34m,\u001b[0m \u001b[0;34m\"sel\"\u001b[0m\u001b[0;34m)\u001b[0m\u001b[0;34m\u001b[0m\u001b[0;34m\u001b[0m\u001b[0m\n\u001b[0;32m-> 2182\u001b[0;31m         pos_indexers, new_indexes = remap_label_indexers(\n\u001b[0m\u001b[1;32m   2183\u001b[0m             \u001b[0mself\u001b[0m\u001b[0;34m,\u001b[0m \u001b[0mindexers\u001b[0m\u001b[0;34m=\u001b[0m\u001b[0mindexers\u001b[0m\u001b[0;34m,\u001b[0m \u001b[0mmethod\u001b[0m\u001b[0;34m=\u001b[0m\u001b[0mmethod\u001b[0m\u001b[0;34m,\u001b[0m \u001b[0mtolerance\u001b[0m\u001b[0;34m=\u001b[0m\u001b[0mtolerance\u001b[0m\u001b[0;34m\u001b[0m\u001b[0;34m\u001b[0m\u001b[0m\n\u001b[1;32m   2184\u001b[0m         )\n",
      "\u001b[0;32m/luna4/maye/miniconda3/envs/py38/lib/python3.8/site-packages/xarray/core/coordinates.py\u001b[0m in \u001b[0;36mremap_label_indexers\u001b[0;34m(obj, indexers, method, tolerance, **indexers_kwargs)\u001b[0m\n\u001b[1;32m    395\u001b[0m     }\n\u001b[1;32m    396\u001b[0m \u001b[0;34m\u001b[0m\u001b[0m\n\u001b[0;32m--> 397\u001b[0;31m     pos_indexers, new_indexes = indexing.remap_label_indexers(\n\u001b[0m\u001b[1;32m    398\u001b[0m         \u001b[0mobj\u001b[0m\u001b[0;34m,\u001b[0m \u001b[0mv_indexers\u001b[0m\u001b[0;34m,\u001b[0m \u001b[0mmethod\u001b[0m\u001b[0;34m=\u001b[0m\u001b[0mmethod\u001b[0m\u001b[0;34m,\u001b[0m \u001b[0mtolerance\u001b[0m\u001b[0;34m=\u001b[0m\u001b[0mtolerance\u001b[0m\u001b[0;34m\u001b[0m\u001b[0;34m\u001b[0m\u001b[0m\n\u001b[1;32m    399\u001b[0m     )\n",
      "\u001b[0;32m/luna4/maye/miniconda3/envs/py38/lib/python3.8/site-packages/xarray/core/indexing.py\u001b[0m in \u001b[0;36mremap_label_indexers\u001b[0;34m(data_obj, indexers, method, tolerance)\u001b[0m\n\u001b[1;32m    268\u001b[0m             \u001b[0mcoords_dtype\u001b[0m \u001b[0;34m=\u001b[0m \u001b[0mdata_obj\u001b[0m\u001b[0;34m.\u001b[0m\u001b[0mcoords\u001b[0m\u001b[0;34m[\u001b[0m\u001b[0mdim\u001b[0m\u001b[0;34m]\u001b[0m\u001b[0;34m.\u001b[0m\u001b[0mdtype\u001b[0m\u001b[0;34m\u001b[0m\u001b[0;34m\u001b[0m\u001b[0m\n\u001b[1;32m    269\u001b[0m             \u001b[0mlabel\u001b[0m \u001b[0;34m=\u001b[0m \u001b[0mmaybe_cast_to_coords_dtype\u001b[0m\u001b[0;34m(\u001b[0m\u001b[0mlabel\u001b[0m\u001b[0;34m,\u001b[0m \u001b[0mcoords_dtype\u001b[0m\u001b[0;34m)\u001b[0m\u001b[0;34m\u001b[0m\u001b[0;34m\u001b[0m\u001b[0m\n\u001b[0;32m--> 270\u001b[0;31m             \u001b[0midxr\u001b[0m\u001b[0;34m,\u001b[0m \u001b[0mnew_idx\u001b[0m \u001b[0;34m=\u001b[0m \u001b[0mconvert_label_indexer\u001b[0m\u001b[0;34m(\u001b[0m\u001b[0mindex\u001b[0m\u001b[0;34m,\u001b[0m \u001b[0mlabel\u001b[0m\u001b[0;34m,\u001b[0m \u001b[0mdim\u001b[0m\u001b[0;34m,\u001b[0m \u001b[0mmethod\u001b[0m\u001b[0;34m,\u001b[0m \u001b[0mtolerance\u001b[0m\u001b[0;34m)\u001b[0m\u001b[0;34m\u001b[0m\u001b[0;34m\u001b[0m\u001b[0m\n\u001b[0m\u001b[1;32m    271\u001b[0m             \u001b[0mpos_indexers\u001b[0m\u001b[0;34m[\u001b[0m\u001b[0mdim\u001b[0m\u001b[0;34m]\u001b[0m \u001b[0;34m=\u001b[0m \u001b[0midxr\u001b[0m\u001b[0;34m\u001b[0m\u001b[0;34m\u001b[0m\u001b[0m\n\u001b[1;32m    272\u001b[0m             \u001b[0;32mif\u001b[0m \u001b[0mnew_idx\u001b[0m \u001b[0;32mis\u001b[0m \u001b[0;32mnot\u001b[0m \u001b[0;32mNone\u001b[0m\u001b[0;34m:\u001b[0m\u001b[0;34m\u001b[0m\u001b[0;34m\u001b[0m\u001b[0m\n",
      "\u001b[0;32m/luna4/maye/miniconda3/envs/py38/lib/python3.8/site-packages/xarray/core/indexing.py\u001b[0m in \u001b[0;36mconvert_label_indexer\u001b[0;34m(index, label, index_name, method, tolerance)\u001b[0m\n\u001b[1;32m    200\u001b[0m             \u001b[0mindexer\u001b[0m \u001b[0;34m=\u001b[0m \u001b[0mget_indexer_nd\u001b[0m\u001b[0;34m(\u001b[0m\u001b[0mindex\u001b[0m\u001b[0;34m,\u001b[0m \u001b[0mlabel\u001b[0m\u001b[0;34m,\u001b[0m \u001b[0mmethod\u001b[0m\u001b[0;34m,\u001b[0m \u001b[0mtolerance\u001b[0m\u001b[0;34m)\u001b[0m\u001b[0;34m\u001b[0m\u001b[0;34m\u001b[0m\u001b[0m\n\u001b[1;32m    201\u001b[0m             \u001b[0;32mif\u001b[0m \u001b[0mnp\u001b[0m\u001b[0;34m.\u001b[0m\u001b[0many\u001b[0m\u001b[0;34m(\u001b[0m\u001b[0mindexer\u001b[0m \u001b[0;34m<\u001b[0m \u001b[0;36m0\u001b[0m\u001b[0;34m)\u001b[0m\u001b[0;34m:\u001b[0m\u001b[0;34m\u001b[0m\u001b[0;34m\u001b[0m\u001b[0m\n\u001b[0;32m--> 202\u001b[0;31m                 \u001b[0;32mraise\u001b[0m \u001b[0mKeyError\u001b[0m\u001b[0;34m(\u001b[0m\u001b[0;34mf\"not all values found in index {index_name!r}\"\u001b[0m\u001b[0;34m)\u001b[0m\u001b[0;34m\u001b[0m\u001b[0;34m\u001b[0m\u001b[0m\n\u001b[0m\u001b[1;32m    203\u001b[0m     \u001b[0;32mreturn\u001b[0m \u001b[0mindexer\u001b[0m\u001b[0;34m,\u001b[0m \u001b[0mnew_index\u001b[0m\u001b[0;34m\u001b[0m\u001b[0;34m\u001b[0m\u001b[0m\n\u001b[1;32m    204\u001b[0m \u001b[0;34m\u001b[0m\u001b[0m\n",
      "\u001b[0;31mKeyError\u001b[0m: \"not all values found in index 'lat'\""
     ]
    }
   ],
   "source": [
    "stacked.sel(lat=[11, 15, 18, 20]).hvplot(x=\"time\", by=\"lat\").opts()"
   ]
  },
  {
   "cell_type": "code",
   "execution_count": null,
   "metadata": {},
   "outputs": [],
   "source": []
  }
 ],
 "metadata": {
  "kernelspec": {
   "display_name": "Python 3",
   "language": "python",
   "name": "python3"
  },
  "language_info": {
   "codemirror_mode": {
    "name": "ipython",
    "version": 3
   },
   "file_extension": ".py",
   "mimetype": "text/x-python",
   "name": "python",
   "nbconvert_exporter": "python",
   "pygments_lexer": "ipython3",
   "version": "3.8.6"
  }
 },
 "nbformat": 4,
 "nbformat_minor": 4
}
