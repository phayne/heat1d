{
 "cells": [
  {
   "cell_type": "code",
   "execution_count": 1,
   "metadata": {},
   "outputs": [],
   "source": [
    "import planets\n",
    "import heat1d"
   ]
  },
  {
   "cell_type": "code",
   "execution_count": 2,
   "metadata": {},
   "outputs": [],
   "source": [
    "# Latitude\n",
    "lat = 0.0\n",
    "\n",
    "# Planet\n",
    "p = planets.Ganymede\n",
    "\n",
    "# Create model\n",
    "m = heat1d.Model(p, lat*np.pi/180.0, 5)\n",
    "\n",
    "# Run model\n",
    "m.run()"
   ]
  },
  {
   "cell_type": "code",
   "execution_count": 3,
   "metadata": {},
   "outputs": [
    {
     "data": {
      "text/plain": [
       "array([0.        , 0.00793527, 0.0174576 , 0.02888439, 0.04259653,\n",
       "       0.05905111, 0.0787966 , 0.10249119, 0.1309247 , 0.16504491,\n",
       "       0.20598917, 0.25512227, 0.314082  , 0.38483367, 0.46973567,\n",
       "       0.57161808, 0.69387696, 0.84058763, 1.01664042, 1.22790378,\n",
       "       1.4814198 ])"
      ]
     },
     "execution_count": 3,
     "metadata": {},
     "output_type": "execute_result"
    }
   ],
   "source": [
    "m.profile.z"
   ]
  },
  {
   "cell_type": "code",
   "execution_count": 4,
   "metadata": {},
   "outputs": [
    {
     "data": {
      "text/plain": [
       "array([144.93631774, 127.14246827, 115.15441039, 109.92896566,\n",
       "       109.44071297, 110.68422886, 111.56900956, 111.78580674,\n",
       "       111.77642337, 111.79159461, 111.83348676, 111.88469548,\n",
       "       111.94763016, 112.02726038, 112.1298442 , 112.26449649,\n",
       "       112.4448321 , 112.69131542, 113.0347773 , 113.52126202,\n",
       "       114.21758733])"
      ]
     },
     "execution_count": 4,
     "metadata": {},
     "output_type": "execute_result"
    }
   ],
   "source": [
    "m.profile.T"
   ]
  },
  {
   "cell_type": "code",
   "execution_count": null,
   "metadata": {},
   "outputs": [],
   "source": []
  }
 ],
 "metadata": {
  "kernelspec": {
   "display_name": "Python [conda env:py37] *",
   "language": "python",
   "name": "conda-env-py37-py"
  },
  "language_info": {
   "codemirror_mode": {
    "name": "ipython",
    "version": 3
   },
   "file_extension": ".py",
   "mimetype": "text/x-python",
   "name": "python",
   "nbconvert_exporter": "python",
   "pygments_lexer": "ipython3",
   "version": "3.7.8"
  },
  "widgets": {
   "application/vnd.jupyter.widget-state+json": {
    "state": {},
    "version_major": 2,
    "version_minor": 0
   }
  }
 },
 "nbformat": 4,
 "nbformat_minor": 4
}
