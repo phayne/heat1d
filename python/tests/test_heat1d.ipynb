{
 "cells": [
  {
   "cell_type": "code",
   "execution_count": 1,
   "metadata": {},
   "outputs": [],
   "source": [
    "import planets\n",
    "import heat1d"
   ]
  },
  {
   "cell_type": "code",
   "execution_count": 8,
   "metadata": {},
   "outputs": [],
   "source": [
    "# Latitude\n",
    "lat = 0.0\n",
    "\n",
    "# Planet\n",
    "p = planets.Moon\n",
    "\n",
    "# Create model\n",
    "m = heat1d.Model(p, lat*np.pi/180.0, 5)\n",
    "\n",
    "# Run model\n",
    "m.run()"
   ]
  },
  {
   "cell_type": "code",
   "execution_count": 6,
   "metadata": {},
   "outputs": [
    {
     "data": {
      "text/plain": [
       "array([0.        , 0.00362112, 0.00796647, 0.01318088, 0.01943818,\n",
       "       0.02694694, 0.03595745, 0.04677006, 0.0597452 , 0.07531536,\n",
       "       0.09399955, 0.11642058, 0.14332582, 0.17561211, 0.21435565,\n",
       "       0.2608479 , 0.3166386 , 0.38358745, 0.46392606, 0.56033239,\n",
       "       0.67601999])"
      ]
     },
     "execution_count": 6,
     "metadata": {},
     "output_type": "execute_result"
    }
   ],
   "source": [
    "m.profile.z"
   ]
  },
  {
   "cell_type": "code",
   "execution_count": 9,
   "metadata": {},
   "outputs": [
    {
     "data": {
      "text/plain": [
       "array([0.        , 0.00362112, 0.00796647, 0.01318088, 0.01943818,\n",
       "       0.02694694, 0.03595745, 0.04677006, 0.0597452 , 0.07531536,\n",
       "       0.09399955, 0.11642058, 0.14332582, 0.17561211, 0.21435565,\n",
       "       0.2608479 , 0.3166386 , 0.38358745, 0.46392606, 0.56033239,\n",
       "       0.67601999])"
      ]
     },
     "execution_count": 9,
     "metadata": {},
     "output_type": "execute_result"
    }
   ],
   "source": [
    "m.profile.z"
   ]
  },
  {
   "cell_type": "code",
   "execution_count": 7,
   "metadata": {},
   "outputs": [
    {
     "data": {
      "text/plain": [
       "array([383.00969802, 371.63831213, 359.34124228, 346.03894944,\n",
       "       331.70453253, 316.43504851, 300.55779417, 284.77410536,\n",
       "       270.28229462, 258.71064469, 251.61949215, 249.59300808,\n",
       "       251.61105086, 255.52750754, 259.30980954, 261.87912996,\n",
       "       263.16844078, 263.73420839, 264.15946212, 264.59384401,\n",
       "       264.87695541])"
      ]
     },
     "execution_count": 7,
     "metadata": {},
     "output_type": "execute_result"
    }
   ],
   "source": [
    "m.profile.T"
   ]
  },
  {
   "cell_type": "code",
   "execution_count": 10,
   "metadata": {},
   "outputs": [
    {
     "data": {
      "text/plain": [
       "array([383.00969802, 371.63831213, 359.34124228, 346.03894944,\n",
       "       331.70453253, 316.43504851, 300.55779417, 284.77410536,\n",
       "       270.28229462, 258.71064469, 251.61949215, 249.59300808,\n",
       "       251.61105086, 255.52750754, 259.30980954, 261.87912996,\n",
       "       263.16844078, 263.73420839, 264.15946212, 264.59384401,\n",
       "       264.87695541])"
      ]
     },
     "execution_count": 10,
     "metadata": {},
     "output_type": "execute_result"
    }
   ],
   "source": [
    "m.profile.T"
   ]
  },
  {
   "cell_type": "code",
   "execution_count": null,
   "metadata": {},
   "outputs": [],
   "source": []
  }
 ],
 "metadata": {
  "kernelspec": {
   "display_name": "Python [conda env:py37] *",
   "language": "python",
   "name": "conda-env-py37-py"
  },
  "language_info": {
   "codemirror_mode": {
    "name": "ipython",
    "version": 3
   },
   "file_extension": ".py",
   "mimetype": "text/x-python",
   "name": "python",
   "nbconvert_exporter": "python",
   "pygments_lexer": "ipython3",
   "version": "3.7.8"
  },
  "widgets": {
   "application/vnd.jupyter.widget-state+json": {
    "state": {},
    "version_major": 2,
    "version_minor": 0
   }
  }
 },
 "nbformat": 4,
 "nbformat_minor": 4
}
